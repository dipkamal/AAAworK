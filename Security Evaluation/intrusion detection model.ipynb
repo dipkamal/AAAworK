{
 "cells": [
  {
   "cell_type": "markdown",
   "id": "53b6acb7",
   "metadata": {},
   "source": [
    "We use the CIC-IDS2017 dataset to build a network intrusion detection model, then perform adversarial attacks to generate adversarial samples that evade the classification of the model. You can download the dataset from official CIC website or from Kaggle. For making adversarial attacks on intrusion detector, we use an excellent repository by Mohamed Amine Merzouk, Frederic Cuppens,Nora Boulahia-Cuppens3, and Reda Yaich. Their official github repo is [here](https://github.com/mamerzouk/adversarial_analysis/tree/master)."
   ]
  },
  {
   "cell_type": "code",
   "execution_count": 278,
   "id": "a35e046e",
   "metadata": {},
   "outputs": [],
   "source": [
    "import numpy as np\n",
    "import pandas as pd\n",
    "import matplotlib.pyplot as plt\n",
    "import seaborn as sb\n",
    "import copy\n",
    "import time as time\n",
    "\n",
    "import torch\n",
    "import torch.nn as nn\n",
    "import torch.nn.functional as F\n",
    "import torch.optim as optim\n",
    "\n",
    "from sklearn.metrics import classification_report\n",
    "from sklearn.decomposition import PCA\n",
    "from sklearn.feature_selection import chi2\n",
    "\n",
    "from art.attacks.evasion import FastGradientMethod, BasicIterativeMethod, ProjectedGradientDescent, DeepFool, CarliniL2Method, CarliniLInfMethod\n",
    "from art.estimators.classification import PyTorchClassifier\n",
    "\n",
    "%matplotlib inline\n",
    "\n",
    "pd.options.display.max_columns = 200\n",
    "pd.options.display.max_rows = 200"
   ]
  },
  {
   "cell_type": "code",
   "execution_count": 279,
   "id": "e5bb65dd",
   "metadata": {},
   "outputs": [
    {
     "data": {
      "text/html": [
       "<div>\n",
       "<style scoped>\n",
       "    .dataframe tbody tr th:only-of-type {\n",
       "        vertical-align: middle;\n",
       "    }\n",
       "\n",
       "    .dataframe tbody tr th {\n",
       "        vertical-align: top;\n",
       "    }\n",
       "\n",
       "    .dataframe thead th {\n",
       "        text-align: right;\n",
       "    }\n",
       "</style>\n",
       "<table border=\"1\" class=\"dataframe\">\n",
       "  <thead>\n",
       "    <tr style=\"text-align: right;\">\n",
       "      <th></th>\n",
       "      <th>Destination Port</th>\n",
       "      <th>Flow Duration</th>\n",
       "      <th>Total Fwd Packets</th>\n",
       "      <th>Total Backward Packets</th>\n",
       "      <th>Total Length of Fwd Packets</th>\n",
       "      <th>Total Length of Bwd Packets</th>\n",
       "      <th>Fwd Packet Length Max</th>\n",
       "      <th>Fwd Packet Length Min</th>\n",
       "      <th>Fwd Packet Length Mean</th>\n",
       "      <th>Fwd Packet Length Std</th>\n",
       "      <th>Bwd Packet Length Max</th>\n",
       "      <th>Bwd Packet Length Min</th>\n",
       "      <th>Bwd Packet Length Mean</th>\n",
       "      <th>Bwd Packet Length Std</th>\n",
       "      <th>Flow Bytes/s</th>\n",
       "      <th>Flow Packets/s</th>\n",
       "      <th>Flow IAT Mean</th>\n",
       "      <th>Flow IAT Std</th>\n",
       "      <th>Flow IAT Max</th>\n",
       "      <th>Flow IAT Min</th>\n",
       "      <th>Fwd IAT Total</th>\n",
       "      <th>Fwd IAT Mean</th>\n",
       "      <th>Fwd IAT Std</th>\n",
       "      <th>Fwd IAT Max</th>\n",
       "      <th>Fwd IAT Min</th>\n",
       "      <th>Bwd IAT Total</th>\n",
       "      <th>Bwd IAT Mean</th>\n",
       "      <th>Bwd IAT Std</th>\n",
       "      <th>Bwd IAT Max</th>\n",
       "      <th>Bwd IAT Min</th>\n",
       "      <th>Fwd PSH Flags</th>\n",
       "      <th>Bwd PSH Flags</th>\n",
       "      <th>Fwd URG Flags</th>\n",
       "      <th>Bwd URG Flags</th>\n",
       "      <th>Fwd Header Length</th>\n",
       "      <th>Bwd Header Length</th>\n",
       "      <th>Fwd Packets/s</th>\n",
       "      <th>Bwd Packets/s</th>\n",
       "      <th>Min Packet Length</th>\n",
       "      <th>Max Packet Length</th>\n",
       "      <th>Packet Length Mean</th>\n",
       "      <th>Packet Length Std</th>\n",
       "      <th>Packet Length Variance</th>\n",
       "      <th>FIN Flag Count</th>\n",
       "      <th>SYN Flag Count</th>\n",
       "      <th>RST Flag Count</th>\n",
       "      <th>PSH Flag Count</th>\n",
       "      <th>ACK Flag Count</th>\n",
       "      <th>URG Flag Count</th>\n",
       "      <th>CWE Flag Count</th>\n",
       "      <th>ECE Flag Count</th>\n",
       "      <th>Down/Up Ratio</th>\n",
       "      <th>Average Packet Size</th>\n",
       "      <th>Avg Fwd Segment Size</th>\n",
       "      <th>Avg Bwd Segment Size</th>\n",
       "      <th>Fwd Header Length.1</th>\n",
       "      <th>Fwd Avg Bytes/Bulk</th>\n",
       "      <th>Fwd Avg Packets/Bulk</th>\n",
       "      <th>Fwd Avg Bulk Rate</th>\n",
       "      <th>Bwd Avg Bytes/Bulk</th>\n",
       "      <th>Bwd Avg Packets/Bulk</th>\n",
       "      <th>Bwd Avg Bulk Rate</th>\n",
       "      <th>Subflow Fwd Packets</th>\n",
       "      <th>Subflow Fwd Bytes</th>\n",
       "      <th>Subflow Bwd Packets</th>\n",
       "      <th>Subflow Bwd Bytes</th>\n",
       "      <th>Init_Win_bytes_forward</th>\n",
       "      <th>Init_Win_bytes_backward</th>\n",
       "      <th>act_data_pkt_fwd</th>\n",
       "      <th>min_seg_size_forward</th>\n",
       "      <th>Active Mean</th>\n",
       "      <th>Active Std</th>\n",
       "      <th>Active Max</th>\n",
       "      <th>Active Min</th>\n",
       "      <th>Idle Mean</th>\n",
       "      <th>Idle Std</th>\n",
       "      <th>Idle Max</th>\n",
       "      <th>Idle Min</th>\n",
       "      <th>Label</th>\n",
       "    </tr>\n",
       "  </thead>\n",
       "  <tbody>\n",
       "    <tr>\n",
       "      <th>0</th>\n",
       "      <td>54865</td>\n",
       "      <td>3</td>\n",
       "      <td>2</td>\n",
       "      <td>0</td>\n",
       "      <td>12</td>\n",
       "      <td>0</td>\n",
       "      <td>6</td>\n",
       "      <td>6</td>\n",
       "      <td>6.0</td>\n",
       "      <td>0.0</td>\n",
       "      <td>0</td>\n",
       "      <td>0</td>\n",
       "      <td>0.0</td>\n",
       "      <td>0.0</td>\n",
       "      <td>4.000000e+06</td>\n",
       "      <td>666666.66670</td>\n",
       "      <td>3.0</td>\n",
       "      <td>0.0</td>\n",
       "      <td>3</td>\n",
       "      <td>3</td>\n",
       "      <td>3</td>\n",
       "      <td>3.0</td>\n",
       "      <td>0.0</td>\n",
       "      <td>3</td>\n",
       "      <td>3</td>\n",
       "      <td>0</td>\n",
       "      <td>0.0</td>\n",
       "      <td>0.0</td>\n",
       "      <td>0</td>\n",
       "      <td>0</td>\n",
       "      <td>0</td>\n",
       "      <td>0</td>\n",
       "      <td>0</td>\n",
       "      <td>0</td>\n",
       "      <td>40</td>\n",
       "      <td>0</td>\n",
       "      <td>666666.666700</td>\n",
       "      <td>0.000000</td>\n",
       "      <td>6</td>\n",
       "      <td>6</td>\n",
       "      <td>6.0</td>\n",
       "      <td>0.0</td>\n",
       "      <td>0.0</td>\n",
       "      <td>0</td>\n",
       "      <td>0</td>\n",
       "      <td>0</td>\n",
       "      <td>0</td>\n",
       "      <td>1</td>\n",
       "      <td>0</td>\n",
       "      <td>0</td>\n",
       "      <td>0</td>\n",
       "      <td>0</td>\n",
       "      <td>9.0</td>\n",
       "      <td>6.0</td>\n",
       "      <td>0.0</td>\n",
       "      <td>40</td>\n",
       "      <td>0</td>\n",
       "      <td>0</td>\n",
       "      <td>0</td>\n",
       "      <td>0</td>\n",
       "      <td>0</td>\n",
       "      <td>0</td>\n",
       "      <td>2</td>\n",
       "      <td>12</td>\n",
       "      <td>0</td>\n",
       "      <td>0</td>\n",
       "      <td>33</td>\n",
       "      <td>-1</td>\n",
       "      <td>1</td>\n",
       "      <td>20</td>\n",
       "      <td>0.0</td>\n",
       "      <td>0.0</td>\n",
       "      <td>0</td>\n",
       "      <td>0</td>\n",
       "      <td>0.0</td>\n",
       "      <td>0.0</td>\n",
       "      <td>0</td>\n",
       "      <td>0</td>\n",
       "      <td>BENIGN</td>\n",
       "    </tr>\n",
       "    <tr>\n",
       "      <th>1</th>\n",
       "      <td>55054</td>\n",
       "      <td>109</td>\n",
       "      <td>1</td>\n",
       "      <td>1</td>\n",
       "      <td>6</td>\n",
       "      <td>6</td>\n",
       "      <td>6</td>\n",
       "      <td>6</td>\n",
       "      <td>6.0</td>\n",
       "      <td>0.0</td>\n",
       "      <td>6</td>\n",
       "      <td>6</td>\n",
       "      <td>6.0</td>\n",
       "      <td>0.0</td>\n",
       "      <td>1.100917e+05</td>\n",
       "      <td>18348.62385</td>\n",
       "      <td>109.0</td>\n",
       "      <td>0.0</td>\n",
       "      <td>109</td>\n",
       "      <td>109</td>\n",
       "      <td>0</td>\n",
       "      <td>0.0</td>\n",
       "      <td>0.0</td>\n",
       "      <td>0</td>\n",
       "      <td>0</td>\n",
       "      <td>0</td>\n",
       "      <td>0.0</td>\n",
       "      <td>0.0</td>\n",
       "      <td>0</td>\n",
       "      <td>0</td>\n",
       "      <td>0</td>\n",
       "      <td>0</td>\n",
       "      <td>0</td>\n",
       "      <td>0</td>\n",
       "      <td>20</td>\n",
       "      <td>20</td>\n",
       "      <td>9174.311927</td>\n",
       "      <td>9174.311927</td>\n",
       "      <td>6</td>\n",
       "      <td>6</td>\n",
       "      <td>6.0</td>\n",
       "      <td>0.0</td>\n",
       "      <td>0.0</td>\n",
       "      <td>0</td>\n",
       "      <td>0</td>\n",
       "      <td>0</td>\n",
       "      <td>0</td>\n",
       "      <td>1</td>\n",
       "      <td>1</td>\n",
       "      <td>0</td>\n",
       "      <td>0</td>\n",
       "      <td>1</td>\n",
       "      <td>9.0</td>\n",
       "      <td>6.0</td>\n",
       "      <td>6.0</td>\n",
       "      <td>20</td>\n",
       "      <td>0</td>\n",
       "      <td>0</td>\n",
       "      <td>0</td>\n",
       "      <td>0</td>\n",
       "      <td>0</td>\n",
       "      <td>0</td>\n",
       "      <td>1</td>\n",
       "      <td>6</td>\n",
       "      <td>1</td>\n",
       "      <td>6</td>\n",
       "      <td>29</td>\n",
       "      <td>256</td>\n",
       "      <td>0</td>\n",
       "      <td>20</td>\n",
       "      <td>0.0</td>\n",
       "      <td>0.0</td>\n",
       "      <td>0</td>\n",
       "      <td>0</td>\n",
       "      <td>0.0</td>\n",
       "      <td>0.0</td>\n",
       "      <td>0</td>\n",
       "      <td>0</td>\n",
       "      <td>BENIGN</td>\n",
       "    </tr>\n",
       "    <tr>\n",
       "      <th>2</th>\n",
       "      <td>55055</td>\n",
       "      <td>52</td>\n",
       "      <td>1</td>\n",
       "      <td>1</td>\n",
       "      <td>6</td>\n",
       "      <td>6</td>\n",
       "      <td>6</td>\n",
       "      <td>6</td>\n",
       "      <td>6.0</td>\n",
       "      <td>0.0</td>\n",
       "      <td>6</td>\n",
       "      <td>6</td>\n",
       "      <td>6.0</td>\n",
       "      <td>0.0</td>\n",
       "      <td>2.307692e+05</td>\n",
       "      <td>38461.53846</td>\n",
       "      <td>52.0</td>\n",
       "      <td>0.0</td>\n",
       "      <td>52</td>\n",
       "      <td>52</td>\n",
       "      <td>0</td>\n",
       "      <td>0.0</td>\n",
       "      <td>0.0</td>\n",
       "      <td>0</td>\n",
       "      <td>0</td>\n",
       "      <td>0</td>\n",
       "      <td>0.0</td>\n",
       "      <td>0.0</td>\n",
       "      <td>0</td>\n",
       "      <td>0</td>\n",
       "      <td>0</td>\n",
       "      <td>0</td>\n",
       "      <td>0</td>\n",
       "      <td>0</td>\n",
       "      <td>20</td>\n",
       "      <td>20</td>\n",
       "      <td>19230.769230</td>\n",
       "      <td>19230.769230</td>\n",
       "      <td>6</td>\n",
       "      <td>6</td>\n",
       "      <td>6.0</td>\n",
       "      <td>0.0</td>\n",
       "      <td>0.0</td>\n",
       "      <td>0</td>\n",
       "      <td>0</td>\n",
       "      <td>0</td>\n",
       "      <td>0</td>\n",
       "      <td>1</td>\n",
       "      <td>1</td>\n",
       "      <td>0</td>\n",
       "      <td>0</td>\n",
       "      <td>1</td>\n",
       "      <td>9.0</td>\n",
       "      <td>6.0</td>\n",
       "      <td>6.0</td>\n",
       "      <td>20</td>\n",
       "      <td>0</td>\n",
       "      <td>0</td>\n",
       "      <td>0</td>\n",
       "      <td>0</td>\n",
       "      <td>0</td>\n",
       "      <td>0</td>\n",
       "      <td>1</td>\n",
       "      <td>6</td>\n",
       "      <td>1</td>\n",
       "      <td>6</td>\n",
       "      <td>29</td>\n",
       "      <td>256</td>\n",
       "      <td>0</td>\n",
       "      <td>20</td>\n",
       "      <td>0.0</td>\n",
       "      <td>0.0</td>\n",
       "      <td>0</td>\n",
       "      <td>0</td>\n",
       "      <td>0.0</td>\n",
       "      <td>0.0</td>\n",
       "      <td>0</td>\n",
       "      <td>0</td>\n",
       "      <td>BENIGN</td>\n",
       "    </tr>\n",
       "    <tr>\n",
       "      <th>3</th>\n",
       "      <td>46236</td>\n",
       "      <td>34</td>\n",
       "      <td>1</td>\n",
       "      <td>1</td>\n",
       "      <td>6</td>\n",
       "      <td>6</td>\n",
       "      <td>6</td>\n",
       "      <td>6</td>\n",
       "      <td>6.0</td>\n",
       "      <td>0.0</td>\n",
       "      <td>6</td>\n",
       "      <td>6</td>\n",
       "      <td>6.0</td>\n",
       "      <td>0.0</td>\n",
       "      <td>3.529412e+05</td>\n",
       "      <td>58823.52941</td>\n",
       "      <td>34.0</td>\n",
       "      <td>0.0</td>\n",
       "      <td>34</td>\n",
       "      <td>34</td>\n",
       "      <td>0</td>\n",
       "      <td>0.0</td>\n",
       "      <td>0.0</td>\n",
       "      <td>0</td>\n",
       "      <td>0</td>\n",
       "      <td>0</td>\n",
       "      <td>0.0</td>\n",
       "      <td>0.0</td>\n",
       "      <td>0</td>\n",
       "      <td>0</td>\n",
       "      <td>0</td>\n",
       "      <td>0</td>\n",
       "      <td>0</td>\n",
       "      <td>0</td>\n",
       "      <td>20</td>\n",
       "      <td>20</td>\n",
       "      <td>29411.764710</td>\n",
       "      <td>29411.764710</td>\n",
       "      <td>6</td>\n",
       "      <td>6</td>\n",
       "      <td>6.0</td>\n",
       "      <td>0.0</td>\n",
       "      <td>0.0</td>\n",
       "      <td>0</td>\n",
       "      <td>0</td>\n",
       "      <td>0</td>\n",
       "      <td>0</td>\n",
       "      <td>1</td>\n",
       "      <td>1</td>\n",
       "      <td>0</td>\n",
       "      <td>0</td>\n",
       "      <td>1</td>\n",
       "      <td>9.0</td>\n",
       "      <td>6.0</td>\n",
       "      <td>6.0</td>\n",
       "      <td>20</td>\n",
       "      <td>0</td>\n",
       "      <td>0</td>\n",
       "      <td>0</td>\n",
       "      <td>0</td>\n",
       "      <td>0</td>\n",
       "      <td>0</td>\n",
       "      <td>1</td>\n",
       "      <td>6</td>\n",
       "      <td>1</td>\n",
       "      <td>6</td>\n",
       "      <td>31</td>\n",
       "      <td>329</td>\n",
       "      <td>0</td>\n",
       "      <td>20</td>\n",
       "      <td>0.0</td>\n",
       "      <td>0.0</td>\n",
       "      <td>0</td>\n",
       "      <td>0</td>\n",
       "      <td>0.0</td>\n",
       "      <td>0.0</td>\n",
       "      <td>0</td>\n",
       "      <td>0</td>\n",
       "      <td>BENIGN</td>\n",
       "    </tr>\n",
       "    <tr>\n",
       "      <th>4</th>\n",
       "      <td>54863</td>\n",
       "      <td>3</td>\n",
       "      <td>2</td>\n",
       "      <td>0</td>\n",
       "      <td>12</td>\n",
       "      <td>0</td>\n",
       "      <td>6</td>\n",
       "      <td>6</td>\n",
       "      <td>6.0</td>\n",
       "      <td>0.0</td>\n",
       "      <td>0</td>\n",
       "      <td>0</td>\n",
       "      <td>0.0</td>\n",
       "      <td>0.0</td>\n",
       "      <td>4.000000e+06</td>\n",
       "      <td>666666.66670</td>\n",
       "      <td>3.0</td>\n",
       "      <td>0.0</td>\n",
       "      <td>3</td>\n",
       "      <td>3</td>\n",
       "      <td>3</td>\n",
       "      <td>3.0</td>\n",
       "      <td>0.0</td>\n",
       "      <td>3</td>\n",
       "      <td>3</td>\n",
       "      <td>0</td>\n",
       "      <td>0.0</td>\n",
       "      <td>0.0</td>\n",
       "      <td>0</td>\n",
       "      <td>0</td>\n",
       "      <td>0</td>\n",
       "      <td>0</td>\n",
       "      <td>0</td>\n",
       "      <td>0</td>\n",
       "      <td>40</td>\n",
       "      <td>0</td>\n",
       "      <td>666666.666700</td>\n",
       "      <td>0.000000</td>\n",
       "      <td>6</td>\n",
       "      <td>6</td>\n",
       "      <td>6.0</td>\n",
       "      <td>0.0</td>\n",
       "      <td>0.0</td>\n",
       "      <td>0</td>\n",
       "      <td>0</td>\n",
       "      <td>0</td>\n",
       "      <td>0</td>\n",
       "      <td>1</td>\n",
       "      <td>0</td>\n",
       "      <td>0</td>\n",
       "      <td>0</td>\n",
       "      <td>0</td>\n",
       "      <td>9.0</td>\n",
       "      <td>6.0</td>\n",
       "      <td>0.0</td>\n",
       "      <td>40</td>\n",
       "      <td>0</td>\n",
       "      <td>0</td>\n",
       "      <td>0</td>\n",
       "      <td>0</td>\n",
       "      <td>0</td>\n",
       "      <td>0</td>\n",
       "      <td>2</td>\n",
       "      <td>12</td>\n",
       "      <td>0</td>\n",
       "      <td>0</td>\n",
       "      <td>32</td>\n",
       "      <td>-1</td>\n",
       "      <td>1</td>\n",
       "      <td>20</td>\n",
       "      <td>0.0</td>\n",
       "      <td>0.0</td>\n",
       "      <td>0</td>\n",
       "      <td>0</td>\n",
       "      <td>0.0</td>\n",
       "      <td>0.0</td>\n",
       "      <td>0</td>\n",
       "      <td>0</td>\n",
       "      <td>BENIGN</td>\n",
       "    </tr>\n",
       "  </tbody>\n",
       "</table>\n",
       "</div>"
      ],
      "text/plain": [
       "    Destination Port   Flow Duration   Total Fwd Packets   \n",
       "0              54865               3                   2  \\\n",
       "1              55054             109                   1   \n",
       "2              55055              52                   1   \n",
       "3              46236              34                   1   \n",
       "4              54863               3                   2   \n",
       "\n",
       "    Total Backward Packets  Total Length of Fwd Packets   \n",
       "0                        0                           12  \\\n",
       "1                        1                            6   \n",
       "2                        1                            6   \n",
       "3                        1                            6   \n",
       "4                        0                           12   \n",
       "\n",
       "    Total Length of Bwd Packets   Fwd Packet Length Max   \n",
       "0                             0                       6  \\\n",
       "1                             6                       6   \n",
       "2                             6                       6   \n",
       "3                             6                       6   \n",
       "4                             0                       6   \n",
       "\n",
       "    Fwd Packet Length Min   Fwd Packet Length Mean   Fwd Packet Length Std   \n",
       "0                       6                      6.0                     0.0  \\\n",
       "1                       6                      6.0                     0.0   \n",
       "2                       6                      6.0                     0.0   \n",
       "3                       6                      6.0                     0.0   \n",
       "4                       6                      6.0                     0.0   \n",
       "\n",
       "   Bwd Packet Length Max   Bwd Packet Length Min   Bwd Packet Length Mean   \n",
       "0                      0                       0                      0.0  \\\n",
       "1                      6                       6                      6.0   \n",
       "2                      6                       6                      6.0   \n",
       "3                      6                       6                      6.0   \n",
       "4                      0                       0                      0.0   \n",
       "\n",
       "    Bwd Packet Length Std  Flow Bytes/s   Flow Packets/s   Flow IAT Mean   \n",
       "0                     0.0  4.000000e+06     666666.66670             3.0  \\\n",
       "1                     0.0  1.100917e+05      18348.62385           109.0   \n",
       "2                     0.0  2.307692e+05      38461.53846            52.0   \n",
       "3                     0.0  3.529412e+05      58823.52941            34.0   \n",
       "4                     0.0  4.000000e+06     666666.66670             3.0   \n",
       "\n",
       "    Flow IAT Std   Flow IAT Max   Flow IAT Min  Fwd IAT Total   Fwd IAT Mean   \n",
       "0            0.0              3              3              3            3.0  \\\n",
       "1            0.0            109            109              0            0.0   \n",
       "2            0.0             52             52              0            0.0   \n",
       "3            0.0             34             34              0            0.0   \n",
       "4            0.0              3              3              3            3.0   \n",
       "\n",
       "    Fwd IAT Std   Fwd IAT Max   Fwd IAT Min  Bwd IAT Total   Bwd IAT Mean   \n",
       "0           0.0             3             3              0            0.0  \\\n",
       "1           0.0             0             0              0            0.0   \n",
       "2           0.0             0             0              0            0.0   \n",
       "3           0.0             0             0              0            0.0   \n",
       "4           0.0             3             3              0            0.0   \n",
       "\n",
       "    Bwd IAT Std   Bwd IAT Max   Bwd IAT Min  Fwd PSH Flags   Bwd PSH Flags   \n",
       "0           0.0             0             0              0               0  \\\n",
       "1           0.0             0             0              0               0   \n",
       "2           0.0             0             0              0               0   \n",
       "3           0.0             0             0              0               0   \n",
       "4           0.0             0             0              0               0   \n",
       "\n",
       "    Fwd URG Flags   Bwd URG Flags   Fwd Header Length   Bwd Header Length   \n",
       "0               0               0                  40                   0  \\\n",
       "1               0               0                  20                  20   \n",
       "2               0               0                  20                  20   \n",
       "3               0               0                  20                  20   \n",
       "4               0               0                  40                   0   \n",
       "\n",
       "   Fwd Packets/s   Bwd Packets/s   Min Packet Length   Max Packet Length   \n",
       "0  666666.666700        0.000000                   6                   6  \\\n",
       "1    9174.311927     9174.311927                   6                   6   \n",
       "2   19230.769230    19230.769230                   6                   6   \n",
       "3   29411.764710    29411.764710                   6                   6   \n",
       "4  666666.666700        0.000000                   6                   6   \n",
       "\n",
       "    Packet Length Mean   Packet Length Std   Packet Length Variance   \n",
       "0                  6.0                 0.0                      0.0  \\\n",
       "1                  6.0                 0.0                      0.0   \n",
       "2                  6.0                 0.0                      0.0   \n",
       "3                  6.0                 0.0                      0.0   \n",
       "4                  6.0                 0.0                      0.0   \n",
       "\n",
       "   FIN Flag Count   SYN Flag Count   RST Flag Count   PSH Flag Count   \n",
       "0               0                0                0                0  \\\n",
       "1               0                0                0                0   \n",
       "2               0                0                0                0   \n",
       "3               0                0                0                0   \n",
       "4               0                0                0                0   \n",
       "\n",
       "    ACK Flag Count   URG Flag Count   CWE Flag Count   ECE Flag Count   \n",
       "0                1                0                0                0  \\\n",
       "1                1                1                0                0   \n",
       "2                1                1                0                0   \n",
       "3                1                1                0                0   \n",
       "4                1                0                0                0   \n",
       "\n",
       "    Down/Up Ratio   Average Packet Size   Avg Fwd Segment Size   \n",
       "0               0                   9.0                    6.0  \\\n",
       "1               1                   9.0                    6.0   \n",
       "2               1                   9.0                    6.0   \n",
       "3               1                   9.0                    6.0   \n",
       "4               0                   9.0                    6.0   \n",
       "\n",
       "    Avg Bwd Segment Size   Fwd Header Length.1  Fwd Avg Bytes/Bulk   \n",
       "0                    0.0                    40                   0  \\\n",
       "1                    6.0                    20                   0   \n",
       "2                    6.0                    20                   0   \n",
       "3                    6.0                    20                   0   \n",
       "4                    0.0                    40                   0   \n",
       "\n",
       "    Fwd Avg Packets/Bulk   Fwd Avg Bulk Rate   Bwd Avg Bytes/Bulk   \n",
       "0                      0                   0                    0  \\\n",
       "1                      0                   0                    0   \n",
       "2                      0                   0                    0   \n",
       "3                      0                   0                    0   \n",
       "4                      0                   0                    0   \n",
       "\n",
       "    Bwd Avg Packets/Bulk  Bwd Avg Bulk Rate  Subflow Fwd Packets   \n",
       "0                      0                  0                    2  \\\n",
       "1                      0                  0                    1   \n",
       "2                      0                  0                    1   \n",
       "3                      0                  0                    1   \n",
       "4                      0                  0                    2   \n",
       "\n",
       "    Subflow Fwd Bytes   Subflow Bwd Packets   Subflow Bwd Bytes   \n",
       "0                  12                     0                   0  \\\n",
       "1                   6                     1                   6   \n",
       "2                   6                     1                   6   \n",
       "3                   6                     1                   6   \n",
       "4                  12                     0                   0   \n",
       "\n",
       "   Init_Win_bytes_forward   Init_Win_bytes_backward   act_data_pkt_fwd   \n",
       "0                      33                        -1                  1  \\\n",
       "1                      29                       256                  0   \n",
       "2                      29                       256                  0   \n",
       "3                      31                       329                  0   \n",
       "4                      32                        -1                  1   \n",
       "\n",
       "    min_seg_size_forward  Active Mean   Active Std   Active Max   Active Min   \n",
       "0                     20          0.0          0.0            0            0  \\\n",
       "1                     20          0.0          0.0            0            0   \n",
       "2                     20          0.0          0.0            0            0   \n",
       "3                     20          0.0          0.0            0            0   \n",
       "4                     20          0.0          0.0            0            0   \n",
       "\n",
       "   Idle Mean   Idle Std   Idle Max   Idle Min   Label  \n",
       "0        0.0        0.0          0          0  BENIGN  \n",
       "1        0.0        0.0          0          0  BENIGN  \n",
       "2        0.0        0.0          0          0  BENIGN  \n",
       "3        0.0        0.0          0          0  BENIGN  \n",
       "4        0.0        0.0          0          0  BENIGN  "
      ]
     },
     "execution_count": 279,
     "metadata": {},
     "output_type": "execute_result"
    }
   ],
   "source": [
    "data = pd.read_csv('dataset.csv')\n",
    "data.head()"
   ]
  },
  {
   "cell_type": "code",
   "execution_count": null,
   "id": "4798b401",
   "metadata": {},
   "outputs": [],
   "source": []
  },
  {
   "cell_type": "code",
   "execution_count": 280,
   "id": "72eeba62",
   "metadata": {},
   "outputs": [
    {
     "data": {
      "text/plain": [
       " Label\n",
       "BENIGN      629074\n",
       "DoS         194642\n",
       "DDoS        128022\n",
       "PortScan     90819\n",
       "Name: count, dtype: int64"
      ]
     },
     "execution_count": 280,
     "metadata": {},
     "output_type": "execute_result"
    }
   ],
   "source": [
    "labels_name=data[' Label'].value_counts()\n",
    "labels_name"
   ]
  },
  {
   "cell_type": "code",
   "execution_count": 281,
   "id": "c12c07b6",
   "metadata": {},
   "outputs": [
    {
     "data": {
      "text/plain": [
       "0          0\n",
       "1          0\n",
       "2          0\n",
       "3          0\n",
       "4          0\n",
       "          ..\n",
       "1042552    0\n",
       "1042553    0\n",
       "1042554    0\n",
       "1042555    0\n",
       "1042556    0\n",
       "Name:  Label, Length: 1042557, dtype: int64"
      ]
     },
     "execution_count": 281,
     "metadata": {},
     "output_type": "execute_result"
    }
   ],
   "source": [
    "# Transform the nominal attribute \"Attack type\" into binary (0 : normal / 1 : attack)\n",
    "labels = (data[' Label'] != 'BENIGN').astype('int64')\n",
    "labels"
   ]
  },
  {
   "cell_type": "code",
   "execution_count": 282,
   "id": "ca0b8b05",
   "metadata": {},
   "outputs": [],
   "source": [
    "data['Class'] = labels\n",
    "data.drop(' Label', inplace=True, axis=1)"
   ]
  },
  {
   "cell_type": "code",
   "execution_count": 283,
   "id": "1be965a5",
   "metadata": {},
   "outputs": [
    {
     "data": {
      "text/plain": [
       "Class\n",
       "0    629074\n",
       "1    413483\n",
       "Name: count, dtype: int64"
      ]
     },
     "execution_count": 283,
     "metadata": {},
     "output_type": "execute_result"
    }
   ],
   "source": [
    "new_labels_name=data['Class'].value_counts()\n",
    "new_labels_name"
   ]
  },
  {
   "cell_type": "code",
   "execution_count": 284,
   "id": "1121b32b",
   "metadata": {},
   "outputs": [],
   "source": [
    "data.replace([-np.inf, np.inf], np.nan, inplace=True)"
   ]
  },
  {
   "cell_type": "code",
   "execution_count": 285,
   "id": "50ae9708",
   "metadata": {},
   "outputs": [],
   "source": [
    "data.dropna(axis=0, inplace=True, how=\"any\")"
   ]
  },
  {
   "cell_type": "code",
   "execution_count": 286,
   "id": "98416b34",
   "metadata": {},
   "outputs": [],
   "source": [
    "columns_to_drop = [' Flow Duration', ' Total Fwd Packets', ' Total Backward Packets', 'Total Length of Fwd Packets',\n",
    "                  ' Total Length of Bwd Packets', ' Fwd Packet Length Max', ' Fwd Packet Length Min', \n",
    "                  'Bwd Packet Length Max', ' Bwd Packet Length Min', 'Fwd PSH Flags',' Bwd PSH Flags', \n",
    "                  ' Fwd URG Flags', ' Bwd URG Flags', ' Packet Length Mean', ' Packet Length Std',' Packet Length Variance', \n",
    "                  ' RST Flag Count', ' CWE Flag Count', ' Fwd Header Length.1','Fwd Avg Bytes/Bulk',' Fwd Avg Packets/Bulk', \n",
    "                 ' Fwd Avg Bulk Rate', ' Bwd Avg Bytes/Bulk', ' Bwd Avg Packets/Bulk',  'Bwd Avg Bulk Rate', 'Subflow Fwd Packets',\n",
    "                  ' Subflow Fwd Bytes', 'Idle Mean', ' Idle Std', ' Idle Max',' Idle Min' ]"
   ]
  },
  {
   "cell_type": "code",
   "execution_count": 287,
   "id": "de72c978",
   "metadata": {},
   "outputs": [],
   "source": [
    "data = data.drop(columns=columns_to_drop)"
   ]
  },
  {
   "cell_type": "code",
   "execution_count": 288,
   "id": "9e710bd7",
   "metadata": {},
   "outputs": [
    {
     "name": "stdout",
     "output_type": "stream",
     "text": [
      "Train set length: 625139\n",
      "Test set length: 416760\n"
     ]
    }
   ],
   "source": [
    "from sklearn.model_selection import train_test_split\n",
    "\n",
    "# Split training and test sets\n",
    "df_training, df_testing = train_test_split(data, test_size=0.4, random_state=42)\n",
    "\n",
    "# Print lengths of train and test sets\n",
    "print(\"Train set length:\", len(df_training))\n",
    "print(\"Test set length:\", len(df_testing))\n"
   ]
  },
  {
   "cell_type": "code",
   "execution_count": 289,
   "id": "6648d923",
   "metadata": {},
   "outputs": [
    {
     "data": {
      "text/plain": [
       "Class\n",
       "0    376952\n",
       "1    248187\n",
       "Name: count, dtype: int64"
      ]
     },
     "execution_count": 289,
     "metadata": {},
     "output_type": "execute_result"
    }
   ],
   "source": [
    "l=df_training['Class'].value_counts()\n",
    "l"
   ]
  },
  {
   "cell_type": "code",
   "execution_count": 290,
   "id": "0f76a318",
   "metadata": {},
   "outputs": [
    {
     "data": {
      "text/plain": [
       "Class\n",
       "0    251594\n",
       "1    165166\n",
       "Name: count, dtype: int64"
      ]
     },
     "execution_count": 290,
     "metadata": {},
     "output_type": "execute_result"
    }
   ],
   "source": [
    "l=df_testing['Class'].value_counts()\n",
    "l"
   ]
  },
  {
   "cell_type": "code",
   "execution_count": 291,
   "id": "d9bbe61a",
   "metadata": {},
   "outputs": [],
   "source": [
    "# Get NumPy arrays from DataFrames\n",
    "nd_training = df_training.values\n",
    "nd_testing = df_testing.values"
   ]
  },
  {
   "cell_type": "code",
   "execution_count": 292,
   "id": "04fb16ea",
   "metadata": {},
   "outputs": [],
   "source": [
    "# Separating arguments (x) from labelss (y)\n",
    "x_train = nd_training[:, :-1]\n",
    "y_train = nd_training[:, -1]\n",
    "x_test = nd_testing[:, :-1]\n",
    "y_test = nd_testing[:, -1]\n",
    "\n",
    "# Make a copy of the data set as NumPy arrays\n",
    "x_train_np = x_train.copy()\n",
    "y_train_np = y_train.copy()\n",
    "x_test_np = x_test.copy()\n",
    "y_test_np = y_test.copy()"
   ]
  },
  {
   "cell_type": "code",
   "execution_count": 293,
   "id": "5b0ea2a9",
   "metadata": {},
   "outputs": [
    {
     "data": {
      "text/html": [
       "<style>#sk-container-id-5 {color: black;background-color: white;}#sk-container-id-5 pre{padding: 0;}#sk-container-id-5 div.sk-toggleable {background-color: white;}#sk-container-id-5 label.sk-toggleable__label {cursor: pointer;display: block;width: 100%;margin-bottom: 0;padding: 0.3em;box-sizing: border-box;text-align: center;}#sk-container-id-5 label.sk-toggleable__label-arrow:before {content: \"▸\";float: left;margin-right: 0.25em;color: #696969;}#sk-container-id-5 label.sk-toggleable__label-arrow:hover:before {color: black;}#sk-container-id-5 div.sk-estimator:hover label.sk-toggleable__label-arrow:before {color: black;}#sk-container-id-5 div.sk-toggleable__content {max-height: 0;max-width: 0;overflow: hidden;text-align: left;background-color: #f0f8ff;}#sk-container-id-5 div.sk-toggleable__content pre {margin: 0.2em;color: black;border-radius: 0.25em;background-color: #f0f8ff;}#sk-container-id-5 input.sk-toggleable__control:checked~div.sk-toggleable__content {max-height: 200px;max-width: 100%;overflow: auto;}#sk-container-id-5 input.sk-toggleable__control:checked~label.sk-toggleable__label-arrow:before {content: \"▾\";}#sk-container-id-5 div.sk-estimator input.sk-toggleable__control:checked~label.sk-toggleable__label {background-color: #d4ebff;}#sk-container-id-5 div.sk-label input.sk-toggleable__control:checked~label.sk-toggleable__label {background-color: #d4ebff;}#sk-container-id-5 input.sk-hidden--visually {border: 0;clip: rect(1px 1px 1px 1px);clip: rect(1px, 1px, 1px, 1px);height: 1px;margin: -1px;overflow: hidden;padding: 0;position: absolute;width: 1px;}#sk-container-id-5 div.sk-estimator {font-family: monospace;background-color: #f0f8ff;border: 1px dotted black;border-radius: 0.25em;box-sizing: border-box;margin-bottom: 0.5em;}#sk-container-id-5 div.sk-estimator:hover {background-color: #d4ebff;}#sk-container-id-5 div.sk-parallel-item::after {content: \"\";width: 100%;border-bottom: 1px solid gray;flex-grow: 1;}#sk-container-id-5 div.sk-label:hover label.sk-toggleable__label {background-color: #d4ebff;}#sk-container-id-5 div.sk-serial::before {content: \"\";position: absolute;border-left: 1px solid gray;box-sizing: border-box;top: 0;bottom: 0;left: 50%;z-index: 0;}#sk-container-id-5 div.sk-serial {display: flex;flex-direction: column;align-items: center;background-color: white;padding-right: 0.2em;padding-left: 0.2em;position: relative;}#sk-container-id-5 div.sk-item {position: relative;z-index: 1;}#sk-container-id-5 div.sk-parallel {display: flex;align-items: stretch;justify-content: center;background-color: white;position: relative;}#sk-container-id-5 div.sk-item::before, #sk-container-id-5 div.sk-parallel-item::before {content: \"\";position: absolute;border-left: 1px solid gray;box-sizing: border-box;top: 0;bottom: 0;left: 50%;z-index: -1;}#sk-container-id-5 div.sk-parallel-item {display: flex;flex-direction: column;z-index: 1;position: relative;background-color: white;}#sk-container-id-5 div.sk-parallel-item:first-child::after {align-self: flex-end;width: 50%;}#sk-container-id-5 div.sk-parallel-item:last-child::after {align-self: flex-start;width: 50%;}#sk-container-id-5 div.sk-parallel-item:only-child::after {width: 0;}#sk-container-id-5 div.sk-dashed-wrapped {border: 1px dashed gray;margin: 0 0.4em 0.5em 0.4em;box-sizing: border-box;padding-bottom: 0.4em;background-color: white;}#sk-container-id-5 div.sk-label label {font-family: monospace;font-weight: bold;display: inline-block;line-height: 1.2em;}#sk-container-id-5 div.sk-label-container {text-align: center;}#sk-container-id-5 div.sk-container {/* jupyter's `normalize.less` sets `[hidden] { display: none; }` but bootstrap.min.css set `[hidden] { display: none !important; }` so we also need the `!important` here to be able to override the default hidden behavior on the sphinx rendered scikit-learn.org. See: https://github.com/scikit-learn/scikit-learn/issues/21755 */display: inline-block !important;position: relative;}#sk-container-id-5 div.sk-text-repr-fallback {display: none;}</style><div id=\"sk-container-id-5\" class=\"sk-top-container\"><div class=\"sk-text-repr-fallback\"><pre>StandardScaler()</pre><b>In a Jupyter environment, please rerun this cell to show the HTML representation or trust the notebook. <br />On GitHub, the HTML representation is unable to render, please try loading this page with nbviewer.org.</b></div><div class=\"sk-container\" hidden><div class=\"sk-item\"><div class=\"sk-estimator sk-toggleable\"><input class=\"sk-toggleable__control sk-hidden--visually\" id=\"sk-estimator-id-5\" type=\"checkbox\" checked><label for=\"sk-estimator-id-5\" class=\"sk-toggleable__label sk-toggleable__label-arrow\">StandardScaler</label><div class=\"sk-toggleable__content\"><pre>StandardScaler()</pre></div></div></div></div></div>"
      ],
      "text/plain": [
       "StandardScaler()"
      ]
     },
     "execution_count": 293,
     "metadata": {},
     "output_type": "execute_result"
    }
   ],
   "source": [
    "from sklearn.preprocessing import StandardScaler\n",
    "scaler = StandardScaler()\n",
    "scaler.fit(x_train_np)"
   ]
  },
  {
   "cell_type": "code",
   "execution_count": 294,
   "id": "98e3d53e",
   "metadata": {},
   "outputs": [],
   "source": [
    "x_train = scaler.transform(x_train)\n",
    "x_test = scaler.transform(x_test)"
   ]
  },
  {
   "cell_type": "code",
   "execution_count": 295,
   "id": "0b9aa379",
   "metadata": {},
   "outputs": [],
   "source": [
    "# Convert from numpy array to torch tensors\n",
    "x_train = torch.from_numpy(x_train).float()\n",
    "y_train = torch.from_numpy(y_train).long()\n",
    "x_test = torch.from_numpy(x_test).float()\n",
    "y_test = torch.from_numpy(y_test).long()"
   ]
  },
  {
   "cell_type": "code",
   "execution_count": 296,
   "id": "107b1367",
   "metadata": {},
   "outputs": [],
   "source": [
    "class Network(nn.Module):\n",
    "    ''' A basic neural network model '''\n",
    "    def __init__(self, input_size, hidden_size, output_size):\n",
    "        super().__init__()         #python2 : super(MLP, self).__init__()\n",
    "        #defining the network's operations\n",
    "        self.fc1 = nn.Linear(input_size, hidden_size[0])\n",
    "        self.fc2 = nn.Linear(hidden_size[0], hidden_size[1])\n",
    "        self.fc3 = nn.Linear(hidden_size[1], output_size)\n",
    "\n",
    "    def forward(self, x, softmax=False): \n",
    "        x = x.reshape(-1,47)\n",
    "        a = self.fc3(F.relu(self.fc2(F.relu(self.fc1(x.float())))))\n",
    "        if softmax:\n",
    "            y_pred = F.softmax(a, dim=1)\n",
    "        else:\n",
    "            y_pred = a\n",
    "        #print(y_pred.shape)\n",
    "        return y_pred"
   ]
  },
  {
   "cell_type": "code",
   "execution_count": 297,
   "id": "224c8b76",
   "metadata": {},
   "outputs": [],
   "source": [
    "def evaluate_predictions(predictions, real):\n",
    "    ''' Evaluates the accuracy of the predictions'''\n",
    "    n_correct = torch.eq(predictions, torch.argmax(real, dim=-1)).sum().item()\n",
    "    accuracy = n_correct / len(predictions) * 100\n",
    "    return accuracy"
   ]
  },
  {
   "cell_type": "code",
   "execution_count": 298,
   "id": "51e47597",
   "metadata": {},
   "outputs": [],
   "source": [
    "def stat_model(model, x_train, y_train, x_test, y_test):\n",
    "    ''' Prints statistics about the model performances on the dataset'''\n",
    "    _, predictions_train = model(x_train).max(dim=1)\n",
    "    accuracy_train = evaluate_predictions(predictions=predictions_train, real=y_train)\n",
    "\n",
    "    _, predictions_test = model(x_test).max(dim=1)\n",
    "    accuracy_test = evaluate_predictions(predictions=predictions_test, real=y_test)\n",
    "    \n",
    "    print(\"Final Training Accuracy: {0:.4f}%\\nFinal Testing Accuracy : {1:.4f}%\"\n",
    "          .format(accuracy_train, accuracy_test))\n",
    "    # Move the tensors back to CPU\n",
    "    label_test_final = y_test.cpu().numpy()\n",
    "    predictions_test_final = predictions_test.cpu().numpy()\n",
    "    "
   ]
  },
  {
   "cell_type": "code",
   "execution_count": 299,
   "id": "ea2c8a90",
   "metadata": {},
   "outputs": [
    {
     "name": "stdout",
     "output_type": "stream",
     "text": [
      "Training on : cuda\n"
     ]
    }
   ],
   "source": [
    "# Setting device\n",
    "device = torch.device('cuda' if torch.cuda.is_available() else 'cpu')\n",
    "print(\"Training on : {}\".format(device))"
   ]
  },
  {
   "cell_type": "code",
   "execution_count": 300,
   "id": "3f60f2f8",
   "metadata": {},
   "outputs": [
    {
     "name": "stdout",
     "output_type": "stream",
     "text": [
      "input size is  47\n"
     ]
    }
   ],
   "source": [
    "# Initialising the model\n",
    "input_size=x_train.shape[1]\n",
    "print('input size is ', input_size)"
   ]
  },
  {
   "cell_type": "code",
   "execution_count": 301,
   "id": "1669722a",
   "metadata": {},
   "outputs": [
    {
     "data": {
      "text/plain": [
       "Network(\n",
       "  (fc1): Linear(in_features=47, out_features=64, bias=True)\n",
       "  (fc2): Linear(in_features=64, out_features=64, bias=True)\n",
       "  (fc3): Linear(in_features=64, out_features=2, bias=True)\n",
       ")"
      ]
     },
     "execution_count": 301,
     "metadata": {},
     "output_type": "execute_result"
    }
   ],
   "source": [
    "hidden_size=[64,64]\n",
    "output_size=2\n",
    "model = Network(input_size, hidden_size, output_size)\n",
    "model"
   ]
  },
  {
   "cell_type": "code",
   "execution_count": 302,
   "id": "634af024",
   "metadata": {},
   "outputs": [],
   "source": [
    "# Transfering model and data to GPU\n",
    "model = model.to(device)\n",
    "x_train = x_train.to(device)\n",
    "y_train = y_train.to(device)\n",
    "x_test = x_test.to(device)\n",
    "y_test = y_test.to(device)"
   ]
  },
  {
   "cell_type": "code",
   "execution_count": 303,
   "id": "d7a17cde",
   "metadata": {},
   "outputs": [],
   "source": [
    "import torch.nn.functional as F"
   ]
  },
  {
   "cell_type": "code",
   "execution_count": 304,
   "id": "2146f375",
   "metadata": {},
   "outputs": [],
   "source": [
    "y_train2 = F.one_hot(y_train, 2)"
   ]
  },
  {
   "cell_type": "code",
   "execution_count": 305,
   "id": "b0ff9ee8",
   "metadata": {},
   "outputs": [],
   "source": [
    "y_train2 = y_train2.float()"
   ]
  },
  {
   "cell_type": "code",
   "execution_count": 306,
   "id": "dc690da7",
   "metadata": {},
   "outputs": [],
   "source": [
    "y_test2 = F.one_hot(y_test, 2)\n"
   ]
  },
  {
   "cell_type": "code",
   "execution_count": 307,
   "id": "274e4f20",
   "metadata": {},
   "outputs": [],
   "source": [
    "y_test2 = y_test2.float()"
   ]
  },
  {
   "cell_type": "code",
   "execution_count": 308,
   "id": "45badbd3",
   "metadata": {},
   "outputs": [],
   "source": [
    "# Setting the Loss function and Adam learning rate\n",
    "criterion = nn.BCEWithLogitsLoss(reduction = 'mean')\n",
    "lr = 0.01\n",
    "optimizer = optim.Adam(model.parameters(), lr=lr)"
   ]
  },
  {
   "cell_type": "code",
   "execution_count": 311,
   "id": "20e39e5f",
   "metadata": {},
   "outputs": [],
   "source": [
    "# Variables to store the best performences (weights and accuracy)\n",
    "best_model_weights = copy.deepcopy(model.state_dict())\n",
    "best_accuracy = 0.0"
   ]
  },
  {
   "cell_type": "code",
   "execution_count": 246,
   "id": "271cd15f",
   "metadata": {},
   "outputs": [
    {
     "name": "stdout",
     "output_type": "stream",
     "text": [
      "epoch:    0 | loss: 0.6926 | Train accuracy: 41.4125% | Test accuracy: 41.5702% [41.5702%] | Running for : 0m 0s\n",
      "epoch:  100 | loss: 0.0255 | Train accuracy: 99.1308% | Test accuracy: 99.0925% [99.0925%] | Running for : 0m 2s\n",
      "epoch:  200 | loss: 0.0209 | Train accuracy: 99.2504% | Test accuracy: 99.2355% [99.3452%] | Running for : 0m 5s\n",
      "epoch:  300 | loss: 0.0150 | Train accuracy: 99.4739% | Test accuracy: 99.4493% [99.4493%] | Running for : 0m 7s\n",
      "epoch:  400 | loss: 0.0141 | Train accuracy: 99.4206% | Test accuracy: 99.3853% [99.5098%] | Running for : 0m 10s\n",
      "epoch:  500 | loss: 0.0129 | Train accuracy: 99.4918% | Test accuracy: 99.4611% [99.6084%] | Running for : 0m 12s\n",
      "Training complete in 0m 12s\n"
     ]
    }
   ],
   "source": [
    "# DataFrame for the learning curve plot\n",
    "trace = pd.DataFrame(columns=['epoch', 'train_acc', 'test_acc'])\n",
    "# Iterrating on the dataset\n",
    "since = time.time()\n",
    "for epoch in range(500+1):\n",
    "    # Forward pass\n",
    "    y_pred = model(x_train) \n",
    "    # torch.max(dim=1) returns the maximum value of each line AND its index\n",
    "    _, predictions = y_pred.max(dim=1)\n",
    "    # Compute accuracy\n",
    "    accuracy_train = evaluate_predictions(predictions=predictions, real=y_train2)\n",
    "    # Compute loss\n",
    "\n",
    "    loss = criterion(y_pred, y_train2)\n",
    "\n",
    "    # Testing model on the test set\n",
    "    if epoch%10 == 0:\n",
    "        _, predictions_test = model(x_test, softmax=True).max(dim=1)\n",
    "        accuracy_test = evaluate_predictions(predictions=predictions_test, real=y_test2)\n",
    "        # Keep track of the accuracies for the learning curve\n",
    "        trace = pd.concat([trace, pd.DataFrame([\n",
    "                    {'epoch':epoch, 'train_acc':accuracy_train, 'test_acc':accuracy_test}])], ignore_index=True)\n",
    "        #trace = trace.append()\n",
    "        # Save the best model's accuracy and parameters\n",
    "        if accuracy_test > best_accuracy:\n",
    "            best_accuracy = accuracy_test\n",
    "            best_model_weights = copy.deepcopy(model.state_dict())\n",
    "        # Displap statistics\n",
    "        if epoch%100 == 0:\n",
    "            time_elapsed = time.time() - since\n",
    "            print(\"epoch: {0:4d} | loss: {1:.4f} | Train accuracy: {2:.4f}% | Test accuracy: {3:.4f}% [{4:.4f}%] | Running for : {5:.0f}m {6:.0f}s\"\n",
    "                  .format(epoch,\n",
    "                          loss,\n",
    "                          accuracy_train,\n",
    "                          accuracy_test,\n",
    "                          best_accuracy,\n",
    "                          time_elapsed // 60,\n",
    "                          time_elapsed % 60))\n",
    "\n",
    "    # Zero all gradients\n",
    "    optimizer.zero_grad()\n",
    "    # Backward pass\n",
    "    loss.backward()\n",
    "    # Update weights\n",
    "    optimizer.step()\n",
    "\n",
    "# Compute the training time\n",
    "time_elapsed = time.time() - since\n",
    "print('Training complete in {:.0f}m {:.0f}s'.format(\n",
    "    time_elapsed // 60, time_elapsed % 60))"
   ]
  },
  {
   "cell_type": "code",
   "execution_count": 247,
   "id": "7081545f",
   "metadata": {},
   "outputs": [],
   "source": [
    "torch.save(model.state_dict(), \"./model_bce_loss.pytorch\")"
   ]
  },
  {
   "cell_type": "code",
   "execution_count": 312,
   "id": "db79e384",
   "metadata": {},
   "outputs": [
    {
     "data": {
      "text/plain": [
       "<All keys matched successfully>"
      ]
     },
     "execution_count": 312,
     "metadata": {},
     "output_type": "execute_result"
    }
   ],
   "source": [
    "model.load_state_dict(torch.load(\"./model_bce_loss.pytorch\"))"
   ]
  },
  {
   "cell_type": "code",
   "execution_count": 313,
   "id": "72e57ef4",
   "metadata": {},
   "outputs": [],
   "source": [
    "criterion = nn.CrossEntropyLoss()"
   ]
  },
  {
   "cell_type": "code",
   "execution_count": 314,
   "id": "dab07e7c",
   "metadata": {},
   "outputs": [],
   "source": [
    "input_size = (1,1, 47)\n",
    "\n",
    "# Applying the PyTorch wrapper\n",
    "classifier = PyTorchClassifier(model=model, \n",
    "                               loss=criterion, \n",
    "                               optimizer=optimizer, \n",
    "                               input_shape=input_size, \n",
    "                               nb_classes=output_size)"
   ]
  },
  {
   "cell_type": "code",
   "execution_count": null,
   "id": "570e716e",
   "metadata": {},
   "outputs": [],
   "source": []
  },
  {
   "cell_type": "code",
   "execution_count": 315,
   "id": "8bd8dfdc",
   "metadata": {},
   "outputs": [],
   "source": [
    "from art.attacks.evasion import AutoProjectedGradientDescent"
   ]
  },
  {
   "cell_type": "markdown",
   "id": "837f2f7f",
   "metadata": {},
   "source": [
    "# AutoPGD"
   ]
  },
  {
   "cell_type": "code",
   "execution_count": 320,
   "id": "d5dcf1af",
   "metadata": {},
   "outputs": [],
   "source": [
    "adversarial_crafter = AutoProjectedGradientDescent(estimator=classifier, batch_size=1000)"
   ]
  },
  {
   "cell_type": "code",
   "execution_count": 321,
   "id": "e4c7ff60",
   "metadata": {},
   "outputs": [],
   "source": [
    "x_test = x_test.reshape(-1,1,1,47)"
   ]
  },
  {
   "cell_type": "code",
   "execution_count": 324,
   "id": "404be126",
   "metadata": {},
   "outputs": [],
   "source": [
    "x_test = x_test[:1000]"
   ]
  },
  {
   "cell_type": "code",
   "execution_count": 325,
   "id": "5ce58663",
   "metadata": {
    "scrolled": true
   },
   "outputs": [
    {
     "data": {
      "application/vnd.jupyter.widget-view+json": {
       "model_id": "6845df7e1fcb4312bdb03e6f39b96df0",
       "version_major": 2,
       "version_minor": 0
      },
      "text/plain": [
       "AutoPGD - restart:   0%|          | 0/5 [00:00<?, ?it/s]"
      ]
     },
     "metadata": {},
     "output_type": "display_data"
    },
    {
     "data": {
      "application/vnd.jupyter.widget-view+json": {
       "model_id": "14f261efc46c4742b38da17e30261962",
       "version_major": 2,
       "version_minor": 0
      },
      "text/plain": [
       "AutoPGD - batch:   0%|          | 0/1 [00:00<?, ?it/s]"
      ]
     },
     "metadata": {},
     "output_type": "display_data"
    },
    {
     "data": {
      "application/vnd.jupyter.widget-view+json": {
       "model_id": "7553835d3a584861827b088ebd64a97c",
       "version_major": 2,
       "version_minor": 0
      },
      "text/plain": [
       "AutoPGD - iteration:   0%|          | 0/100 [00:00<?, ?it/s]"
      ]
     },
     "metadata": {},
     "output_type": "display_data"
    },
    {
     "data": {
      "application/vnd.jupyter.widget-view+json": {
       "model_id": "7cd873556335404ea335f4bc59f46367",
       "version_major": 2,
       "version_minor": 0
      },
      "text/plain": [
       "AutoPGD - batch:   0%|          | 0/1 [00:00<?, ?it/s]"
      ]
     },
     "metadata": {},
     "output_type": "display_data"
    },
    {
     "data": {
      "application/vnd.jupyter.widget-view+json": {
       "model_id": "1e2e6a8133ed40d79b96b6da3f1189d0",
       "version_major": 2,
       "version_minor": 0
      },
      "text/plain": [
       "AutoPGD - iteration:   0%|          | 0/100 [00:00<?, ?it/s]"
      ]
     },
     "metadata": {},
     "output_type": "display_data"
    },
    {
     "data": {
      "application/vnd.jupyter.widget-view+json": {
       "model_id": "402596c4f0a84e4aadb74b304c56c442",
       "version_major": 2,
       "version_minor": 0
      },
      "text/plain": [
       "AutoPGD - batch:   0%|          | 0/1 [00:00<?, ?it/s]"
      ]
     },
     "metadata": {},
     "output_type": "display_data"
    },
    {
     "data": {
      "application/vnd.jupyter.widget-view+json": {
       "model_id": "9bb3cf14f88341d896916a09fdf84192",
       "version_major": 2,
       "version_minor": 0
      },
      "text/plain": [
       "AutoPGD - iteration:   0%|          | 0/100 [00:00<?, ?it/s]"
      ]
     },
     "metadata": {},
     "output_type": "display_data"
    },
    {
     "data": {
      "application/vnd.jupyter.widget-view+json": {
       "model_id": "6cbf09be528944a6aea5f0ab3a6c215e",
       "version_major": 2,
       "version_minor": 0
      },
      "text/plain": [
       "AutoPGD - batch:   0%|          | 0/1 [00:00<?, ?it/s]"
      ]
     },
     "metadata": {},
     "output_type": "display_data"
    },
    {
     "data": {
      "application/vnd.jupyter.widget-view+json": {
       "model_id": "ea7bce3f496d46f1b59be0c374093e8c",
       "version_major": 2,
       "version_minor": 0
      },
      "text/plain": [
       "AutoPGD - iteration:   0%|          | 0/100 [00:00<?, ?it/s]"
      ]
     },
     "metadata": {},
     "output_type": "display_data"
    },
    {
     "data": {
      "application/vnd.jupyter.widget-view+json": {
       "model_id": "d859a8db925741f3b034b0320e32ad84",
       "version_major": 2,
       "version_minor": 0
      },
      "text/plain": [
       "AutoPGD - batch:   0%|          | 0/1 [00:00<?, ?it/s]"
      ]
     },
     "metadata": {},
     "output_type": "display_data"
    },
    {
     "data": {
      "application/vnd.jupyter.widget-view+json": {
       "model_id": "1a524ac6d930436199c39e02734ef592",
       "version_major": 2,
       "version_minor": 0
      },
      "text/plain": [
       "AutoPGD - iteration:   0%|          | 0/100 [00:00<?, ?it/s]"
      ]
     },
     "metadata": {},
     "output_type": "display_data"
    }
   ],
   "source": [
    "# Generating the adversarial examples\n",
    "adversarial_examples = adversarial_crafter.generate(x=np.array(x_test.cpu()))"
   ]
  },
  {
   "cell_type": "code",
   "execution_count": 326,
   "id": "21774da6",
   "metadata": {},
   "outputs": [
    {
     "name": "stdout",
     "output_type": "stream",
     "text": [
      "Final Training Accuracy: 99.0000%\n",
      "Final Testing Accuracy : 5.2000%\n"
     ]
    }
   ],
   "source": [
    "adversarial_examples = torch.from_numpy(adversarial_examples).float()\n",
    "adversarial_examples = adversarial_examples.to(torch.device('cuda' if torch.cuda.is_available() else 'cpu'))\n",
    "stat_model(model, x_test, y_test2[:1000], adversarial_examples, y_test2[:1000])\n"
   ]
  },
  {
   "cell_type": "code",
   "execution_count": 327,
   "id": "986f39c0",
   "metadata": {},
   "outputs": [
    {
     "name": "stdout",
     "output_type": "stream",
     "text": [
      "(1000, 1, 1, 47)\n",
      "torch.Size([1000, 2])\n",
      "(1000, 47)\n",
      "torch.Size([1000])\n"
     ]
    }
   ],
   "source": [
    "adversarial_examples_cpu = np.array(adversarial_examples.cpu())\n",
    "print(adversarial_examples_cpu.shape)\n",
    "print(y_test2[:1000].shape)\n",
    "\n",
    "adversarial_examples_save = adversarial_examples_cpu.reshape(-1,47)\n",
    "y_test_save = torch.argmax(y_test2[:1000],dim=-1)\n",
    "\n",
    "print(adversarial_examples_save.shape)\n",
    "print(y_test_save.shape)\n",
    "pd.DataFrame(np.hstack((adversarial_examples_save,y_test_save.cpu().reshape(y_test_save.shape[0], 1))), \n",
    "             columns=data.columns).to_csv(\"adversarial_examples_autoPGD.csv\")"
   ]
  },
  {
   "cell_type": "code",
   "execution_count": 328,
   "id": "916d99fc",
   "metadata": {},
   "outputs": [
    {
     "data": {
      "application/vnd.jupyter.widget-view+json": {
       "model_id": "579ae7c239e343c7826d1686bd049b81",
       "version_major": 2,
       "version_minor": 0
      },
      "text/plain": [
       "AutoPGD - restart:   0%|          | 0/5 [00:00<?, ?it/s]"
      ]
     },
     "metadata": {},
     "output_type": "display_data"
    },
    {
     "data": {
      "application/vnd.jupyter.widget-view+json": {
       "model_id": "4fef9ab5c835467c91a3c9a7def57b09",
       "version_major": 2,
       "version_minor": 0
      },
      "text/plain": [
       "AutoPGD - batch:   0%|          | 0/1 [00:00<?, ?it/s]"
      ]
     },
     "metadata": {},
     "output_type": "display_data"
    },
    {
     "data": {
      "application/vnd.jupyter.widget-view+json": {
       "model_id": "aef55ec0bcc940c2acc2056a847adcd8",
       "version_major": 2,
       "version_minor": 0
      },
      "text/plain": [
       "AutoPGD - iteration:   0%|          | 0/100 [00:00<?, ?it/s]"
      ]
     },
     "metadata": {},
     "output_type": "display_data"
    },
    {
     "data": {
      "application/vnd.jupyter.widget-view+json": {
       "model_id": "8706d42b99d74983a43ac3064fdd110f",
       "version_major": 2,
       "version_minor": 0
      },
      "text/plain": [
       "AutoPGD - batch:   0%|          | 0/1 [00:00<?, ?it/s]"
      ]
     },
     "metadata": {},
     "output_type": "display_data"
    },
    {
     "data": {
      "application/vnd.jupyter.widget-view+json": {
       "model_id": "39f719e478384895a4a1d6e53f1d4234",
       "version_major": 2,
       "version_minor": 0
      },
      "text/plain": [
       "AutoPGD - iteration:   0%|          | 0/100 [00:00<?, ?it/s]"
      ]
     },
     "metadata": {},
     "output_type": "display_data"
    },
    {
     "data": {
      "application/vnd.jupyter.widget-view+json": {
       "model_id": "d2a74b94a3404f1094b1cd214c4d9d8e",
       "version_major": 2,
       "version_minor": 0
      },
      "text/plain": [
       "AutoPGD - batch:   0%|          | 0/1 [00:00<?, ?it/s]"
      ]
     },
     "metadata": {},
     "output_type": "display_data"
    },
    {
     "data": {
      "application/vnd.jupyter.widget-view+json": {
       "model_id": "9809d3223c07465dafa98b509106572e",
       "version_major": 2,
       "version_minor": 0
      },
      "text/plain": [
       "AutoPGD - iteration:   0%|          | 0/100 [00:00<?, ?it/s]"
      ]
     },
     "metadata": {},
     "output_type": "display_data"
    },
    {
     "data": {
      "application/vnd.jupyter.widget-view+json": {
       "model_id": "303d4c9f31664751a666044ddb5d2ae2",
       "version_major": 2,
       "version_minor": 0
      },
      "text/plain": [
       "AutoPGD - batch:   0%|          | 0/1 [00:00<?, ?it/s]"
      ]
     },
     "metadata": {},
     "output_type": "display_data"
    },
    {
     "data": {
      "application/vnd.jupyter.widget-view+json": {
       "model_id": "d41a694f84d940fb9a356dffd90b343e",
       "version_major": 2,
       "version_minor": 0
      },
      "text/plain": [
       "AutoPGD - iteration:   0%|          | 0/100 [00:00<?, ?it/s]"
      ]
     },
     "metadata": {},
     "output_type": "display_data"
    },
    {
     "data": {
      "application/vnd.jupyter.widget-view+json": {
       "model_id": "10bf855a71274c048d4ce5fa473a524a",
       "version_major": 2,
       "version_minor": 0
      },
      "text/plain": [
       "AutoPGD - batch:   0%|          | 0/1 [00:00<?, ?it/s]"
      ]
     },
     "metadata": {},
     "output_type": "display_data"
    },
    {
     "data": {
      "application/vnd.jupyter.widget-view+json": {
       "model_id": "40c5828068f1499dbb60436c14b34c80",
       "version_major": 2,
       "version_minor": 0
      },
      "text/plain": [
       "AutoPGD - iteration:   0%|          | 0/100 [00:00<?, ?it/s]"
      ]
     },
     "metadata": {},
     "output_type": "display_data"
    },
    {
     "name": "stdout",
     "output_type": "stream",
     "text": [
      "Final Training Accuracy: 99.0000%\n",
      "Final Testing Accuracy : 5.8000%\n",
      "(1000, 1, 1, 47)\n",
      "torch.Size([1000, 2])\n",
      "(1000, 47)\n",
      "torch.Size([1000])\n"
     ]
    }
   ],
   "source": [
    "adversarial_crafter = AutoProjectedGradientDescent(estimator=classifier, batch_size=1000)\n",
    "x_test = x_test[:1000]\n",
    "adversarial_examples = adversarial_crafter.generate(x=np.array(x_test.cpu()))\n",
    "adversarial_examples = torch.from_numpy(adversarial_examples).float()\n",
    "adversarial_examples = adversarial_examples.to(torch.device('cuda' if torch.cuda.is_available() else 'cpu'))\n",
    "stat_model(model, x_test, y_test2[:1000], adversarial_examples, y_test2[:1000])\n",
    "adversarial_examples_cpu = np.array(adversarial_examples.cpu())\n",
    "print(adversarial_examples_cpu.shape)\n",
    "print(y_test2[:1000].shape)\n",
    "\n",
    "adversarial_examples_save = adversarial_examples_cpu.reshape(-1,47)\n",
    "y_test_save = torch.argmax(y_test2[:1000],dim=-1)\n",
    "\n",
    "print(adversarial_examples_save.shape)\n",
    "print(y_test_save.shape)\n",
    "pd.DataFrame(np.hstack((adversarial_examples_save,y_test_save.cpu().reshape(y_test_save.shape[0], 1))), \n",
    "             columns=data.columns).to_csv(\"adversarial_examples_autoPGD2.csv\")"
   ]
  },
  {
   "cell_type": "markdown",
   "id": "82c0dc91",
   "metadata": {},
   "source": [
    "# FGSM"
   ]
  },
  {
   "cell_type": "code",
   "execution_count": 276,
   "id": "a3a06698",
   "metadata": {},
   "outputs": [
    {
     "name": "stdout",
     "output_type": "stream",
     "text": [
      "Final Training Accuracy: 99.0000%\n",
      "Final Testing Accuracy : 27.0000%\n",
      "(1000, 1, 1, 47)\n",
      "torch.Size([1000, 2])\n",
      "(1000, 47)\n",
      "torch.Size([1000])\n"
     ]
    }
   ],
   "source": [
    "adversarial_crafter = FastGradientMethod(classifier,\n",
    "                                         norm=np.inf,\n",
    "                                         eps=0.1,\n",
    "                                         targeted=False,\n",
    "                                         num_random_init=0,\n",
    "                                         batch_size=128,\n",
    "                                         )\n",
    "x = np.array(x_test.cpu())\n",
    "adversarial_examples = adversarial_crafter.generate(x=x[:1000])\n",
    "adversarial_examples = torch.from_numpy(adversarial_examples).float()\n",
    "adversarial_examples = adversarial_examples.to(torch.device('cuda' if torch.cuda.is_available() else 'cpu'))\n",
    "stat_model(model, x_test[:1000], y_test2[:1000], adversarial_examples, y_test2[:1000])\n",
    "\n",
    "adversarial_examples_cpu = np.array(adversarial_examples.cpu())\n",
    "print(adversarial_examples_cpu.shape)\n",
    "print(y_test2[:1000].shape)\n",
    "\n",
    "adversarial_examples_save = adversarial_examples_cpu.reshape(-1,47)\n",
    "y_test_save = torch.argmax(y_test2[:1000],dim=-1)\n",
    "\n",
    "print(adversarial_examples_save.shape)\n",
    "print(y_test_save.shape)\n",
    "\n",
    "attack = 'FGSM'\n",
    "pd.DataFrame(np.hstack((adversarial_examples_save,y_test_save.cpu().reshape(y_test_save.shape[0], 1))), \n",
    "             columns=data.columns).to_csv(\"adversarial_examples_FGSM1.csv\")\n"
   ]
  },
  {
   "cell_type": "code",
   "execution_count": 329,
   "id": "c08efb97",
   "metadata": {},
   "outputs": [
    {
     "name": "stdout",
     "output_type": "stream",
     "text": [
      "Final Training Accuracy: 99.0000%\n",
      "Final Testing Accuracy : 7.0000%\n",
      "(1000, 1, 1, 47)\n",
      "torch.Size([1000, 2])\n",
      "(1000, 47)\n",
      "torch.Size([1000])\n"
     ]
    }
   ],
   "source": [
    "adversarial_crafter = FastGradientMethod(classifier,\n",
    "                                         norm=np.inf,\n",
    "                                         eps=0.3,\n",
    "                                         targeted=False,\n",
    "                                         num_random_init=0,\n",
    "                                         batch_size=128,\n",
    "                                         )\n",
    "x = np.array(x_test.cpu())\n",
    "adversarial_examples = adversarial_crafter.generate(x=x[:1000])\n",
    "adversarial_examples = torch.from_numpy(adversarial_examples).float()\n",
    "adversarial_examples = adversarial_examples.to(torch.device('cuda' if torch.cuda.is_available() else 'cpu'))\n",
    "stat_model(model, x_test[:1000], y_test2[:1000], adversarial_examples, y_test2[:1000])\n",
    "\n",
    "adversarial_examples_cpu = np.array(adversarial_examples.cpu())\n",
    "print(adversarial_examples_cpu.shape)\n",
    "print(y_test2[:1000].shape)\n",
    "\n",
    "adversarial_examples_save = adversarial_examples_cpu.reshape(-1,47)\n",
    "y_test_save = torch.argmax(y_test2[:1000],dim=-1)\n",
    "\n",
    "print(adversarial_examples_save.shape)\n",
    "print(y_test_save.shape)\n",
    "\n",
    "attack = 'FGSM'\n",
    "pd.DataFrame(np.hstack((adversarial_examples_save,y_test_save.cpu().reshape(y_test_save.shape[0], 1))), \n",
    "             columns=data.columns).to_csv(\"adversarial_examples_FGSM2.csv\")\n"
   ]
  },
  {
   "cell_type": "code",
   "execution_count": 331,
   "id": "ce6f23bc",
   "metadata": {},
   "outputs": [
    {
     "data": {
      "application/vnd.jupyter.widget-view+json": {
       "model_id": "852cfe1e4ae748c78bebb8ae0a065117",
       "version_major": 2,
       "version_minor": 0
      },
      "text/plain": [
       "PGD - Batches:   0%|          | 0/8 [00:00<?, ?it/s]"
      ]
     },
     "metadata": {},
     "output_type": "display_data"
    },
    {
     "name": "stdout",
     "output_type": "stream",
     "text": [
      "Final Training Accuracy: 99.0000%\n",
      "Final Testing Accuracy : 26.5000%\n",
      "(1000, 1, 1, 47)\n",
      "torch.Size([1000, 2])\n",
      "(1000, 47)\n",
      "torch.Size([1000])\n"
     ]
    }
   ],
   "source": [
    "adversarial_crafter = BasicIterativeMethod(classifier, \n",
    "                                           eps=0.1, \n",
    "                                           eps_step=0.001,\n",
    "                                           max_iter=100, \n",
    "                                           targeted=False, \n",
    "                                           batch_size=128)\n",
    "x = np.array(x_test.cpu())\n",
    "adversarial_examples = adversarial_crafter.generate(x=x[:1000])\n",
    "adversarial_examples = torch.from_numpy(adversarial_examples).float()\n",
    "adversarial_examples = adversarial_examples.to(torch.device('cuda' if torch.cuda.is_available() else 'cpu'))\n",
    "stat_model(model, x_test[:1000], y_test2[:1000], adversarial_examples, y_test2[:1000])\n",
    "\n",
    "adversarial_examples_cpu = np.array(adversarial_examples.cpu())\n",
    "print(adversarial_examples_cpu.shape)\n",
    "print(y_test2[:1000].shape)\n",
    "\n",
    "adversarial_examples_save = adversarial_examples_cpu.reshape(-1,47)\n",
    "y_test_save = torch.argmax(y_test2[:1000],dim=-1)\n",
    "\n",
    "print(adversarial_examples_save.shape)\n",
    "print(y_test_save.shape)\n",
    "\n",
    "attack = 'FGSM'\n",
    "pd.DataFrame(np.hstack((adversarial_examples_save,y_test_save.cpu().reshape(y_test_save.shape[0], 1))), \n",
    "             columns=data.columns).to_csv(\"adversarial_examples_BIM1.csv\")\n"
   ]
  },
  {
   "cell_type": "code",
   "execution_count": 332,
   "id": "0d4faa47",
   "metadata": {},
   "outputs": [
    {
     "data": {
      "application/vnd.jupyter.widget-view+json": {
       "model_id": "fbbd3aafb4e141c8a4b397d848ee55ba",
       "version_major": 2,
       "version_minor": 0
      },
      "text/plain": [
       "PGD - Batches:   0%|          | 0/8 [00:00<?, ?it/s]"
      ]
     },
     "metadata": {},
     "output_type": "display_data"
    },
    {
     "name": "stdout",
     "output_type": "stream",
     "text": [
      "Final Training Accuracy: 99.0000%\n",
      "Final Testing Accuracy : 26.5000%\n",
      "(1000, 1, 1, 47)\n",
      "torch.Size([1000, 2])\n",
      "(1000, 47)\n",
      "torch.Size([1000])\n"
     ]
    }
   ],
   "source": [
    "adversarial_crafter = BasicIterativeMethod(classifier, \n",
    "                                           eps=0.3, \n",
    "                                           eps_step=0.001,\n",
    "                                           max_iter=100, \n",
    "                                           targeted=False, \n",
    "                                           batch_size=128)\n",
    "x = np.array(x_test.cpu())\n",
    "adversarial_examples = adversarial_crafter.generate(x=x[:1000])\n",
    "adversarial_examples = torch.from_numpy(adversarial_examples).float()\n",
    "adversarial_examples = adversarial_examples.to(torch.device('cuda' if torch.cuda.is_available() else 'cpu'))\n",
    "stat_model(model, x_test[:1000], y_test2[:1000], adversarial_examples, y_test2[:1000])\n",
    "\n",
    "adversarial_examples_cpu = np.array(adversarial_examples.cpu())\n",
    "print(adversarial_examples_cpu.shape)\n",
    "print(y_test2[:1000].shape)\n",
    "\n",
    "adversarial_examples_save = adversarial_examples_cpu.reshape(-1,47)\n",
    "y_test_save = torch.argmax(y_test2[:1000],dim=-1)\n",
    "\n",
    "print(adversarial_examples_save.shape)\n",
    "print(y_test_save.shape)\n",
    "\n",
    "attack = 'FGSM'\n",
    "pd.DataFrame(np.hstack((adversarial_examples_save,y_test_save.cpu().reshape(y_test_save.shape[0], 1))), \n",
    "             columns=data.columns).to_csv(\"adversarial_examples_BIM2.csv\")\n"
   ]
  },
  {
   "cell_type": "code",
   "execution_count": 337,
   "id": "2f138b4c",
   "metadata": {},
   "outputs": [
    {
     "data": {
      "application/vnd.jupyter.widget-view+json": {
       "model_id": "21a5dd2a490847c4857c2abfd23b8653",
       "version_major": 2,
       "version_minor": 0
      },
      "text/plain": [
       "PGD - Batches:   0%|          | 0/8 [00:00<?, ?it/s]"
      ]
     },
     "metadata": {},
     "output_type": "display_data"
    },
    {
     "name": "stdout",
     "output_type": "stream",
     "text": [
      "Final Training Accuracy: 99.0000%\n",
      "Final Testing Accuracy : 25.4000%\n",
      "(1000, 1, 1, 47)\n",
      "torch.Size([1000, 2])\n",
      "(1000, 47)\n",
      "torch.Size([1000])\n"
     ]
    }
   ],
   "source": [
    "adversarial_crafter = ProjectedGradientDescent(classifier, \n",
    "                                           eps=0.1,\n",
    "                                        norm = 'inf', \n",
    "                                           eps_step=0.01,\n",
    "                                           max_iter=100, \n",
    "                                           targeted=False, \n",
    "                                           batch_size=128)\n",
    "x = np.array(x_test.cpu())\n",
    "adversarial_examples = adversarial_crafter.generate(x=x[:1000])\n",
    "adversarial_examples = torch.from_numpy(adversarial_examples).float()\n",
    "adversarial_examples = adversarial_examples.to(torch.device('cuda' if torch.cuda.is_available() else 'cpu'))\n",
    "stat_model(model, x_test[:1000], y_test2[:1000], adversarial_examples, y_test2[:1000])\n",
    "\n",
    "adversarial_examples_cpu = np.array(adversarial_examples.cpu())\n",
    "print(adversarial_examples_cpu.shape)\n",
    "print(y_test2[:1000].shape)\n",
    "\n",
    "adversarial_examples_save = adversarial_examples_cpu.reshape(-1,47)\n",
    "y_test_save = torch.argmax(y_test2[:1000],dim=-1)\n",
    "\n",
    "print(adversarial_examples_save.shape)\n",
    "print(y_test_save.shape)\n",
    "\n",
    "attack = 'FGSM'\n",
    "pd.DataFrame(np.hstack((adversarial_examples_save,y_test_save.cpu().reshape(y_test_save.shape[0], 1))), \n",
    "             columns=data.columns).to_csv(\"adversarial_examples_PGD1.csv\")\n"
   ]
  },
  {
   "cell_type": "code",
   "execution_count": 336,
   "id": "8146d4c2",
   "metadata": {},
   "outputs": [
    {
     "data": {
      "application/vnd.jupyter.widget-view+json": {
       "model_id": "2ac41f6afdff4bd7ade5fdfa19d267b7",
       "version_major": 2,
       "version_minor": 0
      },
      "text/plain": [
       "PGD - Batches:   0%|          | 0/8 [00:00<?, ?it/s]"
      ]
     },
     "metadata": {},
     "output_type": "display_data"
    },
    {
     "name": "stdout",
     "output_type": "stream",
     "text": [
      "Final Training Accuracy: 99.0000%\n",
      "Final Testing Accuracy : 7.0000%\n",
      "(1000, 1, 1, 47)\n",
      "torch.Size([1000, 2])\n",
      "(1000, 47)\n",
      "torch.Size([1000])\n"
     ]
    }
   ],
   "source": [
    "adversarial_crafter = ProjectedGradientDescent(classifier, \n",
    "                                           eps=0.3,\n",
    "                                        norm = 'inf', \n",
    "                                           eps_step=0.03,\n",
    "                                           max_iter=100, \n",
    "                                           targeted=False, \n",
    "                                           batch_size=128)\n",
    "x = np.array(x_test.cpu())\n",
    "adversarial_examples = adversarial_crafter.generate(x=x[:1000])\n",
    "adversarial_examples = torch.from_numpy(adversarial_examples).float()\n",
    "adversarial_examples = adversarial_examples.to(torch.device('cuda' if torch.cuda.is_available() else 'cpu'))\n",
    "stat_model(model, x_test[:1000], y_test2[:1000], adversarial_examples, y_test2[:1000])\n",
    "\n",
    "adversarial_examples_cpu = np.array(adversarial_examples.cpu())\n",
    "print(adversarial_examples_cpu.shape)\n",
    "print(y_test2[:1000].shape)\n",
    "\n",
    "adversarial_examples_save = adversarial_examples_cpu.reshape(-1,47)\n",
    "y_test_save = torch.argmax(y_test2[:1000],dim=-1)\n",
    "\n",
    "print(adversarial_examples_save.shape)\n",
    "print(y_test_save.shape)\n",
    "\n",
    "attack = 'FGSM'\n",
    "pd.DataFrame(np.hstack((adversarial_examples_save,y_test_save.cpu().reshape(y_test_save.shape[0], 1))), \n",
    "             columns=data.columns).to_csv(\"adversarial_examples_PGD2.csv\")\n"
   ]
  },
  {
   "cell_type": "code",
   "execution_count": 338,
   "id": "35519b00",
   "metadata": {},
   "outputs": [
    {
     "data": {
      "application/vnd.jupyter.widget-view+json": {
       "model_id": "861a2300dac341869d391e3865cd52c4",
       "version_major": 2,
       "version_minor": 0
      },
      "text/plain": [
       "C&W L_2:   0%|          | 0/8 [00:00<?, ?it/s]"
      ]
     },
     "metadata": {},
     "output_type": "display_data"
    },
    {
     "name": "stdout",
     "output_type": "stream",
     "text": [
      "Final Training Accuracy: 99.0000%\n",
      "Final Testing Accuracy : 2.0000%\n",
      "(1000, 1, 1, 47)\n",
      "torch.Size([1000, 2])\n",
      "(1000, 47)\n",
      "torch.Size([1000])\n"
     ]
    }
   ],
   "source": [
    "adversarial_crafter = CarliniL2Method(classifier,\n",
    "                                      confidence=0.0,\n",
    "                                      targeted=False,\n",
    "                                      learning_rate=0.01,\n",
    "                                      binary_search_steps=10,\n",
    "                                      max_iter=10,\n",
    "                                      initial_const=0.01,\n",
    "                                      max_halving=5,\n",
    "                                      max_doubling=5,\n",
    "                                      batch_size=128)\n",
    "x = np.array(x_test.cpu())\n",
    "adversarial_examples = adversarial_crafter.generate(x=x[:1000])\n",
    "adversarial_examples = torch.from_numpy(adversarial_examples).float()\n",
    "adversarial_examples = adversarial_examples.to(torch.device('cuda' if torch.cuda.is_available() else 'cpu'))\n",
    "stat_model(model, x_test[:1000], y_test2[:1000], adversarial_examples, y_test2[:1000])\n",
    "\n",
    "adversarial_examples_cpu = np.array(adversarial_examples.cpu())\n",
    "print(adversarial_examples_cpu.shape)\n",
    "print(y_test2[:1000].shape)\n",
    "\n",
    "adversarial_examples_save = adversarial_examples_cpu.reshape(-1,47)\n",
    "y_test_save = torch.argmax(y_test2[:1000],dim=-1)\n",
    "\n",
    "print(adversarial_examples_save.shape)\n",
    "print(y_test_save.shape)\n",
    "\n",
    "attack = 'FGSM'\n",
    "pd.DataFrame(np.hstack((adversarial_examples_save,y_test_save.cpu().reshape(y_test_save.shape[0], 1))), \n",
    "             columns=data.columns).to_csv(\"adversarial_examples_CW1.csv\")\n"
   ]
  },
  {
   "cell_type": "code",
   "execution_count": 339,
   "id": "e7ef711c",
   "metadata": {},
   "outputs": [
    {
     "data": {
      "application/vnd.jupyter.widget-view+json": {
       "model_id": "e2217777fff24091a44ca36bce243579",
       "version_major": 2,
       "version_minor": 0
      },
      "text/plain": [
       "C&W L_2:   0%|          | 0/8 [00:00<?, ?it/s]"
      ]
     },
     "metadata": {},
     "output_type": "display_data"
    },
    {
     "name": "stdout",
     "output_type": "stream",
     "text": [
      "Final Training Accuracy: 99.0000%\n",
      "Final Testing Accuracy : 2.0000%\n",
      "(1000, 1, 1, 47)\n",
      "torch.Size([1000, 2])\n",
      "(1000, 47)\n",
      "torch.Size([1000])\n"
     ]
    }
   ],
   "source": [
    "adversarial_crafter = CarliniL2Method(classifier,\n",
    "                                      confidence=0.0,\n",
    "                                      targeted=False,\n",
    "                                      learning_rate=0.01,\n",
    "                                      binary_search_steps=10,\n",
    "                                      max_iter=10,\n",
    "                                      initial_const=0.01,\n",
    "                                      max_halving=5,\n",
    "                                      max_doubling=5,\n",
    "                                      batch_size=128)\n",
    "x = np.array(x_test.cpu())\n",
    "adversarial_examples = adversarial_crafter.generate(x=x[:1000])\n",
    "adversarial_examples = torch.from_numpy(adversarial_examples).float()\n",
    "adversarial_examples = adversarial_examples.to(torch.device('cuda' if torch.cuda.is_available() else 'cpu'))\n",
    "stat_model(model, x_test[:1000], y_test2[:1000], adversarial_examples, y_test2[:1000])\n",
    "\n",
    "adversarial_examples_cpu = np.array(adversarial_examples.cpu())\n",
    "print(adversarial_examples_cpu.shape)\n",
    "print(y_test2[:1000].shape)\n",
    "\n",
    "adversarial_examples_save = adversarial_examples_cpu.reshape(-1,47)\n",
    "y_test_save = torch.argmax(y_test2[:1000],dim=-1)\n",
    "\n",
    "print(adversarial_examples_save.shape)\n",
    "print(y_test_save.shape)\n",
    "\n",
    "attack = 'FGSM'\n",
    "pd.DataFrame(np.hstack((adversarial_examples_save,y_test_save.cpu().reshape(y_test_save.shape[0], 1))), \n",
    "             columns=data.columns).to_csv(\"adversarial_examples_CW2.csv\")\n"
   ]
  },
  {
   "cell_type": "code",
   "execution_count": null,
   "id": "526b8b44",
   "metadata": {},
   "outputs": [],
   "source": []
  }
 ],
 "metadata": {
  "kernelspec": {
   "display_name": "adv_detection",
   "language": "python",
   "name": "adv_detection"
  },
  "language_info": {
   "codemirror_mode": {
    "name": "ipython",
    "version": 3
   },
   "file_extension": ".py",
   "mimetype": "text/x-python",
   "name": "python",
   "nbconvert_exporter": "python",
   "pygments_lexer": "ipython3",
   "version": "3.8.10"
  }
 },
 "nbformat": 4,
 "nbformat_minor": 5
}
