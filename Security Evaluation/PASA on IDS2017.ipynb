{
 "cells": [
  {
   "cell_type": "code",
   "execution_count": 106,
   "id": "815a8478",
   "metadata": {},
   "outputs": [],
   "source": [
    "import numpy as np\n",
    "import pandas as pd\n",
    "import matplotlib.pyplot as plt \n",
    "import torch\n",
    "import torch.nn as nn\n",
    "import torch.nn.functional as F\n",
    "import torchvision\n",
    "import matplotlib\n",
    "import matplotlib.pyplot as plt\n",
    "import pandas as pd\n",
    "from torch.utils.data import Dataset, DataLoader\n",
    "from sklearn.model_selection import train_test_split\n",
    "import gc\n",
    "from captum.attr import *\n",
    "import quantus\n",
    "import gc\n",
    "import torchvision.transforms as transforms\n",
    "import os\n",
    "import torch.optim as optim\n",
    "import torchvision.models as models\n",
    "import sklearn\n",
    "from sklearn.metrics import roc_auc_score"
   ]
  },
  {
   "cell_type": "code",
   "execution_count": 107,
   "id": "53a22c28",
   "metadata": {},
   "outputs": [],
   "source": [
    "# Device configuration\n",
    "device = torch.device('cuda' if torch.cuda.is_available() else 'cpu')"
   ]
  },
  {
   "cell_type": "code",
   "execution_count": 108,
   "id": "3e3ceaa0",
   "metadata": {},
   "outputs": [],
   "source": [
    "import warnings\n",
    "warnings.filterwarnings('ignore')"
   ]
  },
  {
   "cell_type": "code",
   "execution_count": 109,
   "id": "9a0298d2",
   "metadata": {},
   "outputs": [],
   "source": [
    "class Network(nn.Module):\n",
    "    ''' A basic neural network model '''\n",
    "    def __init__(self, input_size, hidden_size, output_size):\n",
    "        super().__init__()         #python2 : super(MLP, self).__init__()\n",
    "        #defining the network's operations\n",
    "        self.fc1 = nn.Linear(input_size, hidden_size[0])\n",
    "        self.fc2 = nn.Linear(hidden_size[0], hidden_size[1])\n",
    "        self.fc3 = nn.Linear(hidden_size[1], output_size)\n",
    "\n",
    "    def forward(self, x, softmax=False): \n",
    "        x = x.reshape(-1,47)\n",
    "        a = self.fc3(F.relu(self.fc2(F.relu(self.fc1(x.float())))))\n",
    "        if softmax:\n",
    "            y_pred = F.softmax(a, dim=1)\n",
    "        else:\n",
    "            y_pred = a\n",
    "        #print(y_pred.shape)\n",
    "        return y_pred"
   ]
  },
  {
   "cell_type": "code",
   "execution_count": 110,
   "id": "0f5c675a",
   "metadata": {},
   "outputs": [
    {
     "name": "stdout",
     "output_type": "stream",
     "text": [
      "Training on : cuda\n"
     ]
    }
   ],
   "source": [
    "# Setting device\n",
    "device = torch.device('cuda' if torch.cuda.is_available() else 'cpu')\n",
    "print(\"Training on : {}\".format(device))"
   ]
  },
  {
   "cell_type": "code",
   "execution_count": 111,
   "id": "5c163971",
   "metadata": {},
   "outputs": [
    {
     "data": {
      "text/plain": [
       "Network(\n",
       "  (fc1): Linear(in_features=47, out_features=64, bias=True)\n",
       "  (fc2): Linear(in_features=64, out_features=64, bias=True)\n",
       "  (fc3): Linear(in_features=64, out_features=2, bias=True)\n",
       ")"
      ]
     },
     "execution_count": 111,
     "metadata": {},
     "output_type": "execute_result"
    }
   ],
   "source": [
    "input_size = 47\n",
    "hidden_size=[64,64]\n",
    "output_size=2\n",
    "model = Network(input_size, hidden_size, output_size)\n",
    "model"
   ]
  },
  {
   "cell_type": "code",
   "execution_count": 112,
   "id": "6f78b5ae",
   "metadata": {},
   "outputs": [
    {
     "data": {
      "text/plain": [
       "Network(\n",
       "  (fc1): Linear(in_features=47, out_features=64, bias=True)\n",
       "  (fc2): Linear(in_features=64, out_features=64, bias=True)\n",
       "  (fc3): Linear(in_features=64, out_features=2, bias=True)\n",
       ")"
      ]
     },
     "execution_count": 112,
     "metadata": {},
     "output_type": "execute_result"
    }
   ],
   "source": [
    "model.to(device)"
   ]
  },
  {
   "cell_type": "code",
   "execution_count": 113,
   "id": "4d6468ed",
   "metadata": {},
   "outputs": [
    {
     "data": {
      "text/html": [
       "<div>\n",
       "<style scoped>\n",
       "    .dataframe tbody tr th:only-of-type {\n",
       "        vertical-align: middle;\n",
       "    }\n",
       "\n",
       "    .dataframe tbody tr th {\n",
       "        vertical-align: top;\n",
       "    }\n",
       "\n",
       "    .dataframe thead th {\n",
       "        text-align: right;\n",
       "    }\n",
       "</style>\n",
       "<table border=\"1\" class=\"dataframe\">\n",
       "  <thead>\n",
       "    <tr style=\"text-align: right;\">\n",
       "      <th></th>\n",
       "      <th>Unnamed: 0</th>\n",
       "      <th>Destination Port</th>\n",
       "      <th>Fwd Packet Length Mean</th>\n",
       "      <th>Fwd Packet Length Std</th>\n",
       "      <th>Bwd Packet Length Mean</th>\n",
       "      <th>Bwd Packet Length Std</th>\n",
       "      <th>Flow Bytes/s</th>\n",
       "      <th>Flow Packets/s</th>\n",
       "      <th>Flow IAT Mean</th>\n",
       "      <th>Flow IAT Std</th>\n",
       "      <th>...</th>\n",
       "      <th>Subflow Bwd Bytes</th>\n",
       "      <th>Init_Win_bytes_forward</th>\n",
       "      <th>Init_Win_bytes_backward</th>\n",
       "      <th>act_data_pkt_fwd</th>\n",
       "      <th>min_seg_size_forward</th>\n",
       "      <th>Active Mean</th>\n",
       "      <th>Active Std</th>\n",
       "      <th>Active Max</th>\n",
       "      <th>Active Min</th>\n",
       "      <th>Class</th>\n",
       "    </tr>\n",
       "  </thead>\n",
       "  <tbody>\n",
       "    <tr>\n",
       "      <th>0</th>\n",
       "      <td>0</td>\n",
       "      <td>80.0</td>\n",
       "      <td>0.000000</td>\n",
       "      <td>0.00000</td>\n",
       "      <td>0.0000</td>\n",
       "      <td>0.0000</td>\n",
       "      <td>0.000000</td>\n",
       "      <td>4000.000000</td>\n",
       "      <td>3.333333e+02</td>\n",
       "      <td>1.753777e+02</td>\n",
       "      <td>...</td>\n",
       "      <td>0.0</td>\n",
       "      <td>251.0</td>\n",
       "      <td>-1.0</td>\n",
       "      <td>0.0</td>\n",
       "      <td>32.0</td>\n",
       "      <td>0.0</td>\n",
       "      <td>0.0</td>\n",
       "      <td>0.0</td>\n",
       "      <td>0.0</td>\n",
       "      <td>1.0</td>\n",
       "    </tr>\n",
       "    <tr>\n",
       "      <th>1</th>\n",
       "      <td>1</td>\n",
       "      <td>80.0</td>\n",
       "      <td>54.666668</td>\n",
       "      <td>133.90544</td>\n",
       "      <td>2898.7500</td>\n",
       "      <td>4095.5662</td>\n",
       "      <td>119.999920</td>\n",
       "      <td>0.100646</td>\n",
       "      <td>1.100000e+07</td>\n",
       "      <td>3.310000e+07</td>\n",
       "      <td>...</td>\n",
       "      <td>11595.0</td>\n",
       "      <td>251.0</td>\n",
       "      <td>235.0</td>\n",
       "      <td>1.0</td>\n",
       "      <td>32.0</td>\n",
       "      <td>4.0</td>\n",
       "      <td>0.0</td>\n",
       "      <td>4.0</td>\n",
       "      <td>4.0</td>\n",
       "      <td>1.0</td>\n",
       "    </tr>\n",
       "    <tr>\n",
       "      <th>2</th>\n",
       "      <td>2</td>\n",
       "      <td>80.0</td>\n",
       "      <td>115.666664</td>\n",
       "      <td>173.50000</td>\n",
       "      <td>1656.4286</td>\n",
       "      <td>1547.7377</td>\n",
       "      <td>125.453190</td>\n",
       "      <td>0.158852</td>\n",
       "      <td>6.714855e+06</td>\n",
       "      <td>2.580000e+07</td>\n",
       "      <td>...</td>\n",
       "      <td>11595.0</td>\n",
       "      <td>274.0</td>\n",
       "      <td>235.0</td>\n",
       "      <td>3.0</td>\n",
       "      <td>32.0</td>\n",
       "      <td>1003.0</td>\n",
       "      <td>0.0</td>\n",
       "      <td>1003.0</td>\n",
       "      <td>1003.0</td>\n",
       "      <td>1.0</td>\n",
       "    </tr>\n",
       "    <tr>\n",
       "      <th>3</th>\n",
       "      <td>3</td>\n",
       "      <td>80.0</td>\n",
       "      <td>6.000000</td>\n",
       "      <td>0.00000</td>\n",
       "      <td>0.0000</td>\n",
       "      <td>0.0000</td>\n",
       "      <td>8.818477</td>\n",
       "      <td>1.469746</td>\n",
       "      <td>8.504870e+05</td>\n",
       "      <td>1.697628e+06</td>\n",
       "      <td>...</td>\n",
       "      <td>0.0</td>\n",
       "      <td>256.0</td>\n",
       "      <td>-1.0</td>\n",
       "      <td>4.0</td>\n",
       "      <td>20.0</td>\n",
       "      <td>0.0</td>\n",
       "      <td>0.0</td>\n",
       "      <td>0.0</td>\n",
       "      <td>0.0</td>\n",
       "      <td>1.0</td>\n",
       "    </tr>\n",
       "    <tr>\n",
       "      <th>4</th>\n",
       "      <td>4</td>\n",
       "      <td>80.0</td>\n",
       "      <td>100.000000</td>\n",
       "      <td>173.20508</td>\n",
       "      <td>1932.5000</td>\n",
       "      <td>1977.8129</td>\n",
       "      <td>83350.850000</td>\n",
       "      <td>63.064957</td>\n",
       "      <td>1.783875e+04</td>\n",
       "      <td>4.638334e+04</td>\n",
       "      <td>...</td>\n",
       "      <td>11595.0</td>\n",
       "      <td>29200.0</td>\n",
       "      <td>235.0</td>\n",
       "      <td>1.0</td>\n",
       "      <td>32.0</td>\n",
       "      <td>0.0</td>\n",
       "      <td>0.0</td>\n",
       "      <td>0.0</td>\n",
       "      <td>0.0</td>\n",
       "      <td>1.0</td>\n",
       "    </tr>\n",
       "  </tbody>\n",
       "</table>\n",
       "<p>5 rows × 49 columns</p>\n",
       "</div>"
      ],
      "text/plain": [
       "   Unnamed: 0   Destination Port   Fwd Packet Length Mean   \n",
       "0           0               80.0                 0.000000  \\\n",
       "1           1               80.0                54.666668   \n",
       "2           2               80.0               115.666664   \n",
       "3           3               80.0                 6.000000   \n",
       "4           4               80.0               100.000000   \n",
       "\n",
       "    Fwd Packet Length Std   Bwd Packet Length Mean   Bwd Packet Length Std   \n",
       "0                 0.00000                   0.0000                  0.0000  \\\n",
       "1               133.90544                2898.7500               4095.5662   \n",
       "2               173.50000                1656.4286               1547.7377   \n",
       "3                 0.00000                   0.0000                  0.0000   \n",
       "4               173.20508                1932.5000               1977.8129   \n",
       "\n",
       "   Flow Bytes/s   Flow Packets/s   Flow IAT Mean   Flow IAT Std  ...   \n",
       "0      0.000000      4000.000000    3.333333e+02   1.753777e+02  ...  \\\n",
       "1    119.999920         0.100646    1.100000e+07   3.310000e+07  ...   \n",
       "2    125.453190         0.158852    6.714855e+06   2.580000e+07  ...   \n",
       "3      8.818477         1.469746    8.504870e+05   1.697628e+06  ...   \n",
       "4  83350.850000        63.064957    1.783875e+04   4.638334e+04  ...   \n",
       "\n",
       "    Subflow Bwd Bytes  Init_Win_bytes_forward   Init_Win_bytes_backward   \n",
       "0                 0.0                   251.0                      -1.0  \\\n",
       "1             11595.0                   251.0                     235.0   \n",
       "2             11595.0                   274.0                     235.0   \n",
       "3                 0.0                   256.0                      -1.0   \n",
       "4             11595.0                 29200.0                     235.0   \n",
       "\n",
       "    act_data_pkt_fwd   min_seg_size_forward  Active Mean   Active Std   \n",
       "0                0.0                   32.0          0.0          0.0  \\\n",
       "1                1.0                   32.0          4.0          0.0   \n",
       "2                3.0                   32.0       1003.0          0.0   \n",
       "3                4.0                   20.0          0.0          0.0   \n",
       "4                1.0                   32.0          0.0          0.0   \n",
       "\n",
       "    Active Max   Active Min  Class  \n",
       "0          0.0          0.0    1.0  \n",
       "1          4.0          4.0    1.0  \n",
       "2       1003.0       1003.0    1.0  \n",
       "3          0.0          0.0    1.0  \n",
       "4          0.0          0.0    1.0  \n",
       "\n",
       "[5 rows x 49 columns]"
      ]
     },
     "execution_count": 113,
     "metadata": {},
     "output_type": "execute_result"
    }
   ],
   "source": [
    "df = pd.read_csv('clean_examples.csv')\n",
    "df.head()"
   ]
  },
  {
   "cell_type": "code",
   "execution_count": 114,
   "id": "42b7a25f",
   "metadata": {},
   "outputs": [],
   "source": [
    "class CustomDataset(Dataset):\n",
    "    def __init__(self, csv_file):\n",
    "        self.data = pd.read_csv(csv_file)\n",
    "        self.data = self.data.drop(self.data.columns[0], axis=1)  # Remove unnecessary index column\n",
    "        self.features = self.data.iloc[:, :-1].values  # Features (all columns except the last)\n",
    "        self.labels = self.data.iloc[:, -1].values     # Labels (last column)\n",
    "\n",
    "    def __len__(self):\n",
    "        return len(self.data)\n",
    "\n",
    "    def __getitem__(self, idx):\n",
    "        return torch.tensor(self.features[idx], dtype=torch.float32), torch.tensor(self.labels[idx], dtype=torch.long)\n",
    "\n",
    "# Load CSV file and split into train and test sets\n",
    "dataset = CustomDataset('clean_examples.csv')\n",
    "train_data, test_data = train_test_split(dataset, test_size=0.3, random_state=42)\n",
    "\n",
    "# Create data loaders for training and testing\n",
    "batch_size = 64\n",
    "train_loader = DataLoader(train_data, batch_size=batch_size, shuffle=True)\n",
    "test_loader = DataLoader(test_data, batch_size=batch_size, shuffle=False)"
   ]
  },
  {
   "cell_type": "code",
   "execution_count": 115,
   "id": "41f8166c",
   "metadata": {},
   "outputs": [],
   "source": [
    "def make_noise(x_batch, y_batch, spread):\n",
    "    new_x_batch = []\n",
    "    for x in x_batch:\n",
    "        x = x.data.cpu().numpy()\n",
    "        stdev = spread * (np.max(x)-np.min(x))\n",
    "        #print(stdev)\n",
    "        noise = np.random.normal(0, stdev, x.shape).astype(np.float32)\n",
    "        x_plus_noise = x + noise\n",
    "        x_plus_noise = np.clip(x_plus_noise, 0, 1)\n",
    "        x_plus_noise = torch.from_numpy(x_plus_noise).cpu()\n",
    "        new_x_batch.append(x_plus_noise)\n",
    "    new_batch = torch.stack(new_x_batch).to(device)\n",
    "    return new_batch"
   ]
  },
  {
   "cell_type": "code",
   "execution_count": 116,
   "id": "5315e04a",
   "metadata": {},
   "outputs": [],
   "source": [
    "def compute_metrics_benign(train_loader, normal_model): \n",
    "    \n",
    "    print(\"Computing metrics for {} for benign\")\n",
    "\n",
    "    \n",
    "    #attribution robustness\n",
    "    attribution_gaussian1 = []\n",
    "    attribution_gaussian2 = []\n",
    "    attribution_gaussian3 = []\n",
    "    attribution_gaussian4 = []\n",
    "    attribution_gaussian5 = []\n",
    "    \n",
    "    #logit robustness\n",
    "    logit_gaussian1 = []\n",
    "    logit_gaussian2 = []\n",
    "    logit_gaussian3 = []\n",
    "    logit_gaussian4 = []\n",
    "    logit_gaussian5 = []\n",
    "    \n",
    "    for step, (x_batch, y_batch) in enumerate(train_loader):\n",
    "        \n",
    "        \n",
    "        images_adv, y_pred_adv = x_batch.to(device), y_batch.to(device)\n",
    "        x_logits = normal_model(images_adv)\n",
    "        \n",
    "        a_batch = quantus.explain(\n",
    "            model=normal_model, inputs=images_adv, targets=y_pred_adv, **{\"method:\": \"IntegratedGradient\", \"device\": device})\n",
    "        \n",
    "        gaussian_noisy_images_1 = make_noise(images_adv, y_pred_adv, spread = 0.0005)\n",
    "        gaussian_logits_1 = normal_model(gaussian_noisy_images_1)\n",
    "        \n",
    "        gaussian_noisy_images_2 = make_noise(images_adv, y_pred_adv, spread = 0.001)\n",
    "        gaussian_logits_2 = normal_model(gaussian_noisy_images_2)\n",
    "        \n",
    "        gaussian_noisy_images_3 = make_noise(images_adv, y_pred_adv, spread = 0.005)\n",
    "        gaussian_logits_3 = normal_model(gaussian_noisy_images_3)\n",
    "        \n",
    "        gaussian_noisy_images_4 = make_noise(images_adv, y_pred_adv, spread = 0.01)\n",
    "        gaussian_logits_4 = normal_model(gaussian_noisy_images_4)\n",
    "        \n",
    "        gaussian_noisy_images_5 = make_noise(images_adv, y_pred_adv, spread = 0.1)\n",
    "        gaussian_logits_5 = normal_model(gaussian_noisy_images_5)\n",
    "        \n",
    "        \n",
    "        diff1 = torch.norm(x_logits-gaussian_logits_1,p=1, dim=1) \n",
    "        diff2 = torch.norm(x_logits-gaussian_logits_2,p=1, dim=1) \n",
    "        diff3 = torch.norm(x_logits-gaussian_logits_3,p=1, dim=1) \n",
    "        diff4 = torch.norm(x_logits-gaussian_logits_4,p=1, dim=1) \n",
    "        diff5 = torch.norm(x_logits-gaussian_logits_5,p=1, dim=1) \n",
    "        \n",
    "        logit_gaussian1.extend(diff1.detach().cpu().numpy())\n",
    "        logit_gaussian2.extend(diff2.detach().cpu().numpy())\n",
    "        logit_gaussian3.extend(diff3.detach().cpu().numpy())\n",
    "        logit_gaussian4.extend(diff4.detach().cpu().numpy())\n",
    "        logit_gaussian5.extend(diff5.detach().cpu().numpy())\n",
    "        \n",
    "        a_batch_gaussian1 = quantus.explain(\n",
    "        model=normal_model, inputs=gaussian_noisy_images_1, targets=y_pred_adv, **{\"method:\": \"IntegratedGradient\", \"device\": device})\n",
    "        \n",
    "        a_batch_gaussian2 = quantus.explain(\n",
    "        model=normal_model, inputs=gaussian_noisy_images_2, targets=y_pred_adv, **{\"method:\": \"IntegratedGradient\", \"device\": device})\n",
    "        \n",
    "        a_batch_gaussian3 = quantus.explain(\n",
    "        model=normal_model, inputs=gaussian_noisy_images_3, targets=y_pred_adv, **{\"method:\": \"IntegratedGradient\", \"device\": device})\n",
    "        \n",
    "        a_batch_gaussian4 = quantus.explain(\n",
    "        model=normal_model, inputs=gaussian_noisy_images_4, targets=y_pred_adv, **{\"method:\": \"IntegratedGradient\", \"device\": device})\n",
    "        \n",
    "        a_batch_gaussian5 = quantus.explain(\n",
    "        model=normal_model, inputs=gaussian_noisy_images_5, targets=y_pred_adv, **{\"method:\": \"IntegratedGradient\", \"device\": device})\n",
    "        \n",
    "        \n",
    "        \n",
    "        for a, b in zip(a_batch, a_batch_gaussian1):\n",
    "            c = np.linalg.norm(a.flatten()-b.flatten(),ord=1 )\n",
    "            attribution_gaussian1.append(c)\n",
    "            \n",
    "        for a, b in zip(a_batch, a_batch_gaussian2):\n",
    "            c = np.linalg.norm(a.flatten()-b.flatten(),ord=1 )\n",
    "            attribution_gaussian2.append(c)\n",
    "        \n",
    "        for a, b in zip(a_batch, a_batch_gaussian3):\n",
    "            c = np.linalg.norm(a.flatten()-b.flatten(),ord=1 )\n",
    "            attribution_gaussian3.append(c)\n",
    "            \n",
    "        for a, b in zip(a_batch, a_batch_gaussian4):\n",
    "            c = np.linalg.norm(a.flatten()-b.flatten(),ord=1 )\n",
    "            attribution_gaussian4.append(c)\n",
    "        \n",
    "        for a, b in zip(a_batch, a_batch_gaussian5):\n",
    "            c = np.linalg.norm(a.flatten()-b.flatten(),ord=1 )\n",
    "            attribution_gaussian5.append(c)\n",
    "        \n",
    "       \n",
    "        if step%20==0:\n",
    "            print(step)\n",
    "        if step > 20:\n",
    "            break\n",
    "        \n",
    "        \n",
    "    df = pd.DataFrame([\n",
    "            \n",
    "            attribution_gaussian1,\n",
    "            attribution_gaussian2,\n",
    "            attribution_gaussian3,\n",
    "        attribution_gaussian4,\n",
    "        attribution_gaussian5,\n",
    "            logit_gaussian1,\n",
    "            logit_gaussian2,\n",
    "            logit_gaussian3,\n",
    "    logit_gaussian4,\n",
    "    logit_gaussian5], index = [\n",
    "            \"Gaussian1 attribution\", \n",
    "            \"Gaussian2 attribution\", \n",
    "            \"Gaussian3 attribution\",\n",
    "        \"Gaussian4 attribution\",\n",
    "        \"Gaussian5 attribution\",\n",
    "            \"Gaussian1 logit robusntess\",\n",
    "            \"Gaussian2 logit robusntess\",\n",
    "            \"Gaussian3 logit robusntess\",\n",
    "        \"Gaussian4 logit robusntess\",\n",
    "        \"Gaussian5 logit robusntess\"\n",
    "                    ])\n",
    "            \n",
    "    path = \"kdd_Benign.csv\"\n",
    "    df.to_csv(path)"
   ]
  },
  {
   "cell_type": "code",
   "execution_count": 117,
   "id": "4a09d7a4",
   "metadata": {},
   "outputs": [
    {
     "name": "stdout",
     "output_type": "stream",
     "text": [
      "Computing metrics for {} for benign\n",
      "0\n",
      "20\n"
     ]
    }
   ],
   "source": [
    "compute_metrics_benign(train_loader, model)"
   ]
  },
  {
   "cell_type": "code",
   "execution_count": 118,
   "id": "ddc45d0c",
   "metadata": {},
   "outputs": [
    {
     "data": {
      "text/html": [
       "<div>\n",
       "<style scoped>\n",
       "    .dataframe tbody tr th:only-of-type {\n",
       "        vertical-align: middle;\n",
       "    }\n",
       "\n",
       "    .dataframe tbody tr th {\n",
       "        vertical-align: top;\n",
       "    }\n",
       "\n",
       "    .dataframe thead th {\n",
       "        text-align: right;\n",
       "    }\n",
       "</style>\n",
       "<table border=\"1\" class=\"dataframe\">\n",
       "  <thead>\n",
       "    <tr style=\"text-align: right;\">\n",
       "      <th></th>\n",
       "      <th>Unnamed: 0</th>\n",
       "      <th>0</th>\n",
       "      <th>1</th>\n",
       "      <th>2</th>\n",
       "      <th>3</th>\n",
       "      <th>4</th>\n",
       "      <th>5</th>\n",
       "      <th>6</th>\n",
       "      <th>7</th>\n",
       "      <th>8</th>\n",
       "      <th>...</th>\n",
       "      <th>1398</th>\n",
       "      <th>1399</th>\n",
       "      <th>1400</th>\n",
       "      <th>1401</th>\n",
       "      <th>1402</th>\n",
       "      <th>1403</th>\n",
       "      <th>1404</th>\n",
       "      <th>1405</th>\n",
       "      <th>1406</th>\n",
       "      <th>1407</th>\n",
       "    </tr>\n",
       "  </thead>\n",
       "  <tbody>\n",
       "    <tr>\n",
       "      <th>0</th>\n",
       "      <td>Gaussian1 attribution</td>\n",
       "      <td>5.072183e-01</td>\n",
       "      <td>5.154430e-01</td>\n",
       "      <td>0.501813</td>\n",
       "      <td>0.524803</td>\n",
       "      <td>0.542895</td>\n",
       "      <td>5.025238e-01</td>\n",
       "      <td>0.533751</td>\n",
       "      <td>0.431174</td>\n",
       "      <td>5.306506e-01</td>\n",
       "      <td>...</td>\n",
       "      <td>5.256370e-01</td>\n",
       "      <td>0.560047</td>\n",
       "      <td>0.408668</td>\n",
       "      <td>5.341208e-01</td>\n",
       "      <td>0.668869</td>\n",
       "      <td>5.881110e-01</td>\n",
       "      <td>0.567430</td>\n",
       "      <td>0.474643</td>\n",
       "      <td>0.517892</td>\n",
       "      <td>5.202963e-01</td>\n",
       "    </tr>\n",
       "    <tr>\n",
       "      <th>1</th>\n",
       "      <td>Gaussian2 attribution</td>\n",
       "      <td>4.518653e-01</td>\n",
       "      <td>5.693597e-01</td>\n",
       "      <td>0.606384</td>\n",
       "      <td>0.508565</td>\n",
       "      <td>0.513216</td>\n",
       "      <td>6.151933e-01</td>\n",
       "      <td>0.487970</td>\n",
       "      <td>0.466428</td>\n",
       "      <td>4.459232e-01</td>\n",
       "      <td>...</td>\n",
       "      <td>5.580775e-01</td>\n",
       "      <td>0.529787</td>\n",
       "      <td>0.558125</td>\n",
       "      <td>4.740912e-01</td>\n",
       "      <td>0.507535</td>\n",
       "      <td>5.754710e-01</td>\n",
       "      <td>0.533431</td>\n",
       "      <td>0.624260</td>\n",
       "      <td>0.442721</td>\n",
       "      <td>5.470799e-01</td>\n",
       "    </tr>\n",
       "    <tr>\n",
       "      <th>2</th>\n",
       "      <td>Gaussian3 attribution</td>\n",
       "      <td>6.035586e-01</td>\n",
       "      <td>5.007122e-01</td>\n",
       "      <td>0.651320</td>\n",
       "      <td>0.476987</td>\n",
       "      <td>0.730565</td>\n",
       "      <td>4.764456e-01</td>\n",
       "      <td>0.492435</td>\n",
       "      <td>0.386274</td>\n",
       "      <td>4.076224e-01</td>\n",
       "      <td>...</td>\n",
       "      <td>6.526112e-01</td>\n",
       "      <td>0.634785</td>\n",
       "      <td>0.518798</td>\n",
       "      <td>4.097553e-01</td>\n",
       "      <td>0.421005</td>\n",
       "      <td>5.351726e-01</td>\n",
       "      <td>0.572759</td>\n",
       "      <td>0.552306</td>\n",
       "      <td>0.437323</td>\n",
       "      <td>5.655353e-01</td>\n",
       "    </tr>\n",
       "    <tr>\n",
       "      <th>3</th>\n",
       "      <td>Gaussian4 attribution</td>\n",
       "      <td>5.735952e-01</td>\n",
       "      <td>5.991517e-01</td>\n",
       "      <td>0.492654</td>\n",
       "      <td>0.487049</td>\n",
       "      <td>0.650008</td>\n",
       "      <td>4.771106e-01</td>\n",
       "      <td>0.501854</td>\n",
       "      <td>0.457017</td>\n",
       "      <td>4.717616e-01</td>\n",
       "      <td>...</td>\n",
       "      <td>7.132835e-01</td>\n",
       "      <td>0.600675</td>\n",
       "      <td>0.484809</td>\n",
       "      <td>5.555288e-01</td>\n",
       "      <td>0.554833</td>\n",
       "      <td>5.317735e-01</td>\n",
       "      <td>0.461032</td>\n",
       "      <td>0.621532</td>\n",
       "      <td>0.413933</td>\n",
       "      <td>4.995610e-01</td>\n",
       "    </tr>\n",
       "    <tr>\n",
       "      <th>4</th>\n",
       "      <td>Gaussian5 attribution</td>\n",
       "      <td>5.567308e-01</td>\n",
       "      <td>4.903483e-01</td>\n",
       "      <td>0.634305</td>\n",
       "      <td>0.583880</td>\n",
       "      <td>0.495934</td>\n",
       "      <td>5.481898e-01</td>\n",
       "      <td>0.400034</td>\n",
       "      <td>0.506202</td>\n",
       "      <td>4.242061e-01</td>\n",
       "      <td>...</td>\n",
       "      <td>6.065265e-01</td>\n",
       "      <td>0.429841</td>\n",
       "      <td>0.506084</td>\n",
       "      <td>5.397491e-01</td>\n",
       "      <td>0.585346</td>\n",
       "      <td>5.144474e-01</td>\n",
       "      <td>0.547653</td>\n",
       "      <td>0.524302</td>\n",
       "      <td>0.481598</td>\n",
       "      <td>4.776257e-01</td>\n",
       "    </tr>\n",
       "    <tr>\n",
       "      <th>5</th>\n",
       "      <td>Gaussian1 logit robusntess</td>\n",
       "      <td>1.869227e+06</td>\n",
       "      <td>2.437048e+06</td>\n",
       "      <td>319583.500000</td>\n",
       "      <td>365384.280000</td>\n",
       "      <td>1713.582600</td>\n",
       "      <td>2.565544e+06</td>\n",
       "      <td>1679.781000</td>\n",
       "      <td>23962.680000</td>\n",
       "      <td>2.316686e+06</td>\n",
       "      <td>...</td>\n",
       "      <td>2.819776e+06</td>\n",
       "      <td>244803.620000</td>\n",
       "      <td>34739.560000</td>\n",
       "      <td>2.243899e+06</td>\n",
       "      <td>35274.890000</td>\n",
       "      <td>1.843656e+06</td>\n",
       "      <td>21832.746000</td>\n",
       "      <td>329278.560000</td>\n",
       "      <td>1133.263900</td>\n",
       "      <td>3.394028e+06</td>\n",
       "    </tr>\n",
       "    <tr>\n",
       "      <th>6</th>\n",
       "      <td>Gaussian2 logit robusntess</td>\n",
       "      <td>1.869227e+06</td>\n",
       "      <td>2.437048e+06</td>\n",
       "      <td>319583.440000</td>\n",
       "      <td>365384.280000</td>\n",
       "      <td>1713.524000</td>\n",
       "      <td>2.565544e+06</td>\n",
       "      <td>1679.755900</td>\n",
       "      <td>23962.723000</td>\n",
       "      <td>2.316686e+06</td>\n",
       "      <td>...</td>\n",
       "      <td>2.819776e+06</td>\n",
       "      <td>244803.620000</td>\n",
       "      <td>34739.590000</td>\n",
       "      <td>2.243899e+06</td>\n",
       "      <td>35274.832000</td>\n",
       "      <td>1.843656e+06</td>\n",
       "      <td>21832.707000</td>\n",
       "      <td>329278.470000</td>\n",
       "      <td>1133.366300</td>\n",
       "      <td>3.394027e+06</td>\n",
       "    </tr>\n",
       "    <tr>\n",
       "      <th>7</th>\n",
       "      <td>Gaussian3 logit robusntess</td>\n",
       "      <td>1.869227e+06</td>\n",
       "      <td>2.437048e+06</td>\n",
       "      <td>319583.340000</td>\n",
       "      <td>365384.340000</td>\n",
       "      <td>1713.648900</td>\n",
       "      <td>2.565544e+06</td>\n",
       "      <td>1679.808700</td>\n",
       "      <td>23962.715000</td>\n",
       "      <td>2.316686e+06</td>\n",
       "      <td>...</td>\n",
       "      <td>2.819776e+06</td>\n",
       "      <td>244803.660000</td>\n",
       "      <td>34739.605000</td>\n",
       "      <td>2.243899e+06</td>\n",
       "      <td>35274.863000</td>\n",
       "      <td>1.843656e+06</td>\n",
       "      <td>21832.707000</td>\n",
       "      <td>329278.600000</td>\n",
       "      <td>1133.276500</td>\n",
       "      <td>3.394028e+06</td>\n",
       "    </tr>\n",
       "    <tr>\n",
       "      <th>8</th>\n",
       "      <td>Gaussian4 logit robusntess</td>\n",
       "      <td>1.869227e+06</td>\n",
       "      <td>2.437048e+06</td>\n",
       "      <td>319583.500000</td>\n",
       "      <td>365384.250000</td>\n",
       "      <td>1713.640400</td>\n",
       "      <td>2.565544e+06</td>\n",
       "      <td>1679.772700</td>\n",
       "      <td>23962.812000</td>\n",
       "      <td>2.316686e+06</td>\n",
       "      <td>...</td>\n",
       "      <td>2.819776e+06</td>\n",
       "      <td>244803.670000</td>\n",
       "      <td>34739.640000</td>\n",
       "      <td>2.243899e+06</td>\n",
       "      <td>35274.914000</td>\n",
       "      <td>1.843656e+06</td>\n",
       "      <td>21832.710000</td>\n",
       "      <td>329278.560000</td>\n",
       "      <td>1133.287800</td>\n",
       "      <td>3.394027e+06</td>\n",
       "    </tr>\n",
       "    <tr>\n",
       "      <th>9</th>\n",
       "      <td>Gaussian5 logit robusntess</td>\n",
       "      <td>1.869227e+06</td>\n",
       "      <td>2.437048e+06</td>\n",
       "      <td>319583.400000</td>\n",
       "      <td>365384.280000</td>\n",
       "      <td>1713.574800</td>\n",
       "      <td>2.565544e+06</td>\n",
       "      <td>1679.775900</td>\n",
       "      <td>23962.658000</td>\n",
       "      <td>2.316686e+06</td>\n",
       "      <td>...</td>\n",
       "      <td>2.819776e+06</td>\n",
       "      <td>244803.660000</td>\n",
       "      <td>34739.610000</td>\n",
       "      <td>2.243899e+06</td>\n",
       "      <td>35274.867000</td>\n",
       "      <td>1.843656e+06</td>\n",
       "      <td>21832.805000</td>\n",
       "      <td>329278.530000</td>\n",
       "      <td>1133.332900</td>\n",
       "      <td>3.394027e+06</td>\n",
       "    </tr>\n",
       "  </tbody>\n",
       "</table>\n",
       "<p>10 rows × 1409 columns</p>\n",
       "</div>"
      ],
      "text/plain": [
       "                   Unnamed: 0             0             1              2   \n",
       "0       Gaussian1 attribution  5.072183e-01  5.154430e-01       0.501813  \\\n",
       "1       Gaussian2 attribution  4.518653e-01  5.693597e-01       0.606384   \n",
       "2       Gaussian3 attribution  6.035586e-01  5.007122e-01       0.651320   \n",
       "3       Gaussian4 attribution  5.735952e-01  5.991517e-01       0.492654   \n",
       "4       Gaussian5 attribution  5.567308e-01  4.903483e-01       0.634305   \n",
       "5  Gaussian1 logit robusntess  1.869227e+06  2.437048e+06  319583.500000   \n",
       "6  Gaussian2 logit robusntess  1.869227e+06  2.437048e+06  319583.440000   \n",
       "7  Gaussian3 logit robusntess  1.869227e+06  2.437048e+06  319583.340000   \n",
       "8  Gaussian4 logit robusntess  1.869227e+06  2.437048e+06  319583.500000   \n",
       "9  Gaussian5 logit robusntess  1.869227e+06  2.437048e+06  319583.400000   \n",
       "\n",
       "               3            4             5            6             7   \n",
       "0       0.524803     0.542895  5.025238e-01     0.533751      0.431174  \\\n",
       "1       0.508565     0.513216  6.151933e-01     0.487970      0.466428   \n",
       "2       0.476987     0.730565  4.764456e-01     0.492435      0.386274   \n",
       "3       0.487049     0.650008  4.771106e-01     0.501854      0.457017   \n",
       "4       0.583880     0.495934  5.481898e-01     0.400034      0.506202   \n",
       "5  365384.280000  1713.582600  2.565544e+06  1679.781000  23962.680000   \n",
       "6  365384.280000  1713.524000  2.565544e+06  1679.755900  23962.723000   \n",
       "7  365384.340000  1713.648900  2.565544e+06  1679.808700  23962.715000   \n",
       "8  365384.250000  1713.640400  2.565544e+06  1679.772700  23962.812000   \n",
       "9  365384.280000  1713.574800  2.565544e+06  1679.775900  23962.658000   \n",
       "\n",
       "              8  ...          1398           1399          1400          1401   \n",
       "0  5.306506e-01  ...  5.256370e-01       0.560047      0.408668  5.341208e-01  \\\n",
       "1  4.459232e-01  ...  5.580775e-01       0.529787      0.558125  4.740912e-01   \n",
       "2  4.076224e-01  ...  6.526112e-01       0.634785      0.518798  4.097553e-01   \n",
       "3  4.717616e-01  ...  7.132835e-01       0.600675      0.484809  5.555288e-01   \n",
       "4  4.242061e-01  ...  6.065265e-01       0.429841      0.506084  5.397491e-01   \n",
       "5  2.316686e+06  ...  2.819776e+06  244803.620000  34739.560000  2.243899e+06   \n",
       "6  2.316686e+06  ...  2.819776e+06  244803.620000  34739.590000  2.243899e+06   \n",
       "7  2.316686e+06  ...  2.819776e+06  244803.660000  34739.605000  2.243899e+06   \n",
       "8  2.316686e+06  ...  2.819776e+06  244803.670000  34739.640000  2.243899e+06   \n",
       "9  2.316686e+06  ...  2.819776e+06  244803.660000  34739.610000  2.243899e+06   \n",
       "\n",
       "           1402          1403          1404           1405         1406   \n",
       "0      0.668869  5.881110e-01      0.567430       0.474643     0.517892  \\\n",
       "1      0.507535  5.754710e-01      0.533431       0.624260     0.442721   \n",
       "2      0.421005  5.351726e-01      0.572759       0.552306     0.437323   \n",
       "3      0.554833  5.317735e-01      0.461032       0.621532     0.413933   \n",
       "4      0.585346  5.144474e-01      0.547653       0.524302     0.481598   \n",
       "5  35274.890000  1.843656e+06  21832.746000  329278.560000  1133.263900   \n",
       "6  35274.832000  1.843656e+06  21832.707000  329278.470000  1133.366300   \n",
       "7  35274.863000  1.843656e+06  21832.707000  329278.600000  1133.276500   \n",
       "8  35274.914000  1.843656e+06  21832.710000  329278.560000  1133.287800   \n",
       "9  35274.867000  1.843656e+06  21832.805000  329278.530000  1133.332900   \n",
       "\n",
       "           1407  \n",
       "0  5.202963e-01  \n",
       "1  5.470799e-01  \n",
       "2  5.655353e-01  \n",
       "3  4.995610e-01  \n",
       "4  4.776257e-01  \n",
       "5  3.394028e+06  \n",
       "6  3.394027e+06  \n",
       "7  3.394028e+06  \n",
       "8  3.394027e+06  \n",
       "9  3.394027e+06  \n",
       "\n",
       "[10 rows x 1409 columns]"
      ]
     },
     "execution_count": 118,
     "metadata": {},
     "output_type": "execute_result"
    }
   ],
   "source": [
    "df_ben = pd.read_csv(\"kdd_Benign.csv\")\n",
    "df_ben"
   ]
  },
  {
   "cell_type": "code",
   "execution_count": 119,
   "id": "e9e61bae",
   "metadata": {},
   "outputs": [],
   "source": [
    "#benign \n",
    "attr_gaussian1_benign = df_ben.iloc[0].values.flatten().tolist()[1:]\n",
    "attr_gaussian2_benign = df_ben.iloc[1].values.flatten().tolist()[1:]\n",
    "attr_gaussian3_benign = df_ben.iloc[2].values.flatten().tolist()[1:]\n",
    "attr_gaussian4_benign = df_ben.iloc[3].values.flatten().tolist()[1:]\n",
    "attr_gaussian5_benign = df_ben.iloc[4].values.flatten().tolist()[1:]"
   ]
  },
  {
   "cell_type": "code",
   "execution_count": 120,
   "id": "071ee884",
   "metadata": {},
   "outputs": [],
   "source": [
    "#benign \n",
    "logit_gaussian1_benign = df_ben.iloc[5].values.flatten().tolist()[1:]\n",
    "logit_gaussian2_benign = df_ben.iloc[6].values.flatten().tolist()[1:]\n",
    "logit_gaussian3_benign = df_ben.iloc[7].values.flatten().tolist()[1:]\n",
    "logit_gaussian4_benign = df_ben.iloc[8].values.flatten().tolist()[1:]\n",
    "logit_gaussian5_benign = df_ben.iloc[9].values.flatten().tolist()[1:]"
   ]
  },
  {
   "cell_type": "code",
   "execution_count": 121,
   "id": "1f2f933a",
   "metadata": {},
   "outputs": [],
   "source": [
    "def compute_fpr(ben, t1, t2, ben2, t3, t4): \n",
    "    TN=0\n",
    "    FN=0\n",
    "    FP = 0 \n",
    "    TP=0\n",
    "    \n",
    "    for value, value2 in zip(ben, ben2): \n",
    "        if value < t1 or value >t2:\n",
    "            FP += 1\n",
    "        else: \n",
    "            if value2 < t3 or value2>t4:\n",
    "                FP+=1\n",
    "    \n",
    "    return (FP/len(ben))*100"
   ]
  },
  {
   "cell_type": "code",
   "execution_count": 122,
   "id": "29763f45",
   "metadata": {},
   "outputs": [
    {
     "data": {
      "text/plain": [
       "(39.31974, 4742747.5)"
      ]
     },
     "execution_count": 122,
     "metadata": {},
     "output_type": "execute_result"
    }
   ],
   "source": [
    "min(logit_gaussian1_benign), max(logit_gaussian1_benign)"
   ]
  },
  {
   "cell_type": "code",
   "execution_count": 123,
   "id": "1ba80acb",
   "metadata": {},
   "outputs": [
    {
     "data": {
      "text/plain": [
       "(array([822.,  13.,  22.,  11.,  85., 210., 167.,  68.,   7.,   3.]),\n",
       " array([3.93197400e+01, 4.74310138e+05, 9.48580956e+05, 1.42285177e+06,\n",
       "        1.89712259e+06, 2.37139341e+06, 2.84566423e+06, 3.31993505e+06,\n",
       "        3.79420586e+06, 4.26847668e+06, 4.74274750e+06]),\n",
       " <BarContainer object of 10 artists>)"
      ]
     },
     "execution_count": 123,
     "metadata": {},
     "output_type": "execute_result"
    },
    {
     "data": {
      "image/png": "[encoded data removed]",
      "text/plain": [
       "<Figure size 640x480 with 1 Axes>"
      ]
     },
     "metadata": {},
     "output_type": "display_data"
    }
   ],
   "source": [
    "plt.hist(logit_gaussian1_benign)"
   ]
  },
  {
   "cell_type": "code",
   "execution_count": 124,
   "id": "7756b772",
   "metadata": {},
   "outputs": [
    {
     "data": {
      "text/plain": [
       "(array([822.,  13.,  22.,  11.,  85., 210., 167.,  68.,   7.,   3.]),\n",
       " array([3.94019170e+01, 4.74310212e+05, 9.48581022e+05, 1.42285183e+06,\n",
       "        1.89712264e+06, 2.37139345e+06, 2.84566426e+06, 3.31993507e+06,\n",
       "        3.79420588e+06, 4.26847669e+06, 4.74274750e+06]),\n",
       " <BarContainer object of 10 artists>)"
      ]
     },
     "execution_count": 124,
     "metadata": {},
     "output_type": "execute_result"
    },
    {
     "data": {
      "image/png": "[encoded data removed]",
      "text/plain": [
       "<Figure size 640x480 with 1 Axes>"
      ]
     },
     "metadata": {},
     "output_type": "display_data"
    }
   ],
   "source": [
    "plt.hist(logit_gaussian2_benign)"
   ]
  },
  {
   "cell_type": "code",
   "execution_count": 125,
   "id": "a3f83e1c",
   "metadata": {},
   "outputs": [
    {
     "data": {
      "text/plain": [
       "(array([822.,  13.,  22.,  11.,  85., 210., 167.,  68.,   7.,   3.]),\n",
       " array([3.93999940e+01, 4.74310210e+05, 9.48581020e+05, 1.42285183e+06,\n",
       "        1.89712264e+06, 2.37139345e+06, 2.84566426e+06, 3.31993507e+06,\n",
       "        3.79420588e+06, 4.26847669e+06, 4.74274750e+06]),\n",
       " <BarContainer object of 10 artists>)"
      ]
     },
     "execution_count": 125,
     "metadata": {},
     "output_type": "execute_result"
    },
    {
     "data": {
      "image/png": "[encoded data removed]",
      "text/plain": [
       "<Figure size 640x480 with 1 Axes>"
      ]
     },
     "metadata": {},
     "output_type": "display_data"
    }
   ],
   "source": [
    "plt.hist(logit_gaussian3_benign)"
   ]
  },
  {
   "cell_type": "code",
   "execution_count": 126,
   "id": "e52c9010",
   "metadata": {},
   "outputs": [
    {
     "data": {
      "text/plain": [
       "(0.30816805, 0.7783735)"
      ]
     },
     "execution_count": 126,
     "metadata": {},
     "output_type": "execute_result"
    }
   ],
   "source": [
    "min(attr_gaussian1_benign), max(attr_gaussian1_benign)"
   ]
  },
  {
   "cell_type": "code",
   "execution_count": 127,
   "id": "72de2429",
   "metadata": {},
   "outputs": [
    {
     "data": {
      "text/plain": [
       "(array([  7.,  37., 116., 262., 351., 315., 198.,  80.,  28.,  14.]),\n",
       " array([0.30816805, 0.3551886 , 0.40220914, 0.44922969, 0.49625023,\n",
       "        0.54327078, 0.59029132, 0.63731187, 0.68433241, 0.73135296,\n",
       "        0.7783735 ]),\n",
       " <BarContainer object of 10 artists>)"
      ]
     },
     "execution_count": 127,
     "metadata": {},
     "output_type": "execute_result"
    },
    {
     "data": {
      "image/png": "[encoded data removed]",
      "text/plain": [
       "<Figure size 640x480 with 1 Axes>"
      ]
     },
     "metadata": {},
     "output_type": "display_data"
    }
   ],
   "source": [
    "plt.hist(attr_gaussian1_benign)"
   ]
  },
  {
   "cell_type": "code",
   "execution_count": 128,
   "id": "9f5241b0",
   "metadata": {},
   "outputs": [
    {
     "data": {
      "text/plain": [
       "(array([ 10.,  55., 154., 292., 376., 271., 145.,  72.,  24.,   9.]),\n",
       " array([0.32347295, 0.36978038, 0.41608782, 0.46239525, 0.50870269,\n",
       "        0.55501012, 0.60131756, 0.64762499, 0.69393243, 0.74023986,\n",
       "        0.7865473 ]),\n",
       " <BarContainer object of 10 artists>)"
      ]
     },
     "execution_count": 128,
     "metadata": {},
     "output_type": "execute_result"
    },
    {
     "data": {
      "image/png": "[encoded data removed]",
      "text/plain": [
       "<Figure size 640x480 with 1 Axes>"
      ]
     },
     "metadata": {},
     "output_type": "display_data"
    }
   ],
   "source": [
    "plt.hist(attr_gaussian2_benign)"
   ]
  },
  {
   "cell_type": "code",
   "execution_count": 129,
   "id": "bd76fa38",
   "metadata": {},
   "outputs": [
    {
     "data": {
      "text/plain": [
       "(array([ 24., 113., 277., 369., 323., 166.,  97.,  26.,   8.,   5.]),\n",
       " array([0.3426499 , 0.39183693, 0.44102396, 0.49021099, 0.53939802,\n",
       "        0.58858505, 0.63777208, 0.68695911, 0.73614614, 0.78533317,\n",
       "        0.8345202 ]),\n",
       " <BarContainer object of 10 artists>)"
      ]
     },
     "execution_count": 129,
     "metadata": {},
     "output_type": "execute_result"
    },
    {
     "data": {
      "image/png": "[encoded data removed]",
      "text/plain": [
       "<Figure size 640x480 with 1 Axes>"
      ]
     },
     "metadata": {},
     "output_type": "display_data"
    }
   ],
   "source": [
    "plt.hist(attr_gaussian3_benign)"
   ]
  },
  {
   "cell_type": "code",
   "execution_count": 130,
   "id": "7dfb5e78",
   "metadata": {},
   "outputs": [
    {
     "data": {
      "text/plain": [
       "(array([ 10.,  30., 151., 305., 368., 319., 151.,  51.,  19.,   4.]),\n",
       " array([0.30706024, 0.35683335, 0.40660645, 0.45637956, 0.50615266,\n",
       "        0.55592577, 0.60569888, 0.65547198, 0.70524509, 0.75501819,\n",
       "        0.8047913 ]),\n",
       " <BarContainer object of 10 artists>)"
      ]
     },
     "execution_count": 130,
     "metadata": {},
     "output_type": "execute_result"
    },
    {
     "data": {
      "image/png": "[encoded data removed]",
      "text/plain": [
       "<Figure size 640x480 with 1 Axes>"
      ]
     },
     "metadata": {},
     "output_type": "display_data"
    }
   ],
   "source": [
    "plt.hist(attr_gaussian4_benign)"
   ]
  },
  {
   "cell_type": "code",
   "execution_count": 131,
   "id": "b5888afe",
   "metadata": {},
   "outputs": [
    {
     "data": {
      "text/plain": [
       "(array([ 10.,  91., 241., 391., 349., 204.,  87.,  26.,   6.,   3.]),\n",
       " array([0.31264138, 0.36795843, 0.42327548, 0.47859254, 0.53390959,\n",
       "        0.58922664, 0.64454369, 0.69986074, 0.7551778 , 0.81049485,\n",
       "        0.8658119 ]),\n",
       " <BarContainer object of 10 artists>)"
      ]
     },
     "execution_count": 131,
     "metadata": {},
     "output_type": "execute_result"
    },
    {
     "data": {
      "image/png": "[encoded data removed]",
      "text/plain": [
       "<Figure size 640x480 with 1 Axes>"
      ]
     },
     "metadata": {},
     "output_type": "display_data"
    }
   ],
   "source": [
    "plt.hist(attr_gaussian5_benign)"
   ]
  },
  {
   "cell_type": "code",
   "execution_count": 132,
   "id": "83f517e8",
   "metadata": {},
   "outputs": [
    {
     "data": {
      "text/plain": [
       "(0.496382, 6156831.5)"
      ]
     },
     "execution_count": 132,
     "metadata": {},
     "output_type": "execute_result"
    }
   ],
   "source": [
    "(0.496382, 6156831.5)"
   ]
  },
  {
   "cell_type": "code",
   "execution_count": 133,
   "id": "35d89444",
   "metadata": {},
   "outputs": [
    {
     "data": {
      "text/plain": [
       "(0.28795388, 0.9273894)"
      ]
     },
     "execution_count": 133,
     "metadata": {},
     "output_type": "execute_result"
    }
   ],
   "source": [
    "(0.28795388, 0.9273894)"
   ]
  },
  {
   "cell_type": "code",
   "execution_count": 134,
   "id": "5af24658",
   "metadata": {},
   "outputs": [
    {
     "name": "stdout",
     "output_type": "stream",
     "text": [
      "51.77556818181818\n",
      "---\n",
      "44.46022727272727\n",
      "---\n",
      "41.690340909090914\n",
      "---\n"
     ]
    }
   ],
   "source": [
    "t1=[0.4,0.4,0.4]\n",
    "t2=[100000,300000,400000]\n",
    "t3=[0.2,0.2,0.2]\n",
    "t4=[0.93,0.92,0.91]\n",
    "for x, y,a,b in zip(t1,t2,t3,t4):\n",
    "    print(compute_fpr(logit_gaussian1_benign, x, y, attr_gaussian1_benign, a,b))\n",
    "    print(\"---\")"
   ]
  },
  {
   "cell_type": "markdown",
   "id": "f406dd8f",
   "metadata": {},
   "source": [
    "# evaluate detection on adv samples"
   ]
  },
  {
   "cell_type": "code",
   "execution_count": 135,
   "id": "354b94f1",
   "metadata": {},
   "outputs": [],
   "source": [
    "def compute_metrics_benign(train_loader, normal_model): \n",
    "    \n",
    "    print(\"Computing metrics for {} for benign\")\n",
    "\n",
    "    \n",
    "    #attribution robustness\n",
    "    attribution_gaussian1 = []\n",
    "    attribution_gaussian2 = []\n",
    "    attribution_gaussian3 = []\n",
    "    attribution_gaussian4 = []\n",
    "    attribution_gaussian5 = []\n",
    "    \n",
    "    #logit robustness\n",
    "    logit_gaussian1 = []\n",
    "    logit_gaussian2 = []\n",
    "    logit_gaussian3 = []\n",
    "    logit_gaussian4 = []\n",
    "    logit_gaussian5 = []\n",
    "    \n",
    "    for step, (x_batch, y_batch) in enumerate(train_loader):\n",
    "        \n",
    "        \n",
    "        images_adv, y_pred_adv = x_batch.to(device), y_batch.to(device)\n",
    "        x_logits = normal_model(images_adv)\n",
    "        \n",
    "        a_batch = quantus.explain(\n",
    "            model=normal_model, inputs=images_adv, targets=y_pred_adv, **{\"method:\": \"IntegratedGradient\", \"device\": device})\n",
    "        \n",
    "        gaussian_noisy_images_1 = make_noise(images_adv, y_pred_adv, spread = 0.0005)\n",
    "        gaussian_logits_1 = normal_model(gaussian_noisy_images_1)\n",
    "        \n",
    "        gaussian_noisy_images_2 = make_noise(images_adv, y_pred_adv, spread = 0.001)\n",
    "        gaussian_logits_2 = normal_model(gaussian_noisy_images_2)\n",
    "        \n",
    "        gaussian_noisy_images_3 = make_noise(images_adv, y_pred_adv, spread = 0.005)\n",
    "        gaussian_logits_3 = normal_model(gaussian_noisy_images_3)\n",
    "        \n",
    "        gaussian_noisy_images_4 = make_noise(images_adv, y_pred_adv, spread = 0.01)\n",
    "        gaussian_logits_4 = normal_model(gaussian_noisy_images_4)\n",
    "        \n",
    "        gaussian_noisy_images_5 = make_noise(images_adv, y_pred_adv, spread = 0.1)\n",
    "        gaussian_logits_5 = normal_model(gaussian_noisy_images_5)\n",
    "        \n",
    "        \n",
    "        diff1 = torch.norm(x_logits-gaussian_logits_1,p=1, dim=1) \n",
    "        diff2 = torch.norm(x_logits-gaussian_logits_2,p=1, dim=1) \n",
    "        diff3 = torch.norm(x_logits-gaussian_logits_3,p=1, dim=1) \n",
    "        diff4 = torch.norm(x_logits-gaussian_logits_4,p=1, dim=1) \n",
    "        diff5 = torch.norm(x_logits-gaussian_logits_5,p=1, dim=1) \n",
    "        \n",
    "        logit_gaussian1.extend(diff1.detach().cpu().numpy())\n",
    "        logit_gaussian2.extend(diff2.detach().cpu().numpy())\n",
    "        logit_gaussian3.extend(diff3.detach().cpu().numpy())\n",
    "        logit_gaussian4.extend(diff4.detach().cpu().numpy())\n",
    "        logit_gaussian5.extend(diff5.detach().cpu().numpy())\n",
    "        \n",
    "        a_batch_gaussian1 = quantus.explain(\n",
    "        model=normal_model, inputs=gaussian_noisy_images_1, targets=y_pred_adv, **{\"method:\": \"IntegratedGradient\", \"device\": device})\n",
    "        \n",
    "        a_batch_gaussian2 = quantus.explain(\n",
    "        model=normal_model, inputs=gaussian_noisy_images_2, targets=y_pred_adv, **{\"method:\": \"IntegratedGradient\", \"device\": device})\n",
    "        \n",
    "        a_batch_gaussian3 = quantus.explain(\n",
    "        model=normal_model, inputs=gaussian_noisy_images_3, targets=y_pred_adv, **{\"method:\": \"IntegratedGradient\", \"device\": device})\n",
    "        \n",
    "        a_batch_gaussian4 = quantus.explain(\n",
    "        model=normal_model, inputs=gaussian_noisy_images_4, targets=y_pred_adv, **{\"method:\": \"IntegratedGradient\", \"device\": device})\n",
    "        \n",
    "        a_batch_gaussian5 = quantus.explain(\n",
    "        model=normal_model, inputs=gaussian_noisy_images_5, targets=y_pred_adv, **{\"method:\": \"IntegratedGradient\", \"device\": device})\n",
    "        \n",
    "        \n",
    "        \n",
    "        for a, b in zip(a_batch, a_batch_gaussian1):\n",
    "            c = np.linalg.norm(a.flatten()-b.flatten(),ord=1 )\n",
    "            attribution_gaussian1.append(c)\n",
    "            \n",
    "        for a, b in zip(a_batch, a_batch_gaussian2):\n",
    "            c = np.linalg.norm(a.flatten()-b.flatten(),ord=1 )\n",
    "            attribution_gaussian2.append(c)\n",
    "        \n",
    "        for a, b in zip(a_batch, a_batch_gaussian3):\n",
    "            c = np.linalg.norm(a.flatten()-b.flatten(),ord=1 )\n",
    "            attribution_gaussian3.append(c)\n",
    "            \n",
    "        for a, b in zip(a_batch, a_batch_gaussian4):\n",
    "            c = np.linalg.norm(a.flatten()-b.flatten(),ord=1 )\n",
    "            attribution_gaussian4.append(c)\n",
    "        \n",
    "        for a, b in zip(a_batch, a_batch_gaussian5):\n",
    "            c = np.linalg.norm(a.flatten()-b.flatten(),ord=1 )\n",
    "            attribution_gaussian5.append(c)\n",
    "        \n",
    "       \n",
    "        if step%20==0:\n",
    "            print(step)\n",
    "        if step > 20:\n",
    "            break\n",
    "        \n",
    "        \n",
    "    df = pd.DataFrame([\n",
    "            \n",
    "            attribution_gaussian1,\n",
    "            attribution_gaussian2,\n",
    "            attribution_gaussian3,\n",
    "        attribution_gaussian4,\n",
    "        attribution_gaussian5,\n",
    "            logit_gaussian1,\n",
    "            logit_gaussian2,\n",
    "            logit_gaussian3,\n",
    "    logit_gaussian4,\n",
    "    logit_gaussian5], index = [\n",
    "            \"Gaussian1 attribution\", \n",
    "            \"Gaussian2 attribution\", \n",
    "            \"Gaussian3 attribution\",\n",
    "        \"Gaussian4 attribution\",\n",
    "        \"Gaussian5 attribution\",\n",
    "            \"Gaussian1 logit robusntess\",\n",
    "            \"Gaussian2 logit robusntess\",\n",
    "            \"Gaussian3 logit robusntess\",\n",
    "        \"Gaussian4 logit robusntess\",\n",
    "        \"Gaussian5 logit robusntess\"\n",
    "                    ])\n",
    "            \n",
    "    path = \"kdd_Benign_eval.csv\"\n",
    "    df.to_csv(path)"
   ]
  },
  {
   "cell_type": "code",
   "execution_count": 136,
   "id": "cb4db3d3",
   "metadata": {
    "scrolled": true
   },
   "outputs": [
    {
     "name": "stdout",
     "output_type": "stream",
     "text": [
      "Computing metrics for {} for benign\n",
      "0\n",
      "20\n"
     ]
    }
   ],
   "source": [
    "compute_metrics_benign(test_loader, model)"
   ]
  },
  {
   "cell_type": "code",
   "execution_count": 137,
   "id": "37fce29f",
   "metadata": {},
   "outputs": [],
   "source": [
    "def compute_metrics_adv(train_loader, normal_model): \n",
    "    \n",
    "    print(\"Computing metrics for {} for benign\")\n",
    "\n",
    "    \n",
    "    #attribution robustness\n",
    "    attribution_gaussian1 = []\n",
    "    attribution_gaussian2 = []\n",
    "    attribution_gaussian3 = []\n",
    "    attribution_gaussian4 = []\n",
    "    attribution_gaussian5 = []\n",
    "    \n",
    "    #logit robustness\n",
    "    logit_gaussian1 = []\n",
    "    logit_gaussian2 = []\n",
    "    logit_gaussian3 = []\n",
    "    logit_gaussian4 = []\n",
    "    logit_gaussian5 = []\n",
    "    \n",
    "    for step, (x_batch, y_batch) in enumerate(train_loader):\n",
    "        \n",
    "        \n",
    "        images_adv, y_pred_adv = x_batch.to(device), y_batch.to(device)\n",
    "        x_logits = normal_model(images_adv)\n",
    "        \n",
    "        a_batch = quantus.explain(\n",
    "            model=normal_model, inputs=images_adv, targets=y_pred_adv, **{\"method:\": \"IntegratedGradient\", \"device\": device})\n",
    "        \n",
    "        gaussian_noisy_images_1 = make_noise(images_adv, y_pred_adv, spread = 0.0005)\n",
    "        gaussian_logits_1 = normal_model(gaussian_noisy_images_1)\n",
    "        \n",
    "        gaussian_noisy_images_2 = make_noise(images_adv, y_pred_adv, spread = 0.001)\n",
    "        gaussian_logits_2 = normal_model(gaussian_noisy_images_2)\n",
    "        \n",
    "        gaussian_noisy_images_3 = make_noise(images_adv, y_pred_adv, spread = 0.005)\n",
    "        gaussian_logits_3 = normal_model(gaussian_noisy_images_3)\n",
    "        \n",
    "        gaussian_noisy_images_4 = make_noise(images_adv, y_pred_adv, spread = 0.01)\n",
    "        gaussian_logits_4 = normal_model(gaussian_noisy_images_4)\n",
    "        \n",
    "        gaussian_noisy_images_5 = make_noise(images_adv, y_pred_adv, spread = 0.1)\n",
    "        gaussian_logits_5 = normal_model(gaussian_noisy_images_5)\n",
    "        \n",
    "        \n",
    "        diff1 = torch.norm(x_logits-gaussian_logits_1,p=1, dim=1) \n",
    "        diff2 = torch.norm(x_logits-gaussian_logits_2,p=1, dim=1) \n",
    "        diff3 = torch.norm(x_logits-gaussian_logits_3,p=1, dim=1) \n",
    "        diff4 = torch.norm(x_logits-gaussian_logits_4,p=1, dim=1) \n",
    "        diff5 = torch.norm(x_logits-gaussian_logits_5,p=1, dim=1) \n",
    "        \n",
    "        logit_gaussian1.extend(diff1.detach().cpu().numpy())\n",
    "        logit_gaussian2.extend(diff2.detach().cpu().numpy())\n",
    "        logit_gaussian3.extend(diff3.detach().cpu().numpy())\n",
    "        logit_gaussian4.extend(diff4.detach().cpu().numpy())\n",
    "        logit_gaussian5.extend(diff5.detach().cpu().numpy())\n",
    "        \n",
    "        a_batch_gaussian1 = quantus.explain(\n",
    "        model=normal_model, inputs=gaussian_noisy_images_1, targets=y_pred_adv, **{\"method:\": \"IntegratedGradient\", \"device\": device})\n",
    "        \n",
    "        a_batch_gaussian2 = quantus.explain(\n",
    "        model=normal_model, inputs=gaussian_noisy_images_2, targets=y_pred_adv, **{\"method:\": \"IntegratedGradient\", \"device\": device})\n",
    "        \n",
    "        a_batch_gaussian3 = quantus.explain(\n",
    "        model=normal_model, inputs=gaussian_noisy_images_3, targets=y_pred_adv, **{\"method:\": \"IntegratedGradient\", \"device\": device})\n",
    "        \n",
    "        a_batch_gaussian4 = quantus.explain(\n",
    "        model=normal_model, inputs=gaussian_noisy_images_4, targets=y_pred_adv, **{\"method:\": \"IntegratedGradient\", \"device\": device})\n",
    "        \n",
    "        a_batch_gaussian5 = quantus.explain(\n",
    "        model=normal_model, inputs=gaussian_noisy_images_5, targets=y_pred_adv, **{\"method:\": \"IntegratedGradient\", \"device\": device})\n",
    "        \n",
    "        \n",
    "        \n",
    "        for a, b in zip(a_batch, a_batch_gaussian1):\n",
    "            c = np.linalg.norm(a.flatten()-b.flatten(),ord=1 )\n",
    "            attribution_gaussian1.append(c)\n",
    "            \n",
    "        for a, b in zip(a_batch, a_batch_gaussian2):\n",
    "            c = np.linalg.norm(a.flatten()-b.flatten(),ord=1 )\n",
    "            attribution_gaussian2.append(c)\n",
    "        \n",
    "        for a, b in zip(a_batch, a_batch_gaussian3):\n",
    "            c = np.linalg.norm(a.flatten()-b.flatten(),ord=1 )\n",
    "            attribution_gaussian3.append(c)\n",
    "            \n",
    "        for a, b in zip(a_batch, a_batch_gaussian4):\n",
    "            c = np.linalg.norm(a.flatten()-b.flatten(),ord=1 )\n",
    "            attribution_gaussian4.append(c)\n",
    "        \n",
    "        for a, b in zip(a_batch, a_batch_gaussian5):\n",
    "            c = np.linalg.norm(a.flatten()-b.flatten(),ord=1 )\n",
    "            attribution_gaussian5.append(c)\n",
    "        \n",
    "       \n",
    "        if step%20==0:\n",
    "            print(step)\n",
    "        \n",
    "        \n",
    "    df = pd.DataFrame([\n",
    "            \n",
    "            attribution_gaussian1,\n",
    "            attribution_gaussian2,\n",
    "            attribution_gaussian3,\n",
    "        attribution_gaussian4,\n",
    "        attribution_gaussian5,\n",
    "            logit_gaussian1,\n",
    "            logit_gaussian2,\n",
    "            logit_gaussian3,\n",
    "    logit_gaussian4,\n",
    "    logit_gaussian5], index = [\n",
    "            \"Gaussian1 attribution\", \n",
    "            \"Gaussian2 attribution\", \n",
    "            \"Gaussian3 attribution\",\n",
    "        \"Gaussian4 attribution\",\n",
    "        \"Gaussian5 attribution\",\n",
    "            \"Gaussian1 logit robusntess\",\n",
    "            \"Gaussian2 logit robusntess\",\n",
    "            \"Gaussian3 logit robusntess\",\n",
    "        \"Gaussian4 logit robusntess\",\n",
    "        \"Gaussian5 logit robusntess\"\n",
    "                    ])\n",
    "            \n",
    "    path = \"kdd_Adv_eval.csv\"\n",
    "    df.to_csv(path)"
   ]
  },
  {
   "cell_type": "code",
   "execution_count": 138,
   "id": "042946f2",
   "metadata": {},
   "outputs": [],
   "source": [
    "# Load CSV file and split into train and test sets\n",
    "advdataset = CustomDataset('adversarial_examples_FGSM1.csv')\n",
    "advtrain_data, advtest_data = train_test_split(advdataset, test_size=0.99, random_state=42)\n",
    "\n",
    "# Create data loaders for training and testing\n",
    "batch_size = 64\n",
    "train_loader_adv = DataLoader(advtrain_data, batch_size=batch_size, shuffle=True)\n",
    "test_loader_adv = DataLoader(advtest_data, batch_size=batch_size, shuffle=False)"
   ]
  },
  {
   "cell_type": "code",
   "execution_count": 139,
   "id": "2f4bb12b",
   "metadata": {},
   "outputs": [
    {
     "name": "stdout",
     "output_type": "stream",
     "text": [
      "Computing metrics for {} for benign\n",
      "0\n"
     ]
    }
   ],
   "source": [
    "compute_metrics_adv(test_loader_adv, model)"
   ]
  },
  {
   "cell_type": "code",
   "execution_count": 140,
   "id": "391bac9b",
   "metadata": {},
   "outputs": [],
   "source": [
    "def compute_TPR(adv1, a, b, adv2, c, d): \n",
    "    TN=0\n",
    "    FN=0\n",
    "    FP = 0 \n",
    "    TP=0\n",
    "    \n",
    "    for value1, value2 in zip(adv1, adv2): \n",
    "        if value1<a or value1>b:\n",
    "            TP += 1\n",
    "        else:\n",
    "            if value2<c or value2>d:\n",
    "                TP+=1\n",
    "            else: \n",
    "                FN+=1\n",
    "    \n",
    "    return (TP/(TP+FN))*100"
   ]
  },
  {
   "cell_type": "code",
   "execution_count": 141,
   "id": "ab06f405",
   "metadata": {},
   "outputs": [],
   "source": [
    "def compute_FPR(ap2a, k, l, ap2b, m, n): \n",
    "    TN=0\n",
    "    FN=0\n",
    "    FP=0 \n",
    "    TP=0\n",
    "    \n",
    "    for value6, value7 in zip(ap2a,ap2b):\n",
    "        if value6<k or value6>l:\n",
    "            FP +=1\n",
    "        else:\n",
    "            if value7<m or value7>n:\n",
    "                FP +=1\n",
    "\n",
    "    return (FP/(len(ap2a)))*100"
   ]
  },
  {
   "cell_type": "code",
   "execution_count": 175,
   "id": "0668fc70",
   "metadata": {},
   "outputs": [],
   "source": [
    "k=[0.4,0.4,0.4, 0.4, 0.4, 0.4,0.4,0.4,0.4,0.4,0.4, 0.4, 0.4, 0.4]\n",
    "l=[3000000,2500000,2000000,1000000, 800000, 700000,600000,500000,400000,300000,100000,80000, 60000, 40000]\n",
    "m=[0.2,0.2,0.2, 0.2, 0.2, 0.2,0.2,0.2,0.2,0.2,0.2,0.2,0.2,0.2,0.2,]\n",
    "n=[1.2, 1.1,1.0, 0.95, 0.94, 0.93,0.92,0.91,0.85,0.80,0.70, 0.60, 0.50, 0.40, 0.30]"
   ]
  },
  {
   "cell_type": "code",
   "execution_count": 181,
   "id": "7b8bf451",
   "metadata": {},
   "outputs": [
    {
     "name": "stdout",
     "output_type": "stream",
     "text": [
      "1408 1408\n",
      "200 200\n"
     ]
    }
   ],
   "source": [
    "score = []\n",
    "df_ben = pd.read_csv(\"kdd_Benign_eval.csv\")\n",
    "attr_gaussian3 = df_ben.iloc[0].values.flatten().tolist()[1:]\n",
    "logit_gaussian3 = df_ben.iloc[5].values.flatten().tolist()[1:]\n",
    "print(len(attr_gaussian3), len(logit_gaussian3))\n",
    "fpr_results =[]\n",
    "for t1,t2,t3,t4 in zip(k,l,m,n):\n",
    "    FPR = compute_FPR(logit_gaussian3, t1,t2, attr_gaussian3,t3,t4)\n",
    "    fpr_results.append(FPR/100)\n",
    "\n",
    "df_adv= pd.read_csv(\"kdd_Adv_eval.csv\")\n",
    "attr_gaussian3_eps1 = df_adv.iloc[0].values.flatten().tolist()[1:]\n",
    "logit_gaussian3_eps1 = df_adv.iloc[5].values.flatten().tolist()[1:]\n",
    "print(len(attr_gaussian3_eps1), len(logit_gaussian3_eps1)) \n",
    "tpr_results =[]\n",
    "for t1,t2,t3,t4 in zip(k,l,m,n):\n",
    "    TPR = compute_TPR(logit_gaussian3_eps1, t1,t2, attr_gaussian3_eps1,t3,t4)\n",
    "    tpr_results.append(TPR/100)\n",
    "\n",
    "s = sklearn.metrics.auc(fpr_results, tpr_results)\n",
    "score.append(s)"
   ]
  },
  {
   "cell_type": "code",
   "execution_count": 182,
   "id": "2dbf6e68",
   "metadata": {},
   "outputs": [
    {
     "name": "stdout",
     "output_type": "stream",
     "text": [
      "Computing metrics for {} for benign\n",
      "0\n",
      "20\n",
      "Computing metrics for {} for benign\n",
      "0\n",
      "1408 1408\n",
      "200 200\n"
     ]
    }
   ],
   "source": [
    "# Load CSV file and split into train and test sets\n",
    "advdataset = CustomDataset('adversarial_examples_FGSM2.csv')\n",
    "advtrain_data, advtest_data = train_test_split(advdataset, test_size=0.2, random_state=42)\n",
    "\n",
    "# Create data loaders for training and testing\n",
    "batch_size = 64\n",
    "train_loader_adv = DataLoader(advtrain_data, batch_size=batch_size, shuffle=True)\n",
    "test_loader_adv = DataLoader(advtest_data, batch_size=batch_size, shuffle=False)\n",
    "compute_metrics_benign(test_loader, model)\n",
    "compute_metrics_adv(test_loader_adv, model)\n",
    "df_ben = pd.read_csv(\"kdd_Benign_eval.csv\")\n",
    "attr_gaussian3 = df_ben.iloc[0].values.flatten().tolist()[1:]\n",
    "logit_gaussian3 = df_ben.iloc[5].values.flatten().tolist()[1:]\n",
    "print(len(attr_gaussian3), len(logit_gaussian3))\n",
    "fpr_results =[]\n",
    "for t1,t2,t3,t4 in zip(k,l,m,n):\n",
    "    FPR = compute_FPR(logit_gaussian3, t1,t2, attr_gaussian3,t3,t4)\n",
    "    fpr_results.append(FPR/100)\n",
    "df_adv= pd.read_csv(\"kdd_Adv_eval.csv\")\n",
    "attr_gaussian3_eps1 = df_adv.iloc[0].values.flatten().tolist()[1:]\n",
    "logit_gaussian3_eps1 = df_adv.iloc[5].values.flatten().tolist()[1:]\n",
    "print(len(attr_gaussian3_eps1), len(logit_gaussian3_eps1)) \n",
    "tpr_results =[]\n",
    "for t1,t2,t3,t4 in zip(k,l,m,n):\n",
    "    TPR = compute_TPR(logit_gaussian3_eps1, t1,t2, attr_gaussian3_eps1,t3,t4)\n",
    "    tpr_results.append(TPR/100)\n",
    "s = sklearn.metrics.auc(fpr_results, tpr_results)\n",
    "score.append(s)"
   ]
  },
  {
   "cell_type": "code",
   "execution_count": 183,
   "id": "4873d02b",
   "metadata": {},
   "outputs": [
    {
     "data": {
      "text/plain": [
       "(0.8797052556818181, 0.0017365056818182123)"
      ]
     },
     "execution_count": 183,
     "metadata": {},
     "output_type": "execute_result"
    }
   ],
   "source": [
    "np.mean(score), np.std(score)"
   ]
  },
  {
   "cell_type": "code",
   "execution_count": 184,
   "id": "9a361438",
   "metadata": {},
   "outputs": [
    {
     "name": "stdout",
     "output_type": "stream",
     "text": [
      "Computing metrics for {} for benign\n",
      "0\n",
      "20\n",
      "Computing metrics for {} for benign\n",
      "0\n",
      "1408 1408\n",
      "200 200\n"
     ]
    }
   ],
   "source": [
    "# Load CSV file and split into train and test sets\n",
    "score = []\n",
    "advdataset = CustomDataset('adversarial_examples_autoPGD.csv')\n",
    "advtrain_data, advtest_data = train_test_split(advdataset, test_size=0.2, random_state=42)\n",
    "\n",
    "# Create data loaders for training and testing\n",
    "batch_size = 64\n",
    "train_loader_adv = DataLoader(advtrain_data, batch_size=batch_size, shuffle=True)\n",
    "test_loader_adv = DataLoader(advtest_data, batch_size=batch_size, shuffle=False)\n",
    "compute_metrics_benign(test_loader, model)\n",
    "compute_metrics_adv(test_loader_adv, model)\n",
    "df_ben = pd.read_csv(\"kdd_Benign_eval.csv\")\n",
    "attr_gaussian3 = df_ben.iloc[0].values.flatten().tolist()[1:]\n",
    "logit_gaussian3 = df_ben.iloc[5].values.flatten().tolist()[1:]\n",
    "print(len(attr_gaussian3), len(logit_gaussian3))\n",
    "fpr_results =[]\n",
    "for t1,t2,t3,t4 in zip(k,l,m,n):\n",
    "    FPR = compute_FPR(logit_gaussian3, t1,t2, attr_gaussian3,t3,t4)\n",
    "    fpr_results.append(FPR/100)\n",
    "df_adv= pd.read_csv(\"kdd_Adv_eval.csv\")\n",
    "attr_gaussian3_eps1 = df_adv.iloc[0].values.flatten().tolist()[1:]\n",
    "logit_gaussian3_eps1 = df_adv.iloc[5].values.flatten().tolist()[1:]\n",
    "print(len(attr_gaussian3_eps1), len(logit_gaussian3_eps1)) \n",
    "tpr_results =[]\n",
    "for t1,t2,t3,t4 in zip(k,l,m,n):\n",
    "    TPR = compute_TPR(logit_gaussian3_eps1, t1,t2, attr_gaussian3_eps1,t3,t4)\n",
    "    tpr_results.append(TPR/100)\n",
    "s = sklearn.metrics.auc(fpr_results, tpr_results)  \n",
    "score.append(s)"
   ]
  },
  {
   "cell_type": "code",
   "execution_count": 185,
   "id": "e31ec215",
   "metadata": {},
   "outputs": [
    {
     "name": "stdout",
     "output_type": "stream",
     "text": [
      "Computing metrics for {} for benign\n",
      "0\n",
      "20\n",
      "Computing metrics for {} for benign\n",
      "0\n",
      "1408 1408\n",
      "200 200\n"
     ]
    }
   ],
   "source": [
    "advdataset = CustomDataset('adversarial_examples_autoPGD2.csv')\n",
    "advtrain_data, advtest_data = train_test_split(advdataset, test_size=0.2, random_state=42)\n",
    "\n",
    "# Create data loaders for training and testing\n",
    "batch_size = 64\n",
    "train_loader_adv = DataLoader(advtrain_data, batch_size=batch_size, shuffle=True)\n",
    "test_loader_adv = DataLoader(advtest_data, batch_size=batch_size, shuffle=False)\n",
    "compute_metrics_benign(test_loader, model)\n",
    "compute_metrics_adv(test_loader_adv, model)\n",
    "df_ben = pd.read_csv(\"kdd_Benign_eval.csv\")\n",
    "attr_gaussian3 = df_ben.iloc[0].values.flatten().tolist()[1:]\n",
    "logit_gaussian3 = df_ben.iloc[5].values.flatten().tolist()[1:]\n",
    "print(len(attr_gaussian3), len(logit_gaussian3))\n",
    "fpr_results =[]\n",
    "for t1,t2,t3,t4 in zip(k,l,m,n):\n",
    "    FPR = compute_FPR(logit_gaussian3, t1,t2, attr_gaussian3,t3,t4)\n",
    "    fpr_results.append(FPR/100)\n",
    "df_adv= pd.read_csv(\"kdd_Adv_eval.csv\")\n",
    "attr_gaussian3_eps1 = df_adv.iloc[0].values.flatten().tolist()[1:]\n",
    "logit_gaussian3_eps1 = df_adv.iloc[5].values.flatten().tolist()[1:]\n",
    "print(len(attr_gaussian3_eps1), len(logit_gaussian3_eps1)) \n",
    "tpr_results =[]\n",
    "for t1,t2,t3,t4 in zip(k,l,m,n):\n",
    "    TPR = compute_TPR(logit_gaussian3_eps1, t1,t2, attr_gaussian3_eps1,t3,t4)\n",
    "    tpr_results.append(TPR/100)\n",
    "s = sklearn.metrics.auc(fpr_results, tpr_results)  \n",
    "score.append(s)"
   ]
  },
  {
   "cell_type": "code",
   "execution_count": 186,
   "id": "2eb21223",
   "metadata": {},
   "outputs": [
    {
     "data": {
      "text/plain": [
       "(0.8830131392045455, 0.0020614346590909216)"
      ]
     },
     "execution_count": 186,
     "metadata": {},
     "output_type": "execute_result"
    }
   ],
   "source": [
    "np.mean(score), np.std(score)"
   ]
  },
  {
   "cell_type": "code",
   "execution_count": 187,
   "id": "a69551fa",
   "metadata": {},
   "outputs": [
    {
     "name": "stdout",
     "output_type": "stream",
     "text": [
      "Computing metrics for {} for benign\n",
      "0\n",
      "20\n",
      "Computing metrics for {} for benign\n",
      "0\n",
      "1408 1408\n",
      "200 200\n"
     ]
    }
   ],
   "source": [
    "# Load CSV file and split into train and test sets\n",
    "score = []\n",
    "advdataset = CustomDataset('adversarial_examples_BIM1.csv')\n",
    "advtrain_data, advtest_data = train_test_split(advdataset, test_size=0.2, random_state=42)\n",
    "\n",
    "# Create data loaders for training and testing\n",
    "batch_size = 64\n",
    "train_loader_adv = DataLoader(advtrain_data, batch_size=batch_size, shuffle=True)\n",
    "test_loader_adv = DataLoader(advtest_data, batch_size=batch_size, shuffle=False)\n",
    "compute_metrics_benign(test_loader, model)\n",
    "compute_metrics_adv(test_loader_adv, model)\n",
    "df_ben = pd.read_csv(\"kdd_Benign_eval.csv\")\n",
    "attr_gaussian3 = df_ben.iloc[0].values.flatten().tolist()[1:]\n",
    "logit_gaussian3 = df_ben.iloc[5].values.flatten().tolist()[1:]\n",
    "print(len(attr_gaussian3), len(logit_gaussian3))\n",
    "fpr_results =[]\n",
    "for t1,t2,t3,t4 in zip(k,l,m,n):\n",
    "    FPR = compute_FPR(logit_gaussian3, t1,t2, attr_gaussian3,t3,t4)\n",
    "    fpr_results.append(FPR/100)\n",
    "df_adv= pd.read_csv(\"kdd_Adv_eval.csv\")\n",
    "attr_gaussian3_eps1 = df_adv.iloc[0].values.flatten().tolist()[1:]\n",
    "logit_gaussian3_eps1 = df_adv.iloc[5].values.flatten().tolist()[1:]\n",
    "print(len(attr_gaussian3_eps1), len(logit_gaussian3_eps1)) \n",
    "tpr_results =[]\n",
    "for t1,t2,t3,t4 in zip(k,l,m,n):\n",
    "    TPR = compute_TPR(logit_gaussian3_eps1, t1,t2, attr_gaussian3_eps1,t3,t4)\n",
    "    tpr_results.append(TPR/100)\n",
    "s = sklearn.metrics.auc(fpr_results, tpr_results)  \n",
    "score.append(s)"
   ]
  },
  {
   "cell_type": "code",
   "execution_count": 188,
   "id": "c33a8f41",
   "metadata": {},
   "outputs": [
    {
     "name": "stdout",
     "output_type": "stream",
     "text": [
      "Computing metrics for {} for benign\n",
      "0\n",
      "20\n",
      "Computing metrics for {} for benign\n",
      "0\n",
      "1408 1408\n",
      "200 200\n"
     ]
    }
   ],
   "source": [
    "# Load CSV file and split into train and test sets\n",
    "advdataset = CustomDataset('adversarial_examples_BIM2.csv')\n",
    "advtrain_data, advtest_data = train_test_split(advdataset, test_size=0.2, random_state=42)\n",
    "\n",
    "# Create data loaders for training and testing\n",
    "batch_size = 64\n",
    "train_loader_adv = DataLoader(advtrain_data, batch_size=batch_size, shuffle=True)\n",
    "test_loader_adv = DataLoader(advtest_data, batch_size=batch_size, shuffle=False)\n",
    "compute_metrics_benign(test_loader, model)\n",
    "compute_metrics_adv(test_loader_adv, model)\n",
    "df_ben = pd.read_csv(\"kdd_Benign_eval.csv\")\n",
    "attr_gaussian3 = df_ben.iloc[0].values.flatten().tolist()[1:]\n",
    "logit_gaussian3 = df_ben.iloc[5].values.flatten().tolist()[1:]\n",
    "print(len(attr_gaussian3), len(logit_gaussian3))\n",
    "fpr_results =[]\n",
    "for t1,t2,t3,t4 in zip(k,l,m,n):\n",
    "    FPR = compute_FPR(logit_gaussian3, t1,t2, attr_gaussian3,t3,t4)\n",
    "    fpr_results.append(FPR/100)\n",
    "df_adv= pd.read_csv(\"kdd_Adv_eval.csv\")\n",
    "attr_gaussian3_eps1 = df_adv.iloc[0].values.flatten().tolist()[1:]\n",
    "logit_gaussian3_eps1 = df_adv.iloc[5].values.flatten().tolist()[1:]\n",
    "print(len(attr_gaussian3_eps1), len(logit_gaussian3_eps1)) \n",
    "tpr_results =[]\n",
    "for t1,t2,t3,t4 in zip(k,l,m,n):\n",
    "    TPR = compute_TPR(logit_gaussian3_eps1, t1,t2, attr_gaussian3_eps1,t3,t4)\n",
    "    tpr_results.append(TPR/100)\n",
    "s = sklearn.metrics.auc(fpr_results, tpr_results)  \n",
    "score.append(s)"
   ]
  },
  {
   "cell_type": "code",
   "execution_count": 189,
   "id": "9c06f2cd",
   "metadata": {},
   "outputs": [
    {
     "data": {
      "text/plain": [
       "(0.8768821022727273, 0.00034446022727269154)"
      ]
     },
     "execution_count": 189,
     "metadata": {},
     "output_type": "execute_result"
    }
   ],
   "source": [
    "np.mean(score), np.std(score)"
   ]
  },
  {
   "cell_type": "code",
   "execution_count": 190,
   "id": "1507021a",
   "metadata": {},
   "outputs": [
    {
     "name": "stdout",
     "output_type": "stream",
     "text": [
      "Computing metrics for {} for benign\n",
      "0\n",
      "20\n",
      "Computing metrics for {} for benign\n",
      "0\n",
      "1408 1408\n",
      "200 200\n"
     ]
    }
   ],
   "source": [
    "# Load CSV file and split into train and test sets\n",
    "score = [] \n",
    "\n",
    "advdataset = CustomDataset('adversarial_examples_PGD1.csv')\n",
    "advtrain_data, advtest_data = train_test_split(advdataset, test_size=0.2, random_state=42)\n",
    "\n",
    "# Create data loaders for training and testing\n",
    "batch_size = 64\n",
    "train_loader_adv = DataLoader(advtrain_data, batch_size=batch_size, shuffle=True)\n",
    "test_loader_adv = DataLoader(advtest_data, batch_size=batch_size, shuffle=False)\n",
    "compute_metrics_benign(test_loader, model)\n",
    "compute_metrics_adv(test_loader_adv, model)\n",
    "df_ben = pd.read_csv(\"kdd_Benign_eval.csv\")\n",
    "attr_gaussian3 = df_ben.iloc[0].values.flatten().tolist()[1:]\n",
    "logit_gaussian3 = df_ben.iloc[5].values.flatten().tolist()[1:]\n",
    "print(len(attr_gaussian3), len(logit_gaussian3))\n",
    "fpr_results =[]\n",
    "for t1,t2,t3,t4 in zip(k,l,m,n):\n",
    "    FPR = compute_FPR(logit_gaussian3, t1,t2, attr_gaussian3,t3,t4)\n",
    "    fpr_results.append(FPR/100)\n",
    "df_adv= pd.read_csv(\"kdd_Adv_eval.csv\")\n",
    "attr_gaussian3_eps1 = df_adv.iloc[0].values.flatten().tolist()[1:]\n",
    "logit_gaussian3_eps1 = df_adv.iloc[5].values.flatten().tolist()[1:]\n",
    "print(len(attr_gaussian3_eps1), len(logit_gaussian3_eps1)) \n",
    "tpr_results =[]\n",
    "for t1,t2,t3,t4 in zip(k,l,m,n):\n",
    "    TPR = compute_TPR(logit_gaussian3_eps1, t1,t2, attr_gaussian3_eps1,t3,t4)\n",
    "    tpr_results.append(TPR/100)\n",
    "s = sklearn.metrics.auc(fpr_results, tpr_results)  \n",
    "score.append(s)"
   ]
  },
  {
   "cell_type": "code",
   "execution_count": 191,
   "id": "a486ec4b",
   "metadata": {},
   "outputs": [
    {
     "name": "stdout",
     "output_type": "stream",
     "text": [
      "Computing metrics for {} for benign\n",
      "0\n",
      "20\n",
      "Computing metrics for {} for benign\n",
      "0\n",
      "1408 1408\n",
      "200 200\n"
     ]
    }
   ],
   "source": [
    "advdataset = CustomDataset('adversarial_examples_PGD2.csv')\n",
    "advtrain_data, advtest_data = train_test_split(advdataset, test_size=0.2, random_state=42)\n",
    "\n",
    "# Create data loaders for training and testing\n",
    "batch_size = 64\n",
    "train_loader_adv = DataLoader(advtrain_data, batch_size=batch_size, shuffle=True)\n",
    "test_loader_adv = DataLoader(advtest_data, batch_size=batch_size, shuffle=False)\n",
    "compute_metrics_benign(test_loader, model)\n",
    "compute_metrics_adv(test_loader_adv, model)\n",
    "df_ben = pd.read_csv(\"kdd_Benign_eval.csv\")\n",
    "attr_gaussian3 = df_ben.iloc[0].values.flatten().tolist()[1:]\n",
    "logit_gaussian3 = df_ben.iloc[5].values.flatten().tolist()[1:]\n",
    "print(len(attr_gaussian3), len(logit_gaussian3))\n",
    "fpr_results =[]\n",
    "for t1,t2,t3,t4 in zip(k,l,m,n):\n",
    "    FPR = compute_FPR(logit_gaussian3, t1,t2, attr_gaussian3,t3,t4)\n",
    "    fpr_results.append(FPR/100)\n",
    "df_adv= pd.read_csv(\"kdd_Adv_eval.csv\")\n",
    "attr_gaussian3_eps1 = df_adv.iloc[0].values.flatten().tolist()[1:]\n",
    "logit_gaussian3_eps1 = df_adv.iloc[5].values.flatten().tolist()[1:]\n",
    "print(len(attr_gaussian3_eps1), len(logit_gaussian3_eps1)) \n",
    "tpr_results =[]\n",
    "for t1,t2,t3,t4 in zip(k,l,m,n):\n",
    "    TPR = compute_TPR(logit_gaussian3_eps1, t1,t2, attr_gaussian3_eps1,t3,t4)\n",
    "    tpr_results.append(TPR/100)\n",
    "s = sklearn.metrics.auc(fpr_results, tpr_results)  \n",
    "score.append(s)"
   ]
  },
  {
   "cell_type": "code",
   "execution_count": 192,
   "id": "36c82de5",
   "metadata": {},
   "outputs": [
    {
     "data": {
      "text/plain": [
       "(0.8797594105113637, 0.0016184303977272996)"
      ]
     },
     "execution_count": 192,
     "metadata": {},
     "output_type": "execute_result"
    }
   ],
   "source": [
    "np.mean(score), np.std(score)"
   ]
  },
  {
   "cell_type": "code",
   "execution_count": 193,
   "id": "4fefab12",
   "metadata": {},
   "outputs": [
    {
     "name": "stdout",
     "output_type": "stream",
     "text": [
      "Computing metrics for {} for benign\n",
      "0\n",
      "20\n",
      "Computing metrics for {} for benign\n",
      "0\n",
      "1408 1408\n",
      "200 200\n"
     ]
    }
   ],
   "source": [
    "score = [] \n",
    "advdataset = CustomDataset('adversarial_examples_CW1.csv')\n",
    "advtrain_data, advtest_data = train_test_split(advdataset, test_size=0.2, random_state=42)\n",
    "\n",
    "# Create data loaders for training and testing\n",
    "batch_size = 64\n",
    "train_loader_adv = DataLoader(advtrain_data, batch_size=batch_size, shuffle=True)\n",
    "test_loader_adv = DataLoader(advtest_data, batch_size=batch_size, shuffle=False)\n",
    "compute_metrics_benign(test_loader, model)\n",
    "compute_metrics_adv(test_loader_adv, model)\n",
    "df_ben = pd.read_csv(\"kdd_Benign_eval.csv\")\n",
    "attr_gaussian3 = df_ben.iloc[0].values.flatten().tolist()[1:]\n",
    "logit_gaussian3 = df_ben.iloc[5].values.flatten().tolist()[1:]\n",
    "print(len(attr_gaussian3), len(logit_gaussian3))\n",
    "fpr_results =[]\n",
    "for t1,t2,t3,t4 in zip(k,l,m,n):\n",
    "    FPR = compute_FPR(logit_gaussian3, t1,t2, attr_gaussian3,t3,t4)\n",
    "    fpr_results.append(FPR/100)\n",
    "df_adv= pd.read_csv(\"kdd_Adv_eval.csv\")\n",
    "attr_gaussian3_eps1 = df_adv.iloc[0].values.flatten().tolist()[1:]\n",
    "logit_gaussian3_eps1 = df_adv.iloc[5].values.flatten().tolist()[1:]\n",
    "print(len(attr_gaussian3_eps1), len(logit_gaussian3_eps1)) \n",
    "tpr_results =[]\n",
    "for t1,t2,t3,t4 in zip(k,l,m,n):\n",
    "    TPR = compute_TPR(logit_gaussian3_eps1, t1,t2, attr_gaussian3_eps1,t3,t4)\n",
    "    tpr_results.append(TPR/100)\n",
    "s = sklearn.metrics.auc(fpr_results, tpr_results)  \n",
    "score.append(s)"
   ]
  },
  {
   "cell_type": "code",
   "execution_count": 194,
   "id": "dd3ed3c0",
   "metadata": {},
   "outputs": [
    {
     "name": "stdout",
     "output_type": "stream",
     "text": [
      "Computing metrics for {} for benign\n",
      "0\n",
      "20\n",
      "Computing metrics for {} for benign\n",
      "0\n",
      "1408 1408\n",
      "200 200\n"
     ]
    }
   ],
   "source": [
    "score = [] \n",
    "advdataset = CustomDataset('adversarial_examples_CW2.csv')\n",
    "advtrain_data, advtest_data = train_test_split(advdataset, test_size=0.2, random_state=42)\n",
    "\n",
    "# Create data loaders for training and testing\n",
    "batch_size = 64\n",
    "train_loader_adv = DataLoader(advtrain_data, batch_size=batch_size, shuffle=True)\n",
    "test_loader_adv = DataLoader(advtest_data, batch_size=batch_size, shuffle=False)\n",
    "compute_metrics_benign(test_loader, model)\n",
    "compute_metrics_adv(test_loader_adv, model)\n",
    "df_ben = pd.read_csv(\"kdd_Benign_eval.csv\")\n",
    "attr_gaussian3 = df_ben.iloc[0].values.flatten().tolist()[1:]\n",
    "logit_gaussian3 = df_ben.iloc[5].values.flatten().tolist()[1:]\n",
    "print(len(attr_gaussian3), len(logit_gaussian3))\n",
    "fpr_results =[]\n",
    "for t1,t2,t3,t4 in zip(k,l,m,n):\n",
    "    FPR = compute_FPR(logit_gaussian3, t1,t2, attr_gaussian3,t3,t4)\n",
    "    fpr_results.append(FPR/100)\n",
    "df_adv= pd.read_csv(\"kdd_Adv_eval.csv\")\n",
    "attr_gaussian3_eps1 = df_adv.iloc[0].values.flatten().tolist()[1:]\n",
    "logit_gaussian3_eps1 = df_adv.iloc[5].values.flatten().tolist()[1:]\n",
    "print(len(attr_gaussian3_eps1), len(logit_gaussian3_eps1)) \n",
    "tpr_results =[]\n",
    "for t1,t2,t3,t4 in zip(k,l,m,n):\n",
    "    TPR = compute_TPR(logit_gaussian3_eps1, t1,t2, attr_gaussian3_eps1,t3,t4)\n",
    "    tpr_results.append(TPR/100)\n",
    "s = sklearn.metrics.auc(fpr_results, tpr_results)  \n",
    "score.append(s)"
   ]
  },
  {
   "cell_type": "code",
   "execution_count": 195,
   "id": "4155618e",
   "metadata": {},
   "outputs": [
    {
     "data": {
      "text/plain": [
       "(0.8807421875, 0.0)"
      ]
     },
     "execution_count": 195,
     "metadata": {},
     "output_type": "execute_result"
    }
   ],
   "source": [
    "np.mean(score), np.std(score)"
   ]
  },
  {
   "cell_type": "code",
   "execution_count": null,
   "id": "2491a4cf",
   "metadata": {},
   "outputs": [],
   "source": []
  },
  {
   "cell_type": "code",
   "execution_count": null,
   "id": "85344025",
   "metadata": {},
   "outputs": [],
   "source": []
  }
 ],
 "metadata": {
  "kernelspec": {
   "display_name": "adv_detection",
   "language": "python",
   "name": "adv_detection"
  },
  "language_info": {
   "codemirror_mode": {
    "name": "ipython",
    "version": 3
   },
   "file_extension": ".py",
   "mimetype": "text/x-python",
   "name": "python",
   "nbconvert_exporter": "python",
   "pygments_lexer": "ipython3",
   "version": "3.8.10"
  }
 },
 "nbformat": 4,
 "nbformat_minor": 5
}
