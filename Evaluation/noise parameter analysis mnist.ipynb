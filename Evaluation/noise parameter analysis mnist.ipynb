{
 "cells": [
  {
   "cell_type": "code",
   "execution_count": 1,
   "id": "1154ae38",
   "metadata": {},
   "outputs": [],
   "source": [
    "import numpy as np\n",
    "import pandas as pd\n",
    "import matplotlib.pyplot as plt \n",
    "import torch\n",
    "import torch.nn as nn\n",
    "import torch.nn.functional as F\n",
    "import torchvision\n",
    "import matplotlib\n",
    "import matplotlib.pyplot as plt\n",
    "import gc\n",
    "from captum.attr import *\n",
    "import quantus\n",
    "from torch.utils.data import DataLoader\n",
    "import gc\n",
    "import torchvision.transforms as transforms"
   ]
  },
  {
   "cell_type": "code",
   "execution_count": 2,
   "id": "9015c61f",
   "metadata": {},
   "outputs": [],
   "source": [
    "import warnings\n",
    "warnings.filterwarnings('ignore')"
   ]
  },
  {
   "cell_type": "code",
   "execution_count": 3,
   "id": "db1d31a5",
   "metadata": {},
   "outputs": [],
   "source": [
    "# Device configuration\n",
    "device = torch.device('cuda' if torch.cuda.is_available() else 'cpu')"
   ]
  },
  {
   "cell_type": "code",
   "execution_count": 4,
   "id": "b285e957",
   "metadata": {},
   "outputs": [],
   "source": [
    "#for natural and adversarial LeNet Model \n",
    "class LeNet_normal(torch.nn.Module):\n",
    "    \"\"\"Network architecture from: https://github.com/ChawDoe/LeNet5-MNIST-PyTorch.\"\"\"\n",
    "    def __init__(self):\n",
    "        super().__init__()\n",
    "        self.conv_1 = torch.nn.Conv2d(1, 6, 5)\n",
    "        self.pool_1 = torch.nn.MaxPool2d(2, 2)\n",
    "        self.relu_1 = torch.nn.ReLU()\n",
    "        self.conv_2 = torch.nn.Conv2d(6, 16, 5)\n",
    "        self.pool_2 = torch.nn.MaxPool2d(2, 2)\n",
    "        self.relu_2 = torch.nn.ReLU()\n",
    "        self.fc_1 = torch.nn.Linear(256, 120)\n",
    "        self.relu_3 = torch.nn.ReLU()\n",
    "        self.fc_2 = torch.nn.Linear(120, 84)\n",
    "        self.relu_4 = torch.nn.ReLU()\n",
    "        self.fc_3 = torch.nn.Linear(84, 10)\n",
    "\n",
    "    def forward(self, x):\n",
    "        x = self.pool_1(self.relu_1(self.conv_1(x)))\n",
    "        x = self.pool_2(self.relu_2(self.conv_2(x)))\n",
    "        x = x.view(x.shape[0], -1)\n",
    "        x = self.relu_3(self.fc_1(x))\n",
    "        x = self.relu_4(self.fc_2(x))\n",
    "        x = self.fc_3(x)\n",
    "        return x"
   ]
  },
  {
   "cell_type": "code",
   "execution_count": 5,
   "id": "6d45233a",
   "metadata": {},
   "outputs": [],
   "source": [
    "def load_mnist_model(path):\n",
    "    model = LeNet_normal()\n",
    "    model.to(device)\n",
    "    model.load_state_dict(torch.load(path))\n",
    "    model.to('cuda')\n",
    "    model.train(False)\n",
    "    return model"
   ]
  },
  {
   "cell_type": "code",
   "execution_count": 6,
   "id": "fd1f181d",
   "metadata": {},
   "outputs": [],
   "source": [
    "modelpath = \"/data/virtual environments/adv detection by robustness/adv_detection/Adaptive attacks/Models/MNIST/mnist_model.pth\""
   ]
  },
  {
   "cell_type": "code",
   "execution_count": 8,
   "id": "cc077361",
   "metadata": {},
   "outputs": [
    {
     "data": {
      "text/plain": [
       "LeNet_normal(\n",
       "  (conv_1): Conv2d(1, 6, kernel_size=(5, 5), stride=(1, 1))\n",
       "  (pool_1): MaxPool2d(kernel_size=2, stride=2, padding=0, dilation=1, ceil_mode=False)\n",
       "  (relu_1): ReLU()\n",
       "  (conv_2): Conv2d(6, 16, kernel_size=(5, 5), stride=(1, 1))\n",
       "  (pool_2): MaxPool2d(kernel_size=2, stride=2, padding=0, dilation=1, ceil_mode=False)\n",
       "  (relu_2): ReLU()\n",
       "  (fc_1): Linear(in_features=256, out_features=120, bias=True)\n",
       "  (relu_3): ReLU()\n",
       "  (fc_2): Linear(in_features=120, out_features=84, bias=True)\n",
       "  (relu_4): ReLU()\n",
       "  (fc_3): Linear(in_features=84, out_features=10, bias=True)\n",
       ")"
      ]
     },
     "execution_count": 8,
     "metadata": {},
     "output_type": "execute_result"
    }
   ],
   "source": [
    "normal_model = load_mnist_model(modelpath)\n",
    "normal_model.to(device)\n",
    "normal_model.eval()"
   ]
  },
  {
   "cell_type": "code",
   "execution_count": 9,
   "id": "ec4cc932",
   "metadata": {},
   "outputs": [],
   "source": [
    "import pandas as pd"
   ]
  },
  {
   "cell_type": "code",
   "execution_count": 10,
   "id": "4d271c22",
   "metadata": {},
   "outputs": [],
   "source": [
    "def make_noise(x_batch, y_batch, spread):\n",
    "    new_x_batch = []\n",
    "    for x in x_batch:\n",
    "        x = x.data.cpu().numpy()\n",
    "        stdev = spread * (np.max(x)-np.min(x))\n",
    "        noise = np.random.normal(0, stdev, x.shape).astype(np.float32)\n",
    "        x_plus_noise = x + noise\n",
    "        x_plus_noise = np.clip(x_plus_noise, 0, 1)\n",
    "        x_plus_noise = torch.from_numpy(x_plus_noise).cpu()\n",
    "        new_x_batch.append(x_plus_noise)\n",
    "    new_batch = torch.stack(new_x_batch).to(device)\n",
    "    return new_batch"
   ]
  },
  {
   "cell_type": "code",
   "execution_count": 11,
   "id": "d5d1b860",
   "metadata": {},
   "outputs": [],
   "source": [
    "def compute_metrics_benign(adv_path, normal_model, noise_parameter): \n",
    "    \n",
    "    print(\"Computing metrics for {} for benign\")\n",
    "    \n",
    "    npobj = np.load(adv_path)\n",
    "    adaptive_image = npobj['b_images']\n",
    "    adaptive_label = npobj['b_labels']\n",
    "    \n",
    "    \n",
    "    #attribution robustness\n",
    "    attribution_gaussian1 = []\n",
    "    #logit robustness\n",
    "    logit_gaussian1 = []\n",
    "   \n",
    "    \n",
    "    images, labels = torch.from_numpy(adaptive_image), torch.from_numpy(adaptive_label)\n",
    "    #images, labels = images.to(device), labels.to(device)\n",
    "    \n",
    "    end = len(adaptive_label)\n",
    "    if end > 1000:\n",
    "        end = 1000\n",
    "    \n",
    "    for i in range(0, end, 2):\n",
    "        \n",
    "        images_adv, y_pred_adv = images[i:i+2], labels[i:i+2]\n",
    "        images_adv, y_pred_adv = images_adv.to(device), y_pred_adv.to(device)\n",
    "        \n",
    "        x_logits = normal_model(images_adv)\n",
    "        gc.collect()\n",
    "        torch.cuda.empty_cache()\n",
    "        \n",
    "        #approach: attribution and logit robustness\n",
    "        a_batch = quantus.explain(\n",
    "            model=normal_model, inputs=images_adv, targets=y_pred_adv, **{\"method:\": \"IntegratedGradient\", \"device\": device})\n",
    "        \n",
    "        \n",
    "        gaussian_noisy_images_1 = make_noise(images_adv, y_pred_adv, spread = noise_parameter)\n",
    "        gaussian_logits_1 = normal_model(gaussian_noisy_images_1)\n",
    "        \n",
    "        \n",
    "        diff1 = torch.norm(x_logits-gaussian_logits_1,p=1, dim=1) \n",
    "        logit_gaussian1.extend(diff1.detach().cpu().numpy())\n",
    "        \n",
    "        \n",
    "        \n",
    "        a_batch_gaussian1 = quantus.explain(\n",
    "        model=normal_model, inputs=gaussian_noisy_images_1, targets=y_pred_adv, **{\"method:\": \"IntegratedGradient\", \"device\": device})\n",
    "        \n",
    "            \n",
    "        for a, b in zip(a_batch, a_batch_gaussian1):\n",
    "            c = np.linalg.norm(a.flatten()-b.flatten(),ord=1 )\n",
    "            attribution_gaussian1.append(c)\n",
    "            \n",
    "       \n",
    "        \n",
    "    df = pd.DataFrame([\n",
    "            attribution_gaussian1,\n",
    "            logit_gaussian1], index = [\n",
    "            \"Gaussian1 attribution\", \n",
    "            \"Gaussian1 logit robusntess\"\n",
    "                    ])\n",
    "            \n",
    "    path = \"adaptive_Benign.csv\"\n",
    "    df.to_csv(path)"
   ]
  },
  {
   "cell_type": "code",
   "execution_count": 14,
   "id": "dcec9fef",
   "metadata": {},
   "outputs": [],
   "source": [
    "def return_thresholds(data_path, model):\n",
    "    noise_ = [0.001, 0.002, 0.003, 0.004, 0.005, 0.006, 0.007, 0.008, 0.009, 0.01,0.03, 0.05, 0.07, 0.10]\n",
    "    final_auc_list = []\n",
    "    final_tpr_list = [] \n",
    "    final_fpr_list = [] \n",
    "    \n",
    "    for noise_p in noise_:\n",
    "        print('computing evaluations for noise {} '.format(noise_p))\n",
    "        compute_metrics_benign(data_path, model, noise_p)\n",
    "        df_cifar = pd.read_csv(\"adaptive_Benign.csv\")\n",
    "        attr_gaussian3 = df_cifar.iloc[0].values.flatten().tolist()[1:]\n",
    "        logit_gaussian3 = df_cifar.iloc[1].values.flatten().tolist()[1:]\n",
    "        print('Minimum attr:', min(attr_gaussian3))\n",
    "        print('Maximum attr:', max(attr_gaussian3))\n",
    "        print('Minimum logit:', min(logit_gaussian3))\n",
    "        print('Maximum logit:', max(logit_gaussian3))\n",
    "        print('---------')"
   ]
  },
  {
   "cell_type": "code",
   "execution_count": 15,
   "id": "654a200c",
   "metadata": {
    "scrolled": false
   },
   "outputs": [
    {
     "name": "stdout",
     "output_type": "stream",
     "text": [
      "computing evaluations for noise 0.001 \n",
      "Computing metrics for {} for benign\n",
      "Minimum attr: 4.2724423e-07\n",
      "Maximum attr: 233.75424\n",
      "Minimum logit: 0.009063244\n",
      "Maximum logit: 0.9191055\n",
      "---------\n",
      "computing evaluations for noise 0.002 \n",
      "Computing metrics for {} for benign\n",
      "Minimum attr: 9.154901e-07\n",
      "Maximum attr: 212.17314\n",
      "Minimum logit: 0.013617158\n",
      "Maximum logit: 2.181942\n",
      "---------\n",
      "computing evaluations for noise 0.003 \n",
      "Computing metrics for {} for benign\n",
      "Minimum attr: 1.3299286e-06\n",
      "Maximum attr: 283.53784\n",
      "Minimum logit: 0.03462434\n",
      "Maximum logit: 2.8588233\n",
      "---------\n",
      "computing evaluations for noise 0.004 \n",
      "Computing metrics for {} for benign\n",
      "Minimum attr: 9.536743e-07\n",
      "Maximum attr: 386.27377\n",
      "Minimum logit: 0.06614268\n",
      "Maximum logit: 4.640523\n",
      "---------\n",
      "computing evaluations for noise 0.005 \n",
      "Computing metrics for {} for benign\n",
      "Minimum attr: 2.1662563e-06\n",
      "Maximum attr: 295.55814\n",
      "Minimum logit: 0.051588535\n",
      "Maximum logit: 5.4401026\n",
      "---------\n",
      "computing evaluations for noise 0.006 \n",
      "Computing metrics for {} for benign\n",
      "Minimum attr: 7.373281e-06\n",
      "Maximum attr: 289.08148\n",
      "Minimum logit: 0.066069484\n",
      "Maximum logit: 5.6926484\n",
      "---------\n",
      "computing evaluations for noise 0.007 \n",
      "Computing metrics for {} for benign\n",
      "Minimum attr: 5.5441633e-06\n",
      "Maximum attr: 317.14545\n",
      "Minimum logit: 0.08151543\n",
      "Maximum logit: 7.149475\n",
      "---------\n",
      "computing evaluations for noise 0.008 \n",
      "Computing metrics for {} for benign\n",
      "Minimum attr: 1.1920094\n",
      "Maximum attr: 330.32172\n",
      "Minimum logit: 0.0786984\n",
      "Maximum logit: 8.593302\n",
      "---------\n",
      "computing evaluations for noise 0.009 \n",
      "Computing metrics for {} for benign\n",
      "Minimum attr: 1.5233655\n",
      "Maximum attr: 375.2081\n",
      "Minimum logit: 0.087350905\n",
      "Maximum logit: 7.735525\n",
      "---------\n",
      "computing evaluations for noise 0.01 \n",
      "Computing metrics for {} for benign\n",
      "Minimum attr: 3.261967\n",
      "Maximum attr: 417.31732\n",
      "Minimum logit: 0.16022587\n",
      "Maximum logit: 10.101432\n",
      "---------\n",
      "computing evaluations for noise 0.03 \n",
      "Computing metrics for {} for benign\n",
      "Minimum attr: 29.528852\n",
      "Maximum attr: 639.78326\n",
      "Minimum logit: 0.22613561\n",
      "Maximum logit: 28.745396\n",
      "---------\n",
      "computing evaluations for noise 0.05 \n",
      "Computing metrics for {} for benign\n",
      "Minimum attr: 49.73881\n",
      "Maximum attr: 1046.8511\n",
      "Minimum logit: 0.9036616\n",
      "Maximum logit: 53.25215\n",
      "---------\n",
      "computing evaluations for noise 0.07 \n",
      "Computing metrics for {} for benign\n",
      "Minimum attr: 87.49532\n",
      "Maximum attr: 1035.0134\n",
      "Minimum logit: 1.0340619\n",
      "Maximum logit: 61.495457\n",
      "---------\n",
      "computing evaluations for noise 0.1 \n",
      "Computing metrics for {} for benign\n",
      "Minimum attr: 86.32097\n",
      "Maximum attr: 1311.8965\n",
      "Minimum logit: 1.3409908\n",
      "Maximum logit: 92.08646\n",
      "---------\n"
     ]
    }
   ],
   "source": [
    "data_path = 'adv samples/MNIST/FGSM/0.03137254901960784eps.npz'\n",
    "return_thresholds(data_path, normal_model)"
   ]
  },
  {
   "cell_type": "code",
   "execution_count": 16,
   "id": "538c2ac7",
   "metadata": {},
   "outputs": [],
   "source": [
    "import numpy as np\n",
    "\n",
    "k=[]\n",
    "l=[]\n",
    "m=[]\n",
    "n=[]\n",
    "\n",
    "k1=10*[0.005]\n",
    "l1= np.linspace(0.1,1.5, 10).tolist()\n",
    "\n",
    "m1=10*[4.2724423e-05]\n",
    "n1= np.linspace(5,200, 10).tolist()\n",
    "\n",
    "k.append(k1)\n",
    "l.append(l1)\n",
    "m.append(m1)\n",
    "n.append(n1)"
   ]
  },
  {
   "cell_type": "code",
   "execution_count": 17,
   "id": "0d7e6a87",
   "metadata": {},
   "outputs": [],
   "source": [
    "k1=10*[0.005]\n",
    "l1= np.linspace(0.1,1.7, 10).tolist()\n",
    "\n",
    "m1=10*[4.2724423e-05]\n",
    "n1= np.linspace(5,200, 10).tolist()\n",
    "\n",
    "k.append(k1)\n",
    "l.append(l1)\n",
    "m.append(m1)\n",
    "n.append(n1)"
   ]
  },
  {
   "cell_type": "code",
   "execution_count": 18,
   "id": "57f09e1c",
   "metadata": {},
   "outputs": [],
   "source": [
    "k1=10*[0.005]\n",
    "l1= np.linspace(0.1,2, 10).tolist()\n",
    "\n",
    "m1=10*[4.2724423e-05]\n",
    "n1= np.linspace(5,200, 10).tolist()\n",
    "\n",
    "k.append(k1)\n",
    "l.append(l1)\n",
    "m.append(m1)\n",
    "n.append(n1)"
   ]
  },
  {
   "cell_type": "code",
   "execution_count": 19,
   "id": "d41823cc",
   "metadata": {},
   "outputs": [],
   "source": [
    "k1=10*[0.005]\n",
    "l1= np.linspace(0.1,3, 10).tolist()\n",
    "\n",
    "m1=10*[4.2724423e-05]\n",
    "n1= np.linspace(5,200, 10).tolist()\n",
    "\n",
    "k.append(k1)\n",
    "l.append(l1)\n",
    "m.append(m1)\n",
    "n.append(n1)"
   ]
  },
  {
   "cell_type": "code",
   "execution_count": 20,
   "id": "f04fa354",
   "metadata": {},
   "outputs": [],
   "source": [
    "k1=10*[0.005]\n",
    "l1= np.linspace(0.1,4, 10).tolist()\n",
    "\n",
    "m1=10*[4.2724423e-05]\n",
    "n1= np.linspace(5,200, 10).tolist()\n",
    "\n",
    "k.append(k1)\n",
    "l.append(l1)\n",
    "m.append(m1)\n",
    "n.append(n1)"
   ]
  },
  {
   "cell_type": "code",
   "execution_count": 21,
   "id": "81d33a5b",
   "metadata": {
    "scrolled": true
   },
   "outputs": [],
   "source": [
    "k1=10*[0.005]\n",
    "l1= np.linspace(0.1,6, 10).tolist()\n",
    "\n",
    "m1=10*[4.2724423e-05]\n",
    "n1= np.linspace(5,260, 10).tolist()\n",
    "\n",
    "k.append(k1)\n",
    "l.append(l1)\n",
    "m.append(m1)\n",
    "n.append(n1)"
   ]
  },
  {
   "cell_type": "code",
   "execution_count": 22,
   "id": "fe19f5f5",
   "metadata": {},
   "outputs": [],
   "source": [
    "k1=10*[0.005]\n",
    "l1= np.linspace(0.1,7, 10).tolist()\n",
    "\n",
    "m1=10*[4.2724423e-05]\n",
    "n1= np.linspace(5,260, 10).tolist()\n",
    "\n",
    "k.append(k1)\n",
    "l.append(l1)\n",
    "m.append(m1)\n",
    "n.append(n1)"
   ]
  },
  {
   "cell_type": "code",
   "execution_count": 23,
   "id": "9aae6c79",
   "metadata": {},
   "outputs": [],
   "source": [
    "k1=10*[0.005]\n",
    "l1= np.linspace(0.1,7, 10).tolist()\n",
    "\n",
    "m1=10*[4.2724423e-05]\n",
    "n1= np.linspace(5,260, 10).tolist()\n",
    "\n",
    "k.append(k1)\n",
    "l.append(l1)\n",
    "m.append(m1)\n",
    "n.append(n1)"
   ]
  },
  {
   "cell_type": "code",
   "execution_count": 24,
   "id": "a1aacb17",
   "metadata": {},
   "outputs": [],
   "source": [
    "k1=10*[0.005]\n",
    "l1= np.linspace(0.5,8, 10).tolist()\n",
    "\n",
    "m1=10*[0.1]\n",
    "n1= np.linspace(5,360, 10).tolist()\n",
    "\n",
    "k.append(k1)\n",
    "l.append(l1)\n",
    "m.append(m1)\n",
    "n.append(n1)"
   ]
  },
  {
   "cell_type": "code",
   "execution_count": 25,
   "id": "462bc73a",
   "metadata": {},
   "outputs": [],
   "source": [
    "k1=10*[0.005]\n",
    "l1= np.linspace(0.5,20, 10).tolist()\n",
    "\n",
    "m1=10*[0.1]\n",
    "n1= np.linspace(5,500, 10).tolist()\n",
    "\n",
    "k.append(k1)\n",
    "l.append(l1)\n",
    "m.append(m1)\n",
    "n.append(n1)"
   ]
  },
  {
   "cell_type": "code",
   "execution_count": 26,
   "id": "2f50f3a7",
   "metadata": {},
   "outputs": [],
   "source": [
    "k1=10*[0.005]\n",
    "l1= np.linspace(1.0,40, 10).tolist()\n",
    "\n",
    "m1=10*[0.1]\n",
    "n1= np.linspace(5,800, 10).tolist()\n",
    "\n",
    "k.append(k1)\n",
    "l.append(l1)\n",
    "m.append(m1)\n",
    "n.append(n1)"
   ]
  },
  {
   "cell_type": "code",
   "execution_count": 27,
   "id": "73e24738",
   "metadata": {},
   "outputs": [],
   "source": [
    "k1=10*[0.005]\n",
    "l1= np.linspace(1.0,50, 10).tolist()\n",
    "\n",
    "m1=10*[0.1]\n",
    "n1= np.linspace(5,800, 10).tolist()\n",
    "\n",
    "k.append(k1)\n",
    "l.append(l1)\n",
    "m.append(m1)\n",
    "n.append(n1)"
   ]
  },
  {
   "cell_type": "code",
   "execution_count": 28,
   "id": "3423de0a",
   "metadata": {},
   "outputs": [],
   "source": [
    "k1=10*[0.005]\n",
    "l1= np.linspace(1.0,50, 10).tolist()\n",
    "\n",
    "m1=10*[0.1]\n",
    "n1= np.linspace(5,800, 10).tolist()\n",
    "\n",
    "k.append(k1)\n",
    "l.append(l1)\n",
    "m.append(m1)\n",
    "n.append(n1)"
   ]
  },
  {
   "cell_type": "code",
   "execution_count": 29,
   "id": "c4580b9f",
   "metadata": {},
   "outputs": [
    {
     "data": {
      "text/plain": [
       "(10, 10, 10, 10)"
      ]
     },
     "execution_count": 29,
     "metadata": {},
     "output_type": "execute_result"
    }
   ],
   "source": [
    "len(k1), len(l1), len(m1), len(n1)"
   ]
  },
  {
   "cell_type": "code",
   "execution_count": 30,
   "id": "22b56324",
   "metadata": {},
   "outputs": [
    {
     "data": {
      "text/plain": [
       "13"
      ]
     },
     "execution_count": 30,
     "metadata": {},
     "output_type": "execute_result"
    }
   ],
   "source": [
    "len(k)"
   ]
  },
  {
   "cell_type": "code",
   "execution_count": 31,
   "id": "77980925",
   "metadata": {},
   "outputs": [],
   "source": [
    "def compute_metrics_adv(adv_path, normal_model, noise_parameter): \n",
    "    \n",
    "    print(\"Computing metrics for {} for adv\")\n",
    "    npobj = np.load(adv_path)\n",
    "    adaptive_image = npobj['a_images']\n",
    "    adaptive_label = npobj['a_labels']\n",
    "    \n",
    "    #attribution robustness\n",
    "    attribution_gaussian1 = []\n",
    "    \n",
    "    #logit robustness\n",
    "    logit_gaussian1 = []\n",
    "  \n",
    "    images, labels = torch.from_numpy(adaptive_image), torch.from_numpy(adaptive_label)\n",
    "    #images, labels = images.to(device), labels.to(device)\n",
    "    \n",
    "    end = len(adaptive_label)\n",
    "    if end > 1000:\n",
    "        end = 1000\n",
    "    \n",
    "    for i in range(0, end, 2):\n",
    "        \n",
    "        images_adv, y_pred_adv = images[i:i+2], labels[i:i+2]\n",
    "        images_adv, y_pred_adv = images_adv.to(device), y_pred_adv.to(device)\n",
    "        \n",
    "        x_logits = normal_model(images_adv)\n",
    "        gc.collect()\n",
    "        torch.cuda.empty_cache()\n",
    "        \n",
    "        #approach: attribution and logit robustness\n",
    "        a_batch = quantus.explain(\n",
    "            model=normal_model, inputs=images_adv, targets=y_pred_adv, **{\"method:\": \"IntegratedGradient\", \"device\": device})\n",
    "        \n",
    "        gaussian_noisy_images_1 = make_noise(images_adv, y_pred_adv, spread = noise_parameter)\n",
    "        gaussian_logits_1 = normal_model(gaussian_noisy_images_1)\n",
    "        \n",
    "        diff1 = torch.norm(x_logits-gaussian_logits_1,p=1, dim=1) \n",
    "        logit_gaussian1.extend(diff1.detach().cpu().numpy())\n",
    "     \n",
    "        \n",
    "        a_batch_gaussian1 = quantus.explain(\n",
    "        model=normal_model, inputs=gaussian_noisy_images_1, targets=y_pred_adv, **{\"method:\": \"IntegratedGradient\", \"device\": device})\n",
    "        \n",
    "        for a, b in zip(a_batch, a_batch_gaussian1):\n",
    "            c = np.linalg.norm(a.flatten()-b.flatten(),ord=1 )\n",
    "            attribution_gaussian1.append(c)\n",
    "            \n",
    "        \n",
    "    df = pd.DataFrame([\n",
    "            \n",
    "            attribution_gaussian1,\n",
    "            logit_gaussian1], index = [\n",
    "            \"Gaussian1 attribution\",\n",
    "            \"Gaussian1 logit robusntess\"\n",
    "                    ])\n",
    "            \n",
    "    path = \"adaptive_Adv.csv\"\n",
    "    df.to_csv(path)"
   ]
  },
  {
   "cell_type": "code",
   "execution_count": 32,
   "id": "0e4c3e37",
   "metadata": {},
   "outputs": [],
   "source": [
    "def compute_TPR(adv1, a, b, adv2, c, d): \n",
    "    TN=0\n",
    "    FN=0\n",
    "    FP = 0 \n",
    "    TP=0\n",
    "    \n",
    "    for value1, value2 in zip(adv1, adv2): \n",
    "        if value1<a or value1>b:\n",
    "            TP += 1\n",
    "        else:\n",
    "            if value2<c or value2>d:\n",
    "                TP+=1\n",
    "            else: \n",
    "                FN+=1\n",
    "    \n",
    "    return (TP/(TP+FN))*100"
   ]
  },
  {
   "cell_type": "code",
   "execution_count": 33,
   "id": "ed11de69",
   "metadata": {},
   "outputs": [],
   "source": [
    "def compute_FPR(ap2a, k, l, ap2b, m, n): \n",
    "    TN=0\n",
    "    FN=0\n",
    "    FP=0 \n",
    "    TP=0\n",
    "    \n",
    "    for value6, value7 in zip(ap2a,ap2b):\n",
    "        if value6<k or value6>l:\n",
    "            FP +=1\n",
    "        else:\n",
    "            if value7<m or value7>n:\n",
    "                FP +=1\n",
    "\n",
    "    return (FP/(len(ap2a)))*100"
   ]
  },
  {
   "cell_type": "code",
   "execution_count": 34,
   "id": "dfc203be",
   "metadata": {},
   "outputs": [],
   "source": [
    "import sklearn\n",
    "from sklearn.metrics import roc_auc_score"
   ]
  },
  {
   "cell_type": "code",
   "execution_count": 35,
   "id": "8f6b6290",
   "metadata": {},
   "outputs": [],
   "source": [
    "def return_auc(adv_path, model, k, l, m, n, noise_p):\n",
    "    #logitgaussian3\n",
    "    k=k\n",
    "    l=l\n",
    "\n",
    "    #attrgaussian3\n",
    "    m=m\n",
    "    n=n\n",
    "\n",
    "    print('computing evaluations for noise {} '.format(noise_p))\n",
    "    compute_metrics_benign(adv_path, model, noise_p)\n",
    "    compute_metrics_adv(adv_path, model, noise_p)\n",
    "    df_cifar = pd.read_csv(\"adaptive_Benign.csv\")\n",
    "    attr_gaussian3 = df_cifar.iloc[0].values.flatten().tolist()[1:]\n",
    "    logit_gaussian3 = df_cifar.iloc[1].values.flatten().tolist()[1:]\n",
    "    fpr_results =[]\n",
    "    for t1,t2,t3,t4 in zip(k,l,m,n):\n",
    "        FPR = compute_FPR(logit_gaussian3, t1,t2, attr_gaussian3,t3,t4)\n",
    "        fpr_results.append(FPR/100)\n",
    "    df_pgd_eps1 = pd.read_csv(\"adaptive_Adv.csv\")\n",
    "    attr_gaussian3_eps1 = df_pgd_eps1.iloc[0].values.flatten().tolist()[1:]\n",
    "    logit_gaussian3_eps1 = df_pgd_eps1.iloc[1].values.flatten().tolist()[1:]\n",
    "    tpr_results =[]\n",
    "    for t1,t2,t3,t4 in zip(k,l,m,n):\n",
    "        TPR = compute_TPR(logit_gaussian3_eps1, t1,t2, attr_gaussian3_eps1,t3,t4)\n",
    "        tpr_results.append(TPR/100)\n",
    "    auc_ = sklearn.metrics.auc(fpr_results, tpr_results)\n",
    "    \n",
    "    return auc_, fpr_results, tpr_results"
   ]
  },
  {
   "cell_type": "code",
   "execution_count": 36,
   "id": "21c3b36f",
   "metadata": {},
   "outputs": [],
   "source": [
    "adv_path = 'adv samples/MNIST/FGSM/0.03137254901960784eps.npz'"
   ]
  },
  {
   "cell_type": "code",
   "execution_count": 39,
   "id": "64dc55bd",
   "metadata": {},
   "outputs": [
    {
     "data": {
      "text/plain": [
       "(13, 14)"
      ]
     },
     "execution_count": 39,
     "metadata": {},
     "output_type": "execute_result"
    }
   ],
   "source": [
    "len(k), len(noise_)"
   ]
  },
  {
   "cell_type": "code",
   "execution_count": 37,
   "id": "3093faac",
   "metadata": {},
   "outputs": [
    {
     "name": "stdout",
     "output_type": "stream",
     "text": [
      "computing evaluations for noise 0.001 \n",
      "Computing metrics for {} for benign\n",
      "Computing metrics for {} for adv\n",
      "auc for noise 0.001 is 0.5759265.\n",
      "---\n",
      "computing evaluations for noise 0.002 \n",
      "Computing metrics for {} for benign\n",
      "Computing metrics for {} for adv\n",
      "auc for noise 0.002 is 0.834647.\n",
      "---\n",
      "computing evaluations for noise 0.003 \n",
      "Computing metrics for {} for benign\n",
      "Computing metrics for {} for adv\n",
      "auc for noise 0.003 is 0.9288885.\n",
      "---\n",
      "computing evaluations for noise 0.004 \n",
      "Computing metrics for {} for benign\n",
      "Computing metrics for {} for adv\n",
      "auc for noise 0.004 is 0.9608345000000001.\n",
      "---\n",
      "computing evaluations for noise 0.005 \n",
      "Computing metrics for {} for benign\n",
      "Computing metrics for {} for adv\n",
      "auc for noise 0.005 is 0.9743725000000001.\n",
      "---\n",
      "computing evaluations for noise 0.006 \n",
      "Computing metrics for {} for benign\n",
      "Computing metrics for {} for adv\n",
      "auc for noise 0.006 is 0.9750610000000002.\n",
      "---\n",
      "computing evaluations for noise 0.007 \n",
      "Computing metrics for {} for benign\n",
      "Computing metrics for {} for adv\n",
      "auc for noise 0.007 is 0.9765129999999999.\n",
      "---\n",
      "computing evaluations for noise 0.008 \n",
      "Computing metrics for {} for benign\n",
      "Computing metrics for {} for adv\n",
      "auc for noise 0.008 is 0.9646035000000001.\n",
      "---\n",
      "computing evaluations for noise 0.009 \n",
      "Computing metrics for {} for benign\n",
      "Computing metrics for {} for adv\n",
      "auc for noise 0.009 is 0.9614715000000001.\n",
      "---\n",
      "computing evaluations for noise 0.01 \n",
      "Computing metrics for {} for benign\n",
      "Computing metrics for {} for adv\n",
      "auc for noise 0.01 is 0.9295735000000002.\n",
      "---\n",
      "computing evaluations for noise 0.03 \n",
      "Computing metrics for {} for benign\n",
      "Computing metrics for {} for adv\n",
      "auc for noise 0.03 is 0.6435515.\n",
      "---\n",
      "computing evaluations for noise 0.05 \n",
      "Computing metrics for {} for benign\n",
      "Computing metrics for {} for adv\n",
      "auc for noise 0.05 is 0.4697295.\n",
      "---\n",
      "computing evaluations for noise 0.07 \n",
      "Computing metrics for {} for benign\n",
      "Computing metrics for {} for adv\n",
      "auc for noise 0.07 is 0.39177599999999996.\n",
      "---\n"
     ]
    },
    {
     "ename": "IndexError",
     "evalue": "list index out of range",
     "output_type": "error",
     "traceback": [
      "\u001b[0;31m---------------------------------------------------------------------------\u001b[0m",
      "\u001b[0;31mIndexError\u001b[0m                                Traceback (most recent call last)",
      "Cell \u001b[0;32mIn[37], line 7\u001b[0m\n\u001b[1;32m      4\u001b[0m fgsm_fpr_list \u001b[38;5;241m=\u001b[39m [] \n\u001b[1;32m      6\u001b[0m \u001b[38;5;28;01mfor\u001b[39;00m i \u001b[38;5;129;01min\u001b[39;00m \u001b[38;5;28mrange\u001b[39m(\u001b[38;5;28mlen\u001b[39m(noise_)): \n\u001b[0;32m----> 7\u001b[0m     auc, fpr, tpr \u001b[38;5;241m=\u001b[39m return_auc(adv_path, normal_model, \u001b[43mk\u001b[49m\u001b[43m[\u001b[49m\u001b[43mi\u001b[49m\u001b[43m]\u001b[49m, l[i], m[i], n[i], noise_[i])\n\u001b[1;32m      8\u001b[0m     \u001b[38;5;28mprint\u001b[39m(\u001b[38;5;124m'\u001b[39m\u001b[38;5;124mauc for noise \u001b[39m\u001b[38;5;132;01m{}\u001b[39;00m\u001b[38;5;124m is \u001b[39m\u001b[38;5;132;01m{}\u001b[39;00m\u001b[38;5;124m.\u001b[39m\u001b[38;5;124m'\u001b[39m\u001b[38;5;241m.\u001b[39mformat(noise_[i], auc))\n\u001b[1;32m      9\u001b[0m     \u001b[38;5;28mprint\u001b[39m(\u001b[38;5;124m'\u001b[39m\u001b[38;5;124m---\u001b[39m\u001b[38;5;124m'\u001b[39m)\n",
      "\u001b[0;31mIndexError\u001b[0m: list index out of range"
     ]
    }
   ],
   "source": [
    "\n",
    "noise_ = [0.001, 0.002, 0.003, 0.004, 0.005, 0.006, 0.007, 0.008, 0.009, 0.01,0.03, 0.05, 0.07, 0.10]\n",
    "fgsm_auc_list = []\n",
    "fgsm_tpr_list = [] \n",
    "fgsm_fpr_list = [] \n",
    "\n",
    "for i in range(len(noise_)): \n",
    "    auc, fpr, tpr = return_auc(adv_path, normal_model, k[i], l[i], m[i], n[i], noise_[i])\n",
    "    print('auc for noise {} is {}.'.format(noise_[i], auc))\n",
    "    print('---')\n",
    "    fgsm_auc_list.append(auc)\n",
    "    fgsm_tpr_list.append(tpr)\n",
    "    fgsm_fpr_list.append(fpr)\n"
   ]
  },
  {
   "cell_type": "markdown",
   "id": "cf04ab3c",
   "metadata": {},
   "source": [
    "# PGD"
   ]
  },
  {
   "cell_type": "code",
   "execution_count": 40,
   "id": "5f6ccd87",
   "metadata": {
    "scrolled": false
   },
   "outputs": [
    {
     "name": "stdout",
     "output_type": "stream",
     "text": [
      "computing evaluations for noise 0.001 \n",
      "Computing metrics for {} for benign\n",
      "Computing metrics for {} for adv\n",
      "auc for noise 0.001 is 0.5690000000000001.\n",
      "---\n",
      "computing evaluations for noise 0.002 \n",
      "Computing metrics for {} for benign\n",
      "Computing metrics for {} for adv\n",
      "auc for noise 0.002 is 0.8500000000000001.\n",
      "---\n",
      "computing evaluations for noise 0.003 \n",
      "Computing metrics for {} for benign\n",
      "Computing metrics for {} for adv\n",
      "auc for noise 0.003 is 0.933.\n",
      "---\n",
      "computing evaluations for noise 0.004 \n",
      "Computing metrics for {} for benign\n",
      "Computing metrics for {} for adv\n",
      "auc for noise 0.004 is 0.9630000000000001.\n",
      "---\n",
      "computing evaluations for noise 0.005 \n",
      "Computing metrics for {} for benign\n",
      "Computing metrics for {} for adv\n",
      "auc for noise 0.005 is 0.9720000000000002.\n",
      "---\n",
      "computing evaluations for noise 0.006 \n",
      "Computing metrics for {} for benign\n",
      "Computing metrics for {} for adv\n",
      "auc for noise 0.006 is 0.9849875000000001.\n",
      "---\n",
      "computing evaluations for noise 0.007 \n",
      "Computing metrics for {} for benign\n",
      "Computing metrics for {} for adv\n",
      "auc for noise 0.007 is 0.9909565.\n",
      "---\n",
      "computing evaluations for noise 0.008 \n",
      "Computing metrics for {} for benign\n",
      "Computing metrics for {} for adv\n",
      "auc for noise 0.008 is 0.988905.\n",
      "---\n",
      "computing evaluations for noise 0.009 \n",
      "Computing metrics for {} for benign\n",
      "Computing metrics for {} for adv\n",
      "auc for noise 0.009 is 0.995861.\n",
      "---\n",
      "computing evaluations for noise 0.01 \n",
      "Computing metrics for {} for benign\n",
      "Computing metrics for {} for adv\n",
      "auc for noise 0.01 is 0.9980144999999999.\n",
      "---\n",
      "computing evaluations for noise 0.03 \n",
      "Computing metrics for {} for benign\n",
      "Computing metrics for {} for adv\n",
      "auc for noise 0.03 is 0.937696.\n",
      "---\n",
      "computing evaluations for noise 0.05 \n",
      "Computing metrics for {} for benign\n",
      "Computing metrics for {} for adv\n",
      "auc for noise 0.05 is 0.7763595000000001.\n",
      "---\n",
      "computing evaluations for noise 0.07 \n",
      "Computing metrics for {} for benign\n",
      "Computing metrics for {} for adv\n",
      "auc for noise 0.07 is 0.6801505.\n",
      "---\n"
     ]
    }
   ],
   "source": [
    "adv_path1 = 'adv samples/MNIST/PGD/0.03137254901960784eps.npz'\n",
    "noise_ = [0.001, 0.002, 0.003, 0.004, 0.005, 0.006, 0.007, 0.008, 0.009, 0.01,0.03, 0.05, 0.07]\n",
    "pgd_auc_list = []\n",
    "pgd_tpr_list = [] \n",
    "pgd_fpr_list = [] \n",
    "\n",
    "for i in range(len(noise_)): \n",
    "    auc, fpr, tpr = return_auc(adv_path1, normal_model, k[i], l[i], m[i], n[i], noise_[i])\n",
    "    print('auc for noise {} is {}.'.format(noise_[i], auc))\n",
    "    print('---')\n",
    "    pgd_auc_list.append(auc)\n",
    "    pgd_tpr_list.append(tpr)\n",
    "    pgd_fpr_list.append(fpr)"
   ]
  },
  {
   "cell_type": "markdown",
   "id": "5759050a",
   "metadata": {},
   "source": [
    "# BIM"
   ]
  },
  {
   "cell_type": "code",
   "execution_count": 41,
   "id": "faea2b8a",
   "metadata": {},
   "outputs": [
    {
     "name": "stdout",
     "output_type": "stream",
     "text": [
      "computing evaluations for noise 0.001 \n",
      "Computing metrics for {} for benign\n",
      "Computing metrics for {} for adv\n",
      "auc for noise 0.001 is 0.3043245000000001.\n",
      "---\n",
      "computing evaluations for noise 0.002 \n",
      "Computing metrics for {} for benign\n",
      "Computing metrics for {} for adv\n",
      "auc for noise 0.002 is 0.4726715000000001.\n",
      "---\n",
      "computing evaluations for noise 0.003 \n",
      "Computing metrics for {} for benign\n",
      "Computing metrics for {} for adv\n",
      "auc for noise 0.003 is 0.5239130000000001.\n",
      "---\n",
      "computing evaluations for noise 0.004 \n",
      "Computing metrics for {} for benign\n",
      "Computing metrics for {} for adv\n",
      "auc for noise 0.004 is 0.535415.\n",
      "---\n",
      "computing evaluations for noise 0.005 \n",
      "Computing metrics for {} for benign\n",
      "Computing metrics for {} for adv\n",
      "auc for noise 0.005 is 0.5592189999999999.\n",
      "---\n",
      "computing evaluations for noise 0.006 \n",
      "Computing metrics for {} for benign\n",
      "Computing metrics for {} for adv\n",
      "auc for noise 0.006 is 0.5819444999999999.\n",
      "---\n",
      "computing evaluations for noise 0.007 \n",
      "Computing metrics for {} for benign\n",
      "Computing metrics for {} for adv\n",
      "auc for noise 0.007 is 0.5521815.\n",
      "---\n",
      "computing evaluations for noise 0.008 \n",
      "Computing metrics for {} for benign\n",
      "Computing metrics for {} for adv\n",
      "auc for noise 0.008 is 0.578907.\n",
      "---\n",
      "computing evaluations for noise 0.009 \n",
      "Computing metrics for {} for benign\n",
      "Computing metrics for {} for adv\n",
      "auc for noise 0.009 is 0.5728765.\n",
      "---\n",
      "computing evaluations for noise 0.01 \n",
      "Computing metrics for {} for benign\n",
      "Computing metrics for {} for adv\n",
      "auc for noise 0.01 is 0.545545.\n",
      "---\n",
      "computing evaluations for noise 0.03 \n",
      "Computing metrics for {} for benign\n",
      "Computing metrics for {} for adv\n",
      "auc for noise 0.03 is 0.43291750000000007.\n",
      "---\n",
      "computing evaluations for noise 0.05 \n",
      "Computing metrics for {} for benign\n",
      "Computing metrics for {} for adv\n",
      "auc for noise 0.05 is 0.31690699999999994.\n",
      "---\n",
      "computing evaluations for noise 0.07 \n",
      "Computing metrics for {} for benign\n",
      "Computing metrics for {} for adv\n",
      "auc for noise 0.07 is 0.2838645.\n",
      "---\n"
     ]
    }
   ],
   "source": [
    "adv_path1 = 'adv samples/MNIST/BIM/0.03137254901960784eps.npz'\n",
    "noise_ = [0.001, 0.002, 0.003, 0.004, 0.005, 0.006, 0.007, 0.008, 0.009, 0.01,0.03, 0.05, 0.07]\n",
    "bim_auc_list = []\n",
    "bim_tpr_list = [] \n",
    "bim_fpr_list = [] \n",
    "\n",
    "for i in range(len(noise_)): \n",
    "    auc, fpr, tpr = return_auc(adv_path1, normal_model, k[i], l[i], m[i], n[i], noise_[i])\n",
    "    print('auc for noise {} is {}.'.format(noise_[i], auc))\n",
    "    print('---')\n",
    "    bim_auc_list.append(auc)\n",
    "    bim_tpr_list.append(tpr)\n",
    "    bim_fpr_list.append(fpr)\n"
   ]
  },
  {
   "cell_type": "markdown",
   "id": "6e0bedf4",
   "metadata": {},
   "source": [
    "# CW"
   ]
  },
  {
   "cell_type": "code",
   "execution_count": 43,
   "id": "2fd8e0ed",
   "metadata": {},
   "outputs": [
    {
     "name": "stdout",
     "output_type": "stream",
     "text": [
      "computing evaluations for noise 0.001 \n",
      "Computing metrics for {} for benign\n",
      "Computing metrics for {} for adv\n",
      "auc for noise 0.001 is 0.28535399999999994.\n",
      "---\n",
      "computing evaluations for noise 0.002 \n",
      "Computing metrics for {} for benign\n",
      "Computing metrics for {} for adv\n",
      "auc for noise 0.002 is 0.33338600000000007.\n",
      "---\n",
      "computing evaluations for noise 0.003 \n",
      "Computing metrics for {} for benign\n",
      "Computing metrics for {} for adv\n",
      "auc for noise 0.003 is 0.364725.\n",
      "---\n",
      "computing evaluations for noise 0.004 \n",
      "Computing metrics for {} for benign\n",
      "Computing metrics for {} for adv\n",
      "auc for noise 0.004 is 0.3654275000000001.\n",
      "---\n",
      "computing evaluations for noise 0.005 \n",
      "Computing metrics for {} for benign\n",
      "Computing metrics for {} for adv\n",
      "auc for noise 0.005 is 0.404619.\n",
      "---\n",
      "computing evaluations for noise 0.006 \n",
      "Computing metrics for {} for benign\n",
      "Computing metrics for {} for adv\n",
      "auc for noise 0.006 is 0.4021495.\n",
      "---\n",
      "computing evaluations for noise 0.007 \n",
      "Computing metrics for {} for benign\n",
      "Computing metrics for {} for adv\n",
      "auc for noise 0.007 is 0.406508.\n",
      "---\n",
      "computing evaluations for noise 0.008 \n",
      "Computing metrics for {} for benign\n",
      "Computing metrics for {} for adv\n",
      "auc for noise 0.008 is 0.40232299999999993.\n",
      "---\n",
      "computing evaluations for noise 0.009 \n",
      "Computing metrics for {} for benign\n",
      "Computing metrics for {} for adv\n",
      "auc for noise 0.009 is 0.417614.\n",
      "---\n",
      "computing evaluations for noise 0.01 \n",
      "Computing metrics for {} for benign\n",
      "Computing metrics for {} for adv\n",
      "auc for noise 0.01 is 0.44904249999999996.\n",
      "---\n",
      "computing evaluations for noise 0.03 \n",
      "Computing metrics for {} for benign\n",
      "Computing metrics for {} for adv\n",
      "auc for noise 0.03 is 0.3338060000000001.\n",
      "---\n",
      "computing evaluations for noise 0.05 \n",
      "Computing metrics for {} for benign\n",
      "Computing metrics for {} for adv\n",
      "auc for noise 0.05 is 0.29408199999999995.\n",
      "---\n",
      "computing evaluations for noise 0.07 \n",
      "Computing metrics for {} for benign\n",
      "Computing metrics for {} for adv\n",
      "auc for noise 0.07 is 0.28193100000000004.\n",
      "---\n"
     ]
    }
   ],
   "source": [
    "adv_path1 = 'adv samples/MNIST/CW/00.15eps.npz'\n",
    "noise_ = [0.001, 0.002, 0.003, 0.004, 0.005, 0.006, 0.007, 0.008, 0.009, 0.01,0.03, 0.05, 0.07]\n",
    "cw_auc_list = []\n",
    "cw_tpr_list = [] \n",
    "cw_fpr_list = [] \n",
    "\n",
    "for i in range(len(noise_)): \n",
    "    auc, fpr, tpr = return_auc(adv_path1, normal_model, k[i], l[i], m[i], n[i], noise_[i])\n",
    "    print('auc for noise {} is {}.'.format(noise_[i], auc))\n",
    "    print('---')\n",
    "    cw_auc_list.append(auc)\n",
    "    cw_tpr_list.append(tpr)\n",
    "    cw_fpr_list.append(fpr)\n"
   ]
  },
  {
   "cell_type": "code",
   "execution_count": 44,
   "id": "fcc53d0d",
   "metadata": {},
   "outputs": [],
   "source": [
    "auc=[]\n",
    "for a,b,c,d in zip(fgsm_auc_list, pgd_auc_list, bim_auc_list, cw_auc_list):\n",
    "    z = (a+b+c+d)/4 \n",
    "    auc.append(z)"
   ]
  },
  {
   "cell_type": "code",
   "execution_count": 45,
   "id": "bf7963fe",
   "metadata": {},
   "outputs": [],
   "source": [
    "noise_ = [0.001, 0.002, 0.003, 0.004, 0.005, 0.006, 0.007, 0.008, 0.009, 0.01,0.03, 0.05, 0.07]\n"
   ]
  },
  {
   "cell_type": "code",
   "execution_count": 46,
   "id": "6145b11a",
   "metadata": {},
   "outputs": [
    {
     "data": {
      "text/plain": [
       "[<matplotlib.lines.Line2D at 0x7fe9b858db80>]"
      ]
     },
     "execution_count": 46,
     "metadata": {},
     "output_type": "execute_result"
    },
    {
     "data": {
      "image/png": "[encoded data removed]",
      "text/plain": [
       "<Figure size 640x480 with 1 Axes>"
      ]
     },
     "metadata": {},
     "output_type": "display_data"
    }
   ],
   "source": [
    "import matplotlib.pyplot as plt\n",
    "plt.xlabel('Noise spread parameter')\n",
    "plt.ylabel('AUC')\n",
    "plt.plot(noise_, auc)"
   ]
  },
  {
   "cell_type": "code",
   "execution_count": 55,
   "id": "16274c90",
   "metadata": {},
   "outputs": [
    {
     "data": {
      "image/png": "[encoded data removed]",
      "text/plain": [
       "<Figure size 640x480 with 1 Axes>"
      ]
     },
     "metadata": {},
     "output_type": "display_data"
    }
   ],
   "source": [
    "\n",
    "plt.plot(noise_, fgsm_auc_list, label=\"FGSM\")\n",
    "plt.plot(noise_, pgd_auc_list, label=\"PGD\")\n",
    "plt.plot(noise_, bim_auc_list, label=\"BIM\")\n",
    "plt.plot(noise_, cw_auc_list, label=\"CW\")\n",
    "plt.xlabel('Noise spread parameter')\n",
    "plt.ylabel('AUC')\n",
    "\n",
    "plt.legend()\n",
    "\n",
    "plt.savefig('parameteranalysismnist.pdf', format='pdf', bbox_inches='tight')\n",
    "plt.show()\n"
   ]
  },
  {
   "cell_type": "code",
   "execution_count": null,
   "id": "7141168a",
   "metadata": {},
   "outputs": [],
   "source": []
  }
 ],
 "metadata": {
  "kernelspec": {
   "display_name": "adv_detection",
   "language": "python",
   "name": "adv_detection"
  },
  "language_info": {
   "codemirror_mode": {
    "name": "ipython",
    "version": 3
   },
   "file_extension": ".py",
   "mimetype": "text/x-python",
   "name": "python",
   "nbconvert_exporter": "python",
   "pygments_lexer": "ipython3",
   "version": "3.8.10"
  }
 },
 "nbformat": 4,
 "nbformat_minor": 5
}
