{
 "cells": [
  {
   "cell_type": "markdown",
   "id": "12711af9",
   "metadata": {},
   "source": [
    "This notebook contains evaluation of adaptive samples created by attack on logit, called logit matching attack."
   ]
  },
  {
   "cell_type": "code",
   "execution_count": 3,
   "id": "59210dbd",
   "metadata": {},
   "outputs": [],
   "source": [
    "import os\n",
    "import numpy as np\n",
    "import torch \n",
    "import torch.nn as nn\n",
    "from captum.attr import IntegratedGradients\n",
    "import matplotlib.pyplot as plt \n",
    "import numpy as np \n",
    "from captum.attr import *\n",
    "import quantus\n",
    "import gc"
   ]
  },
  {
   "cell_type": "code",
   "execution_count": 6,
   "id": "9d91bf3e",
   "metadata": {},
   "outputs": [],
   "source": [
    "data_path = '/data/virtual environments/adv detection by robustness/adv_detection/Adaptive attacks/adaptive_attack_images_cifar/srelu/attack both ig and model/16255.npz' "
   ]
  },
  {
   "cell_type": "code",
   "execution_count": 7,
   "id": "00257f63",
   "metadata": {},
   "outputs": [],
   "source": [
    "npobj = np.load(data_path)"
   ]
  },
  {
   "cell_type": "code",
   "execution_count": 8,
   "id": "231768f1",
   "metadata": {},
   "outputs": [],
   "source": [
    "use_cuda=True\n",
    "device = torch.device(\"cuda\" if use_cuda else \"cpu\")"
   ]
  },
  {
   "cell_type": "code",
   "execution_count": 9,
   "id": "9611ef73",
   "metadata": {},
   "outputs": [
    {
     "name": "stdout",
     "output_type": "stream",
     "text": [
      "['adaptive_images', 'adaptive_labels', 'benign_images', 'benign_labels', 'pgd_images', 'pgd_labels']\n"
     ]
    }
   ],
   "source": [
    "keys = npobj.files\n",
    "print(keys)"
   ]
  },
  {
   "cell_type": "code",
   "execution_count": 143,
   "id": "35e281b3",
   "metadata": {},
   "outputs": [],
   "source": [
    "npobj = np.load(data_path)\n",
    "adaptive_image = npobj['a_images']\n",
    "adaptive_label = npobj['a_labels']\n",
    "ben_image = npobj['b_images']\n",
    "ben_label = npobj['b_labels']"
   ]
  },
  {
   "cell_type": "code",
   "execution_count": 144,
   "id": "61cbaa4d",
   "metadata": {},
   "outputs": [
    {
     "data": {
      "text/plain": [
       "ResNet(\n",
       "  (conv1): Conv2d(3, 64, kernel_size=(3, 3), stride=(1, 1), padding=(1, 1), bias=False)\n",
       "  (bn1): BatchNorm2d(64, eps=1e-05, momentum=0.1, affine=True, track_running_stats=True)\n",
       "  (layer1): Sequential(\n",
       "    (0): Bottleneck(\n",
       "      (conv1): Conv2d(64, 64, kernel_size=(1, 1), stride=(1, 1), bias=False)\n",
       "      (bn1): BatchNorm2d(64, eps=1e-05, momentum=0.1, affine=True, track_running_stats=True)\n",
       "      (conv2): Conv2d(64, 64, kernel_size=(3, 3), stride=(1, 1), padding=(1, 1), bias=False)\n",
       "      (bn2): BatchNorm2d(64, eps=1e-05, momentum=0.1, affine=True, track_running_stats=True)\n",
       "      (conv3): Conv2d(64, 256, kernel_size=(1, 1), stride=(1, 1), bias=False)\n",
       "      (bn3): BatchNorm2d(256, eps=1e-05, momentum=0.1, affine=True, track_running_stats=True)\n",
       "      (shortcut): Sequential(\n",
       "        (0): Conv2d(64, 256, kernel_size=(1, 1), stride=(1, 1), bias=False)\n",
       "        (1): BatchNorm2d(256, eps=1e-05, momentum=0.1, affine=True, track_running_stats=True)\n",
       "      )\n",
       "    )\n",
       "    (1): Bottleneck(\n",
       "      (conv1): Conv2d(256, 64, kernel_size=(1, 1), stride=(1, 1), bias=False)\n",
       "      (bn1): BatchNorm2d(64, eps=1e-05, momentum=0.1, affine=True, track_running_stats=True)\n",
       "      (conv2): Conv2d(64, 64, kernel_size=(3, 3), stride=(1, 1), padding=(1, 1), bias=False)\n",
       "      (bn2): BatchNorm2d(64, eps=1e-05, momentum=0.1, affine=True, track_running_stats=True)\n",
       "      (conv3): Conv2d(64, 256, kernel_size=(1, 1), stride=(1, 1), bias=False)\n",
       "      (bn3): BatchNorm2d(256, eps=1e-05, momentum=0.1, affine=True, track_running_stats=True)\n",
       "      (shortcut): Sequential()\n",
       "    )\n",
       "    (2): Bottleneck(\n",
       "      (conv1): Conv2d(256, 64, kernel_size=(1, 1), stride=(1, 1), bias=False)\n",
       "      (bn1): BatchNorm2d(64, eps=1e-05, momentum=0.1, affine=True, track_running_stats=True)\n",
       "      (conv2): Conv2d(64, 64, kernel_size=(3, 3), stride=(1, 1), padding=(1, 1), bias=False)\n",
       "      (bn2): BatchNorm2d(64, eps=1e-05, momentum=0.1, affine=True, track_running_stats=True)\n",
       "      (conv3): Conv2d(64, 256, kernel_size=(1, 1), stride=(1, 1), bias=False)\n",
       "      (bn3): BatchNorm2d(256, eps=1e-05, momentum=0.1, affine=True, track_running_stats=True)\n",
       "      (shortcut): Sequential()\n",
       "    )\n",
       "  )\n",
       "  (layer2): Sequential(\n",
       "    (0): Bottleneck(\n",
       "      (conv1): Conv2d(256, 128, kernel_size=(1, 1), stride=(1, 1), bias=False)\n",
       "      (bn1): BatchNorm2d(128, eps=1e-05, momentum=0.1, affine=True, track_running_stats=True)\n",
       "      (conv2): Conv2d(128, 128, kernel_size=(3, 3), stride=(2, 2), padding=(1, 1), bias=False)\n",
       "      (bn2): BatchNorm2d(128, eps=1e-05, momentum=0.1, affine=True, track_running_stats=True)\n",
       "      (conv3): Conv2d(128, 512, kernel_size=(1, 1), stride=(1, 1), bias=False)\n",
       "      (bn3): BatchNorm2d(512, eps=1e-05, momentum=0.1, affine=True, track_running_stats=True)\n",
       "      (shortcut): Sequential(\n",
       "        (0): Conv2d(256, 512, kernel_size=(1, 1), stride=(2, 2), bias=False)\n",
       "        (1): BatchNorm2d(512, eps=1e-05, momentum=0.1, affine=True, track_running_stats=True)\n",
       "      )\n",
       "    )\n",
       "    (1): Bottleneck(\n",
       "      (conv1): Conv2d(512, 128, kernel_size=(1, 1), stride=(1, 1), bias=False)\n",
       "      (bn1): BatchNorm2d(128, eps=1e-05, momentum=0.1, affine=True, track_running_stats=True)\n",
       "      (conv2): Conv2d(128, 128, kernel_size=(3, 3), stride=(1, 1), padding=(1, 1), bias=False)\n",
       "      (bn2): BatchNorm2d(128, eps=1e-05, momentum=0.1, affine=True, track_running_stats=True)\n",
       "      (conv3): Conv2d(128, 512, kernel_size=(1, 1), stride=(1, 1), bias=False)\n",
       "      (bn3): BatchNorm2d(512, eps=1e-05, momentum=0.1, affine=True, track_running_stats=True)\n",
       "      (shortcut): Sequential()\n",
       "    )\n",
       "    (2): Bottleneck(\n",
       "      (conv1): Conv2d(512, 128, kernel_size=(1, 1), stride=(1, 1), bias=False)\n",
       "      (bn1): BatchNorm2d(128, eps=1e-05, momentum=0.1, affine=True, track_running_stats=True)\n",
       "      (conv2): Conv2d(128, 128, kernel_size=(3, 3), stride=(1, 1), padding=(1, 1), bias=False)\n",
       "      (bn2): BatchNorm2d(128, eps=1e-05, momentum=0.1, affine=True, track_running_stats=True)\n",
       "      (conv3): Conv2d(128, 512, kernel_size=(1, 1), stride=(1, 1), bias=False)\n",
       "      (bn3): BatchNorm2d(512, eps=1e-05, momentum=0.1, affine=True, track_running_stats=True)\n",
       "      (shortcut): Sequential()\n",
       "    )\n",
       "    (3): Bottleneck(\n",
       "      (conv1): Conv2d(512, 128, kernel_size=(1, 1), stride=(1, 1), bias=False)\n",
       "      (bn1): BatchNorm2d(128, eps=1e-05, momentum=0.1, affine=True, track_running_stats=True)\n",
       "      (conv2): Conv2d(128, 128, kernel_size=(3, 3), stride=(1, 1), padding=(1, 1), bias=False)\n",
       "      (bn2): BatchNorm2d(128, eps=1e-05, momentum=0.1, affine=True, track_running_stats=True)\n",
       "      (conv3): Conv2d(128, 512, kernel_size=(1, 1), stride=(1, 1), bias=False)\n",
       "      (bn3): BatchNorm2d(512, eps=1e-05, momentum=0.1, affine=True, track_running_stats=True)\n",
       "      (shortcut): Sequential()\n",
       "    )\n",
       "  )\n",
       "  (layer3): Sequential(\n",
       "    (0): Bottleneck(\n",
       "      (conv1): Conv2d(512, 256, kernel_size=(1, 1), stride=(1, 1), bias=False)\n",
       "      (bn1): BatchNorm2d(256, eps=1e-05, momentum=0.1, affine=True, track_running_stats=True)\n",
       "      (conv2): Conv2d(256, 256, kernel_size=(3, 3), stride=(2, 2), padding=(1, 1), bias=False)\n",
       "      (bn2): BatchNorm2d(256, eps=1e-05, momentum=0.1, affine=True, track_running_stats=True)\n",
       "      (conv3): Conv2d(256, 1024, kernel_size=(1, 1), stride=(1, 1), bias=False)\n",
       "      (bn3): BatchNorm2d(1024, eps=1e-05, momentum=0.1, affine=True, track_running_stats=True)\n",
       "      (shortcut): Sequential(\n",
       "        (0): Conv2d(512, 1024, kernel_size=(1, 1), stride=(2, 2), bias=False)\n",
       "        (1): BatchNorm2d(1024, eps=1e-05, momentum=0.1, affine=True, track_running_stats=True)\n",
       "      )\n",
       "    )\n",
       "    (1): Bottleneck(\n",
       "      (conv1): Conv2d(1024, 256, kernel_size=(1, 1), stride=(1, 1), bias=False)\n",
       "      (bn1): BatchNorm2d(256, eps=1e-05, momentum=0.1, affine=True, track_running_stats=True)\n",
       "      (conv2): Conv2d(256, 256, kernel_size=(3, 3), stride=(1, 1), padding=(1, 1), bias=False)\n",
       "      (bn2): BatchNorm2d(256, eps=1e-05, momentum=0.1, affine=True, track_running_stats=True)\n",
       "      (conv3): Conv2d(256, 1024, kernel_size=(1, 1), stride=(1, 1), bias=False)\n",
       "      (bn3): BatchNorm2d(1024, eps=1e-05, momentum=0.1, affine=True, track_running_stats=True)\n",
       "      (shortcut): Sequential()\n",
       "    )\n",
       "    (2): Bottleneck(\n",
       "      (conv1): Conv2d(1024, 256, kernel_size=(1, 1), stride=(1, 1), bias=False)\n",
       "      (bn1): BatchNorm2d(256, eps=1e-05, momentum=0.1, affine=True, track_running_stats=True)\n",
       "      (conv2): Conv2d(256, 256, kernel_size=(3, 3), stride=(1, 1), padding=(1, 1), bias=False)\n",
       "      (bn2): BatchNorm2d(256, eps=1e-05, momentum=0.1, affine=True, track_running_stats=True)\n",
       "      (conv3): Conv2d(256, 1024, kernel_size=(1, 1), stride=(1, 1), bias=False)\n",
       "      (bn3): BatchNorm2d(1024, eps=1e-05, momentum=0.1, affine=True, track_running_stats=True)\n",
       "      (shortcut): Sequential()\n",
       "    )\n",
       "    (3): Bottleneck(\n",
       "      (conv1): Conv2d(1024, 256, kernel_size=(1, 1), stride=(1, 1), bias=False)\n",
       "      (bn1): BatchNorm2d(256, eps=1e-05, momentum=0.1, affine=True, track_running_stats=True)\n",
       "      (conv2): Conv2d(256, 256, kernel_size=(3, 3), stride=(1, 1), padding=(1, 1), bias=False)\n",
       "      (bn2): BatchNorm2d(256, eps=1e-05, momentum=0.1, affine=True, track_running_stats=True)\n",
       "      (conv3): Conv2d(256, 1024, kernel_size=(1, 1), stride=(1, 1), bias=False)\n",
       "      (bn3): BatchNorm2d(1024, eps=1e-05, momentum=0.1, affine=True, track_running_stats=True)\n",
       "      (shortcut): Sequential()\n",
       "    )\n",
       "    (4): Bottleneck(\n",
       "      (conv1): Conv2d(1024, 256, kernel_size=(1, 1), stride=(1, 1), bias=False)\n",
       "      (bn1): BatchNorm2d(256, eps=1e-05, momentum=0.1, affine=True, track_running_stats=True)\n",
       "      (conv2): Conv2d(256, 256, kernel_size=(3, 3), stride=(1, 1), padding=(1, 1), bias=False)\n",
       "      (bn2): BatchNorm2d(256, eps=1e-05, momentum=0.1, affine=True, track_running_stats=True)\n",
       "      (conv3): Conv2d(256, 1024, kernel_size=(1, 1), stride=(1, 1), bias=False)\n",
       "      (bn3): BatchNorm2d(1024, eps=1e-05, momentum=0.1, affine=True, track_running_stats=True)\n",
       "      (shortcut): Sequential()\n",
       "    )\n",
       "    (5): Bottleneck(\n",
       "      (conv1): Conv2d(1024, 256, kernel_size=(1, 1), stride=(1, 1), bias=False)\n",
       "      (bn1): BatchNorm2d(256, eps=1e-05, momentum=0.1, affine=True, track_running_stats=True)\n",
       "      (conv2): Conv2d(256, 256, kernel_size=(3, 3), stride=(1, 1), padding=(1, 1), bias=False)\n",
       "      (bn2): BatchNorm2d(256, eps=1e-05, momentum=0.1, affine=True, track_running_stats=True)\n",
       "      (conv3): Conv2d(256, 1024, kernel_size=(1, 1), stride=(1, 1), bias=False)\n",
       "      (bn3): BatchNorm2d(1024, eps=1e-05, momentum=0.1, affine=True, track_running_stats=True)\n",
       "      (shortcut): Sequential()\n",
       "    )\n",
       "  )\n",
       "  (layer4): Sequential(\n",
       "    (0): Bottleneck(\n",
       "      (conv1): Conv2d(1024, 512, kernel_size=(1, 1), stride=(1, 1), bias=False)\n",
       "      (bn1): BatchNorm2d(512, eps=1e-05, momentum=0.1, affine=True, track_running_stats=True)\n",
       "      (conv2): Conv2d(512, 512, kernel_size=(3, 3), stride=(2, 2), padding=(1, 1), bias=False)\n",
       "      (bn2): BatchNorm2d(512, eps=1e-05, momentum=0.1, affine=True, track_running_stats=True)\n",
       "      (conv3): Conv2d(512, 2048, kernel_size=(1, 1), stride=(1, 1), bias=False)\n",
       "      (bn3): BatchNorm2d(2048, eps=1e-05, momentum=0.1, affine=True, track_running_stats=True)\n",
       "      (shortcut): Sequential(\n",
       "        (0): Conv2d(1024, 2048, kernel_size=(1, 1), stride=(2, 2), bias=False)\n",
       "        (1): BatchNorm2d(2048, eps=1e-05, momentum=0.1, affine=True, track_running_stats=True)\n",
       "      )\n",
       "    )\n",
       "    (1): Bottleneck(\n",
       "      (conv1): Conv2d(2048, 512, kernel_size=(1, 1), stride=(1, 1), bias=False)\n",
       "      (bn1): BatchNorm2d(512, eps=1e-05, momentum=0.1, affine=True, track_running_stats=True)\n",
       "      (conv2): Conv2d(512, 512, kernel_size=(3, 3), stride=(1, 1), padding=(1, 1), bias=False)\n",
       "      (bn2): BatchNorm2d(512, eps=1e-05, momentum=0.1, affine=True, track_running_stats=True)\n",
       "      (conv3): Conv2d(512, 2048, kernel_size=(1, 1), stride=(1, 1), bias=False)\n",
       "      (bn3): BatchNorm2d(2048, eps=1e-05, momentum=0.1, affine=True, track_running_stats=True)\n",
       "      (shortcut): Sequential()\n",
       "    )\n",
       "    (2): Bottleneck(\n",
       "      (conv1): Conv2d(2048, 512, kernel_size=(1, 1), stride=(1, 1), bias=False)\n",
       "      (bn1): BatchNorm2d(512, eps=1e-05, momentum=0.1, affine=True, track_running_stats=True)\n",
       "      (conv2): Conv2d(512, 512, kernel_size=(3, 3), stride=(1, 1), padding=(1, 1), bias=False)\n",
       "      (bn2): BatchNorm2d(512, eps=1e-05, momentum=0.1, affine=True, track_running_stats=True)\n",
       "      (conv3): Conv2d(512, 2048, kernel_size=(1, 1), stride=(1, 1), bias=False)\n",
       "      (bn3): BatchNorm2d(2048, eps=1e-05, momentum=0.1, affine=True, track_running_stats=True)\n",
       "      (shortcut): Sequential()\n",
       "    )\n",
       "  )\n",
       "  (linear): Linear(in_features=2048, out_features=10, bias=True)\n",
       ")"
      ]
     },
     "execution_count": 144,
     "metadata": {},
     "output_type": "execute_result"
    }
   ],
   "source": [
    "#load cifar model\n",
    "from util.model_utils2 import resnet50\n",
    "\n",
    "def load_model(path):\n",
    "    model = resnet50()\n",
    "    ckpt_dict = torch.load(path, lambda storage, loc: storage)\n",
    "    model.load_state_dict(ckpt_dict)\n",
    "    model.to('cuda')\n",
    "    model.train(False)\n",
    "    return model\n",
    "\n",
    "modelpath = \"/data/virtual environments/adv detection by robustness/adv_detection/Adaptive attacks/Models/CIFAR10/resnet50/cifar.ckpt\"\n",
    "model = load_model(modelpath)\n",
    "model.to(device)\n",
    "model.eval()"
   ]
  },
  {
   "cell_type": "code",
   "execution_count": 145,
   "id": "574690d6",
   "metadata": {},
   "outputs": [
    {
     "data": {
      "image/png": "[encoded data removed]",
      "text/plain": [
       "<Figure size 500x500 with 4 Axes>"
      ]
     },
     "metadata": {},
     "output_type": "display_data"
    }
   ],
   "source": [
    "# Define the class names for CIFAR\n",
    "class_names = ['airplane', 'automobile', 'bird', 'cat', 'deer', 'dog', 'frog', 'horse', 'ship', 'truck']\n",
    "\n",
    "# Plot the images\n",
    "fig, axes = plt.subplots(nrows=2, ncols=2, figsize=(5, 5))\n",
    "\n",
    "for i, ax in enumerate(axes.flatten()):\n",
    "    # Access the image and label at the current index\n",
    "    image = np.transpose(ben_image[i], (1, 2, 0))  # Transpose to (height, width, channels)\n",
    "    label = ben_label[i]\n",
    "\n",
    "    # Plot the image\n",
    "    ax.imshow(image)\n",
    "    ax.set_title(class_names[label])\n",
    "    ax.axis('off')\n",
    "\n",
    "plt.tight_layout()\n",
    "plt.show()"
   ]
  },
  {
   "cell_type": "code",
   "execution_count": 146,
   "id": "598b935d",
   "metadata": {},
   "outputs": [
    {
     "data": {
      "image/png": "[encoded data removed]",
      "text/plain": [
       "<Figure size 500x500 with 4 Axes>"
      ]
     },
     "metadata": {},
     "output_type": "display_data"
    }
   ],
   "source": [
    "# Define the class names for CIFAR\n",
    "class_names = ['airplane', 'automobile', 'bird', 'cat', 'deer', 'dog', 'frog', 'horse', 'ship', 'truck']\n",
    "\n",
    "# Plot the images\n",
    "fig, axes = plt.subplots(nrows=2, ncols=2, figsize=(5, 5))\n",
    "\n",
    "for i, ax in enumerate(axes.flatten()):\n",
    "    # Access the image and label at the current index\n",
    "    image = np.transpose(adaptive_image[i], (1, 2, 0))  # Transpose to (height, width, channels)\n",
    "    label = adaptive_label[i]\n",
    "\n",
    "    # Plot the image\n",
    "    ax.imshow(image)\n",
    "    ax.set_title(class_names[label])\n",
    "    ax.axis('off')\n",
    "\n",
    "plt.tight_layout()\n",
    "plt.show()"
   ]
  },
  {
   "cell_type": "code",
   "execution_count": 112,
   "id": "e72d3434",
   "metadata": {},
   "outputs": [],
   "source": [
    "#compute benign attribution \n",
    "images, labels = torch.from_numpy(ben_image), torch.from_numpy(ben_label)\n",
    "images, labels = images[0:5], labels[0:5]\n",
    "images, labels = images.to(device), labels.to(device)\n",
    "intgrad1 = quantus.normalise_func.normalise_by_negative(IntegratedGradients(model).attribute(inputs=images, target=labels, baselines=torch.zeros_like(images)).sum(axis=1).cpu().numpy())"
   ]
  },
  {
   "cell_type": "code",
   "execution_count": 113,
   "id": "1b8cd63d",
   "metadata": {},
   "outputs": [],
   "source": [
    "# #compute pgd attribution \n",
    "# images, labels = torch.from_numpy(pgd_image), torch.from_numpy(pgd_label)\n",
    "# images, labels = images[0:5], labels[0:5]\n",
    "# images, labels = images.to(device), labels.to(device)\n",
    "# intgrad2 = quantus.normalise_func.normalise_by_negative(IntegratedGradients(model).attribute(inputs=images, target=labels, baselines=torch.zeros_like(images)).sum(axis=1).cpu().numpy())"
   ]
  },
  {
   "cell_type": "code",
   "execution_count": 11,
   "id": "9eb4579e",
   "metadata": {},
   "outputs": [],
   "source": [
    "#compute adaptive attack images attribution \n",
    "images, labels = torch.from_numpy(adaptive_image), torch.from_numpy(adaptive_label)\n",
    "images, labels = images[0:5], labels[0:5]\n",
    "images, labels = images.to(device), labels.to(device)\n",
    "intgrad3 = quantus.normalise_func.normalise_by_negative(IntegratedGradients(model).attribute(inputs=images, target=labels, baselines=torch.zeros_like(images)).sum(axis=1).cpu().numpy())"
   ]
  },
  {
   "cell_type": "code",
   "execution_count": 12,
   "id": "723c13cd",
   "metadata": {},
   "outputs": [
    {
     "data": {
      "image/png": "[encoded data removed]",
      "text/plain": [
       "<Figure size 1200x800 with 10 Axes>"
      ]
     },
     "metadata": {},
     "output_type": "display_data"
    }
   ],
   "source": [
    "import matplotlib.pyplot as plt\n",
    "import numpy as np\n",
    "\n",
    "# Assuming you have intgrad1, intgrad2, and intgrad3 batches of shape (15, height, width, channels)\n",
    "#intgrad1 = np.random.randn(15, height, width, channels)\n",
    "#intgrad2 = np.random.randn(15, height, width, channels)\n",
    "#intgrad3 = np.random.randn(15, height, width, channels)\n",
    "\n",
    "fig, axes = plt.subplots(2, 5, figsize=(12, 8))\n",
    "\n",
    "for i, ax in enumerate(axes[0]):\n",
    "    image1 = np.moveaxis((intgrad1[i]), 0, -1)\n",
    "    ax.imshow(image1, cmap=\"seismic\")\n",
    "    ax.axis('off')\n",
    "\n",
    "# for i, ax in enumerate(axes[1]):\n",
    "#     image2 = np.moveaxis((intgrad2[i]), 0, -1)\n",
    "#     ax.imshow(image2, cmap=\"seismic\")\n",
    "#     ax.axis('off')\n",
    "\n",
    "for i, ax in enumerate(axes[1]):\n",
    "    image3 = np.moveaxis((intgrad3[i]), 0, -1)\n",
    "    ax.imshow(image3, cmap=\"seismic\")\n",
    "    ax.axis('off')\n",
    "\n",
    "plt.tight_layout()\n",
    "plt.show()\n"
   ]
  },
  {
   "cell_type": "markdown",
   "id": "fe5a92a6",
   "metadata": {},
   "source": [
    "# Distortion measure"
   ]
  },
  {
   "cell_type": "code",
   "execution_count": 147,
   "id": "6b611696",
   "metadata": {},
   "outputs": [],
   "source": [
    "def calculate_distortion(image1, image2):\n",
    "    \n",
    "    img1 = image1.flatten().astype(float)\n",
    "    img2 = image2.flatten().astype(float)\n",
    "    \n",
    "    score = np.linalg.norm(img1-img2)\n",
    "    \n",
    "    return score"
   ]
  },
  {
   "cell_type": "code",
   "execution_count": 148,
   "id": "929be8bf",
   "metadata": {
    "scrolled": true
   },
   "outputs": [
    {
     "name": "stdout",
     "output_type": "stream",
     "text": [
      "1.407574023954466\n"
     ]
    }
   ],
   "source": [
    "pgd_=[]\n",
    "adap =[]\n",
    "for i in range(0, 20):\n",
    "    img1 = adaptive_image[i]\n",
    "    #img2 = pgd_image[i]\n",
    "    img3 = ben_image[i]\n",
    "\n",
    "    adap.append(calculate_distortion(img1, img3))\n",
    "    #pgd_.append(calculate_distortion(img2, img3))\n",
    "    \n",
    "#print(np.average(pgd_))\n",
    "print(np.average(adap))"
   ]
  },
  {
   "cell_type": "markdown",
   "id": "054e0f71",
   "metadata": {},
   "source": [
    "# Detection rate"
   ]
  },
  {
   "cell_type": "markdown",
   "id": "31d85f6e",
   "metadata": {},
   "source": [
    "Compute the attribution sensitivition, prediction sensitivity and input squeeze sensitivity and then report AUC based on our previous learned threshold!"
   ]
  },
  {
   "cell_type": "code",
   "execution_count": 149,
   "id": "523c8d4f",
   "metadata": {},
   "outputs": [],
   "source": [
    "import pandas as pd"
   ]
  },
  {
   "cell_type": "code",
   "execution_count": 150,
   "id": "e5baac5b",
   "metadata": {},
   "outputs": [],
   "source": [
    "def make_noise(x_batch, y_batch, spread):\n",
    "    new_x_batch = []\n",
    "    for x in x_batch:\n",
    "        x = x.data.cpu().numpy()\n",
    "        stdev = spread * (np.max(x)-np.min(x))\n",
    "        noise = np.random.normal(0, stdev, x.shape).astype(np.float32)\n",
    "        x_plus_noise = x + noise\n",
    "        x_plus_noise = np.clip(x_plus_noise, 0, 1)\n",
    "        x_plus_noise = torch.from_numpy(x_plus_noise).cpu()\n",
    "        new_x_batch.append(x_plus_noise)\n",
    "    new_batch = torch.stack(new_x_batch).to(device)\n",
    "    return new_batch"
   ]
  },
  {
   "cell_type": "code",
   "execution_count": 151,
   "id": "046dd4ef",
   "metadata": {},
   "outputs": [],
   "source": [
    "normal_model = model \n"
   ]
  },
  {
   "cell_type": "code",
   "execution_count": 152,
   "id": "4ad38dc0",
   "metadata": {},
   "outputs": [],
   "source": [
    "def compute_metrics(adaptive_image, adaptive_label, normal_model): \n",
    "    \n",
    "    print(\"Computing metrics for {} for PGD\")\n",
    "    \n",
    "    #attribution robustness\n",
    "    attribution_gaussian1 = []\n",
    "    attribution_gaussian2 = []\n",
    "    attribution_gaussian3 = []\n",
    "    \n",
    "    #logit robustness\n",
    "    logit_gaussian1 = []\n",
    "    logit_gaussian2 = []\n",
    "    logit_gaussian3 = []\n",
    "    \n",
    "    images, labels = torch.from_numpy(adaptive_image), torch.from_numpy(adaptive_label)\n",
    "    #images, labels = images.to(device), labels.to(device)\n",
    "    \n",
    "    end = len(adaptive_label)\n",
    "    \n",
    "    for i in range(0, end, 2):\n",
    "        \n",
    "        images_adv, y_pred_adv = images[i:i+2], labels[i:i+2]\n",
    "        images_adv, y_pred_adv = images_adv.to(device), y_pred_adv.to(device)\n",
    "        \n",
    "        x_logits = normal_model(images_adv)\n",
    "        gc.collect()\n",
    "        torch.cuda.empty_cache()\n",
    "        \n",
    "        #approach: attribution and logit robustness\n",
    "        a_batch = quantus.explain(\n",
    "            model=normal_model, inputs=images_adv, targets=y_pred_adv, **{\"method:\": \"IntegratedGradient\", \"device\": device})\n",
    "        \n",
    "        gaussian_noisy_images_1 = make_noise(images_adv, y_pred_adv, spread = 0.05)\n",
    "        gaussian_logits_1 = normal_model(gaussian_noisy_images_1)\n",
    "        gaussian_noisy_images_2 = make_noise(images_adv, y_pred_adv, spread = 0.10)\n",
    "        gaussian_logits_2 = normal_model(gaussian_noisy_images_2)\n",
    "        gaussian_noisy_images_3 = make_noise(images_adv, y_pred_adv, spread = 0.15)\n",
    "        gaussian_logits_3 = normal_model(gaussian_noisy_images_3)\n",
    "        \n",
    "        diff1 = torch.norm(x_logits-gaussian_logits_1,p=1, dim=1) \n",
    "        diff2 = torch.norm(x_logits-gaussian_logits_2,p=1, dim=1) \n",
    "        diff3 = torch.norm(x_logits-gaussian_logits_3,p=1, dim=1) \n",
    "        \n",
    "        logit_gaussian1.extend(diff1.detach().cpu().numpy())\n",
    "        logit_gaussian2.extend(diff2.detach().cpu().numpy())\n",
    "        logit_gaussian3.extend(diff3.detach().cpu().numpy())\n",
    "        \n",
    "        \n",
    "        a_batch_gaussian1 = quantus.explain(\n",
    "        model=normal_model, inputs=gaussian_noisy_images_1, targets=y_pred_adv, **{\"method:\": \"IntegratedGradient\", \"device\": device})\n",
    "        \n",
    "        a_batch_gaussian2 = quantus.explain(\n",
    "        model=normal_model, inputs=gaussian_noisy_images_2, targets=y_pred_adv, **{\"method:\": \"IntegratedGradient\", \"device\": device})\n",
    "        \n",
    "        a_batch_gaussian3 = quantus.explain(\n",
    "        model=normal_model, inputs=gaussian_noisy_images_3, targets=y_pred_adv, **{\"method:\": \"IntegratedGradient\", \"device\": device})\n",
    "        \n",
    "        for a, b in zip(a_batch, a_batch_gaussian1):\n",
    "            c = np.linalg.norm(a.flatten()-b.flatten(),ord=1 )\n",
    "            attribution_gaussian1.append(c)\n",
    "            \n",
    "        for a, b in zip(a_batch, a_batch_gaussian2):\n",
    "            c = np.linalg.norm(a.flatten()-b.flatten(),ord=1 )\n",
    "            attribution_gaussian2.append(c)\n",
    "        \n",
    "        for a, b in zip(a_batch, a_batch_gaussian3):\n",
    "            c = np.linalg.norm(a.flatten()-b.flatten(),ord=1 )\n",
    "            attribution_gaussian3.append(c)\n",
    "        \n",
    "        \n",
    "    df = pd.DataFrame([\n",
    "            \n",
    "            attribution_gaussian1,\n",
    "            attribution_gaussian2,\n",
    "            attribution_gaussian3,\n",
    "            logit_gaussian1,\n",
    "            logit_gaussian2,\n",
    "            logit_gaussian3], index = [\n",
    "            \"Gaussian1 attribution\", \n",
    "            \"Gaussian2 attribution\", \n",
    "            \"Gaussian3 attribution\", \n",
    "            \"Gaussian1 logit robusntess\",\n",
    "            \"Gaussian2 logit robusntess\",\n",
    "            \"Gaussian3 logit robusntess\",\n",
    "                    ])\n",
    "            \n",
    "    path = \"adaptive_CIFAR_PGD_logitmatch.csv\"\n",
    "    df.to_csv(path)"
   ]
  },
  {
   "cell_type": "code",
   "execution_count": 153,
   "id": "4891e7a2",
   "metadata": {},
   "outputs": [
    {
     "name": "stdout",
     "output_type": "stream",
     "text": [
      "Computing metrics for {} for PGD\n"
     ]
    },
    {
     "name": "stderr",
     "output_type": "stream",
     "text": [
      "/data/virtual environments/adv detection by robustness/adv_detection/lib/python3.8/site-packages/quantus/functions/explanation_func.py:85: UserWarning: Using quantus 'explain' function as an explainer without specifying 'method' (string) in kwargs will produce a vanilla 'Gradient' explanation.\n",
      "\n",
      "  warnings.warn(\n",
      "/data/virtual environments/adv detection by robustness/adv_detection/lib/python3.8/site-packages/captum/_utils/gradient.py:57: UserWarning: Input Tensor 0 did not already require gradients, required_grads has been set automatically.\n",
      "  warnings.warn(\n"
     ]
    }
   ],
   "source": [
    "compute_metrics(ben_image, ben_label, normal_model)"
   ]
  },
  {
   "cell_type": "code",
   "execution_count": 154,
   "id": "8d645fef",
   "metadata": {},
   "outputs": [
    {
     "name": "stdout",
     "output_type": "stream",
     "text": [
      "Computing metrics for {} for PGD\n"
     ]
    }
   ],
   "source": [
    "compute_metrics(adaptive_image, adaptive_label, normal_model)"
   ]
  },
  {
   "cell_type": "code",
   "execution_count": 155,
   "id": "329ea4b8",
   "metadata": {},
   "outputs": [],
   "source": [
    "def compute_TPR(adv1, a, b, adv2, c, d): \n",
    "    TN=0\n",
    "    FN=0\n",
    "    FP = 0 \n",
    "    TP=0\n",
    "    \n",
    "    for value1, value2 in zip(adv1, adv2): \n",
    "        if value1<a or value1>b:\n",
    "            TP += 1\n",
    "        else:\n",
    "            if value2<c or value2>d:\n",
    "                TP+=1\n",
    "            else: \n",
    "                FN+=1\n",
    "    \n",
    "    return (TP/(TP+FN))*100"
   ]
  },
  {
   "cell_type": "code",
   "execution_count": 156,
   "id": "cff856b5",
   "metadata": {},
   "outputs": [],
   "source": [
    "def compute_FPR(ap2a, k, l, ap2b, m, n): \n",
    "    TN=0\n",
    "    FN=0\n",
    "    FP=0 \n",
    "    TP=0\n",
    "    \n",
    "    for value6, value7 in zip(ap2a,ap2b):\n",
    "        if value6<k or value6>l:\n",
    "            FP +=1\n",
    "        else:\n",
    "            if value7<m or value7>n:\n",
    "                FP +=1\n",
    "\n",
    "    return (FP/(len(ap2a)))*100"
   ]
  },
  {
   "cell_type": "code",
   "execution_count": 157,
   "id": "1ba75fa0",
   "metadata": {},
   "outputs": [],
   "source": [
    "import sklearn\n",
    "from sklearn.metrics import roc_auc_score"
   ]
  },
  {
   "cell_type": "code",
   "execution_count": 158,
   "id": "5e95af1d",
   "metadata": {},
   "outputs": [],
   "source": [
    "df_cifar = pd.read_csv(\"adaptive_CIFAR_Benign_logitmatch.csv\")"
   ]
  },
  {
   "cell_type": "code",
   "execution_count": 159,
   "id": "47a60606",
   "metadata": {},
   "outputs": [
    {
     "data": {
      "text/html": [
       "<div>\n",
       "<style scoped>\n",
       "    .dataframe tbody tr th:only-of-type {\n",
       "        vertical-align: middle;\n",
       "    }\n",
       "\n",
       "    .dataframe tbody tr th {\n",
       "        vertical-align: top;\n",
       "    }\n",
       "\n",
       "    .dataframe thead th {\n",
       "        text-align: right;\n",
       "    }\n",
       "</style>\n",
       "<table border=\"1\" class=\"dataframe\">\n",
       "  <thead>\n",
       "    <tr style=\"text-align: right;\">\n",
       "      <th></th>\n",
       "      <th>Unnamed: 0</th>\n",
       "      <th>0</th>\n",
       "      <th>1</th>\n",
       "      <th>2</th>\n",
       "      <th>3</th>\n",
       "      <th>4</th>\n",
       "      <th>5</th>\n",
       "      <th>6</th>\n",
       "      <th>7</th>\n",
       "      <th>8</th>\n",
       "      <th>...</th>\n",
       "      <th>398</th>\n",
       "      <th>399</th>\n",
       "      <th>400</th>\n",
       "      <th>401</th>\n",
       "      <th>402</th>\n",
       "      <th>403</th>\n",
       "      <th>404</th>\n",
       "      <th>405</th>\n",
       "      <th>406</th>\n",
       "      <th>407</th>\n",
       "    </tr>\n",
       "  </thead>\n",
       "  <tbody>\n",
       "    <tr>\n",
       "      <th>0</th>\n",
       "      <td>Gaussian1 attribution</td>\n",
       "      <td>8952.22700</td>\n",
       "      <td>4302.40230</td>\n",
       "      <td>3923.23140</td>\n",
       "      <td>6729.31450</td>\n",
       "      <td>3928.55520</td>\n",
       "      <td>3778.52640</td>\n",
       "      <td>3332.64360</td>\n",
       "      <td>5795.51600</td>\n",
       "      <td>5028.33600</td>\n",
       "      <td>...</td>\n",
       "      <td>5343.84700</td>\n",
       "      <td>5482.35800</td>\n",
       "      <td>4222.57500</td>\n",
       "      <td>4618.19630</td>\n",
       "      <td>4113.13960</td>\n",
       "      <td>8130.14400</td>\n",
       "      <td>6492.2710</td>\n",
       "      <td>5203.29100</td>\n",
       "      <td>6855.52000</td>\n",
       "      <td>5280.38500</td>\n",
       "    </tr>\n",
       "    <tr>\n",
       "      <th>1</th>\n",
       "      <td>Gaussian2 attribution</td>\n",
       "      <td>5745.27730</td>\n",
       "      <td>3801.51540</td>\n",
       "      <td>3185.94210</td>\n",
       "      <td>5254.45850</td>\n",
       "      <td>3282.68460</td>\n",
       "      <td>3789.97600</td>\n",
       "      <td>3160.17200</td>\n",
       "      <td>5441.17100</td>\n",
       "      <td>3671.48580</td>\n",
       "      <td>...</td>\n",
       "      <td>3976.20460</td>\n",
       "      <td>5055.44500</td>\n",
       "      <td>3892.85180</td>\n",
       "      <td>3988.75150</td>\n",
       "      <td>3557.31980</td>\n",
       "      <td>6827.19140</td>\n",
       "      <td>3841.3425</td>\n",
       "      <td>4666.97360</td>\n",
       "      <td>6344.78700</td>\n",
       "      <td>4995.81000</td>\n",
       "    </tr>\n",
       "    <tr>\n",
       "      <th>2</th>\n",
       "      <td>Gaussian3 attribution</td>\n",
       "      <td>5389.51000</td>\n",
       "      <td>3635.74120</td>\n",
       "      <td>3141.91100</td>\n",
       "      <td>4856.64940</td>\n",
       "      <td>3273.00340</td>\n",
       "      <td>3632.67820</td>\n",
       "      <td>3034.55270</td>\n",
       "      <td>5383.10000</td>\n",
       "      <td>3453.77150</td>\n",
       "      <td>...</td>\n",
       "      <td>3553.26150</td>\n",
       "      <td>4490.82130</td>\n",
       "      <td>3451.04900</td>\n",
       "      <td>3817.32350</td>\n",
       "      <td>3366.33420</td>\n",
       "      <td>6526.36000</td>\n",
       "      <td>3377.2450</td>\n",
       "      <td>4781.80860</td>\n",
       "      <td>6257.47660</td>\n",
       "      <td>4863.22400</td>\n",
       "    </tr>\n",
       "    <tr>\n",
       "      <th>3</th>\n",
       "      <td>Gaussian1 logit robusntess</td>\n",
       "      <td>256.77410</td>\n",
       "      <td>212.07968</td>\n",
       "      <td>164.47638</td>\n",
       "      <td>159.95572</td>\n",
       "      <td>195.04904</td>\n",
       "      <td>180.52094</td>\n",
       "      <td>198.08466</td>\n",
       "      <td>222.77344</td>\n",
       "      <td>189.85878</td>\n",
       "      <td>...</td>\n",
       "      <td>153.92989</td>\n",
       "      <td>238.46762</td>\n",
       "      <td>126.69058</td>\n",
       "      <td>160.06280</td>\n",
       "      <td>171.93011</td>\n",
       "      <td>223.28558</td>\n",
       "      <td>782.0584</td>\n",
       "      <td>161.86813</td>\n",
       "      <td>175.41122</td>\n",
       "      <td>153.34381</td>\n",
       "    </tr>\n",
       "    <tr>\n",
       "      <th>4</th>\n",
       "      <td>Gaussian2 logit robusntess</td>\n",
       "      <td>314.88165</td>\n",
       "      <td>267.83264</td>\n",
       "      <td>228.51747</td>\n",
       "      <td>268.35114</td>\n",
       "      <td>253.92581</td>\n",
       "      <td>288.03802</td>\n",
       "      <td>309.94458</td>\n",
       "      <td>236.07343</td>\n",
       "      <td>265.45880</td>\n",
       "      <td>...</td>\n",
       "      <td>249.48961</td>\n",
       "      <td>279.63712</td>\n",
       "      <td>279.29373</td>\n",
       "      <td>238.43360</td>\n",
       "      <td>231.87746</td>\n",
       "      <td>301.01306</td>\n",
       "      <td>831.9783</td>\n",
       "      <td>252.01482</td>\n",
       "      <td>224.03076</td>\n",
       "      <td>251.19878</td>\n",
       "    </tr>\n",
       "    <tr>\n",
       "      <th>5</th>\n",
       "      <td>Gaussian3 logit robusntess</td>\n",
       "      <td>326.67233</td>\n",
       "      <td>282.62408</td>\n",
       "      <td>271.73755</td>\n",
       "      <td>247.00974</td>\n",
       "      <td>248.64177</td>\n",
       "      <td>293.79480</td>\n",
       "      <td>331.08590</td>\n",
       "      <td>253.72230</td>\n",
       "      <td>267.68274</td>\n",
       "      <td>...</td>\n",
       "      <td>254.68169</td>\n",
       "      <td>292.27080</td>\n",
       "      <td>310.75037</td>\n",
       "      <td>254.98853</td>\n",
       "      <td>283.67880</td>\n",
       "      <td>281.69910</td>\n",
       "      <td>845.6012</td>\n",
       "      <td>216.10309</td>\n",
       "      <td>241.82935</td>\n",
       "      <td>257.68150</td>\n",
       "    </tr>\n",
       "  </tbody>\n",
       "</table>\n",
       "<p>6 rows × 409 columns</p>\n",
       "</div>"
      ],
      "text/plain": [
       "                   Unnamed: 0           0           1           2           3   \n",
       "0       Gaussian1 attribution  8952.22700  4302.40230  3923.23140  6729.31450  \\\n",
       "1       Gaussian2 attribution  5745.27730  3801.51540  3185.94210  5254.45850   \n",
       "2       Gaussian3 attribution  5389.51000  3635.74120  3141.91100  4856.64940   \n",
       "3  Gaussian1 logit robusntess   256.77410   212.07968   164.47638   159.95572   \n",
       "4  Gaussian2 logit robusntess   314.88165   267.83264   228.51747   268.35114   \n",
       "5  Gaussian3 logit robusntess   326.67233   282.62408   271.73755   247.00974   \n",
       "\n",
       "            4           5           6           7           8  ...   \n",
       "0  3928.55520  3778.52640  3332.64360  5795.51600  5028.33600  ...  \\\n",
       "1  3282.68460  3789.97600  3160.17200  5441.17100  3671.48580  ...   \n",
       "2  3273.00340  3632.67820  3034.55270  5383.10000  3453.77150  ...   \n",
       "3   195.04904   180.52094   198.08466   222.77344   189.85878  ...   \n",
       "4   253.92581   288.03802   309.94458   236.07343   265.45880  ...   \n",
       "5   248.64177   293.79480   331.08590   253.72230   267.68274  ...   \n",
       "\n",
       "          398         399         400         401         402         403   \n",
       "0  5343.84700  5482.35800  4222.57500  4618.19630  4113.13960  8130.14400  \\\n",
       "1  3976.20460  5055.44500  3892.85180  3988.75150  3557.31980  6827.19140   \n",
       "2  3553.26150  4490.82130  3451.04900  3817.32350  3366.33420  6526.36000   \n",
       "3   153.92989   238.46762   126.69058   160.06280   171.93011   223.28558   \n",
       "4   249.48961   279.63712   279.29373   238.43360   231.87746   301.01306   \n",
       "5   254.68169   292.27080   310.75037   254.98853   283.67880   281.69910   \n",
       "\n",
       "         404         405         406         407  \n",
       "0  6492.2710  5203.29100  6855.52000  5280.38500  \n",
       "1  3841.3425  4666.97360  6344.78700  4995.81000  \n",
       "2  3377.2450  4781.80860  6257.47660  4863.22400  \n",
       "3   782.0584   161.86813   175.41122   153.34381  \n",
       "4   831.9783   252.01482   224.03076   251.19878  \n",
       "5   845.6012   216.10309   241.82935   257.68150  \n",
       "\n",
       "[6 rows x 409 columns]"
      ]
     },
     "execution_count": 159,
     "metadata": {},
     "output_type": "execute_result"
    }
   ],
   "source": [
    "df_cifar"
   ]
  },
  {
   "cell_type": "code",
   "execution_count": 160,
   "id": "7487fffa",
   "metadata": {},
   "outputs": [],
   "source": [
    "attr_gaussian3 = df_cifar.iloc[2].values.flatten().tolist()[1:]\n",
    "logit_gaussian3 = df_cifar.iloc[5].values.flatten().tolist()[1:]"
   ]
  },
  {
   "cell_type": "code",
   "execution_count": 161,
   "id": "c8cf1091",
   "metadata": {},
   "outputs": [
    {
     "name": "stdout",
     "output_type": "stream",
     "text": [
      "[0.02941176470588235, 0.0857843137254902, 0.16176470588235292, 0.3112745098039216, 0.49754901960784315, 0.696078431372549, 0.8602941176470589, 0.9387254901960784, 0.9730392156862745, 1.0]\n"
     ]
    }
   ],
   "source": [
    "#logitgaussian3\n",
    "k=[44,64,76, 86, 96, 106, 126, 150, 200, 400]\n",
    "l=[405,405,405,405,405,405,405,405,405,405, 405]\n",
    "\n",
    "#attrgaussian3\n",
    "m=[2200,2800,3100, 3500, 4000, 4500, 5000, 5500, 6000, 8000]\n",
    "n=[8800,8800,8800, 8800,8800,8800, 8800,8800,8800, 8800]\n",
    "\n",
    "fpr_results =[]\n",
    "for t1,t2,t3,t4 in zip(k,l,m,n):\n",
    "    FPR = compute_FPR(logit_gaussian3, t1,t2, attr_gaussian3,t3,t4)\n",
    "    fpr_results.append(FPR/100)\n",
    "print(fpr_results)"
   ]
  },
  {
   "cell_type": "code",
   "execution_count": 162,
   "id": "6c4b0c4e",
   "metadata": {},
   "outputs": [],
   "source": [
    "df_pgd_eps1 = pd.read_csv(\"adaptive_CIFAR_PGD_logitmatch.csv\")"
   ]
  },
  {
   "cell_type": "code",
   "execution_count": 163,
   "id": "5d3f8c7d",
   "metadata": {},
   "outputs": [],
   "source": [
    "attr_gaussian3_eps1 = df_pgd_eps1.iloc[2].values.flatten().tolist()[1:]\n",
    "logit_gaussian3_eps1 = df_pgd_eps1.iloc[5].values.flatten().tolist()[1:]"
   ]
  },
  {
   "cell_type": "code",
   "execution_count": 164,
   "id": "84152d83",
   "metadata": {},
   "outputs": [
    {
     "name": "stdout",
     "output_type": "stream",
     "text": [
      "0.8036824485891918\n"
     ]
    }
   ],
   "source": [
    "tpr_results =[]\n",
    "for t1,t2,t3,t4 in zip(k,l,m,n):\n",
    "    TPR = compute_TPR(logit_gaussian3_eps1, t1,t2, attr_gaussian3_eps1,t3,t4)\n",
    "    tpr_results.append(TPR/100)\n",
    "print(sklearn.metrics.auc(fpr_results, tpr_results))"
   ]
  }
 ],
 "metadata": {
  "kernelspec": {
   "display_name": "adv_detection",
   "language": "python",
   "name": "adv_detection"
  },
  "language_info": {
   "codemirror_mode": {
    "name": "ipython",
    "version": 3
   },
   "file_extension": ".py",
   "mimetype": "text/x-python",
   "name": "python",
   "nbconvert_exporter": "python",
   "pygments_lexer": "ipython3",
   "version": "3.8.10"
  }
 },
 "nbformat": 4,
 "nbformat_minor": 5
}
